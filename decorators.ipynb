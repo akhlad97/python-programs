{
 "cells": [
  {
   "cell_type": "code",
   "execution_count": 1,
   "id": "85c39c7a",
   "metadata": {},
   "outputs": [],
   "source": [
    "## function copy \n",
    "def welcome():\n",
    "    print(\"Welcome to the Python script!\")"
   ]
  },
  {
   "cell_type": "code",
   "execution_count": 3,
   "id": "5923f652",
   "metadata": {},
   "outputs": [
    {
     "name": "stdout",
     "output_type": "stream",
     "text": [
      "Welcome to the Python script!\n",
      "None\n",
      "Welcome to the Python script!\n",
      "None\n"
     ]
    }
   ],
   "source": [
    "wel=welcome\n",
    "print(wel())\n",
    "del welcome\n",
    "print(wel())"
   ]
  },
  {
   "cell_type": "code",
   "execution_count": 4,
   "id": "a73e801b",
   "metadata": {},
   "outputs": [
    {
     "name": "stdout",
     "output_type": "stream",
     "text": [
      "welcome to advanced python course\n",
      "please learn this concept properly\n"
     ]
    }
   ],
   "source": [
    "# closures \n",
    "def main_welcome():\n",
    "    msg = \"Welcome to the Python script!\"\n",
    "    def sub_welcome():\n",
    "        print(\"welcome to advanced python course\")\n",
    "        print(\"please learn this concept properly\")\n",
    "        \n",
    "    return sub_welcome()\n",
    "main_welcome()"
   ]
  },
  {
   "cell_type": "code",
   "execution_count": 10,
   "id": "70f752cd",
   "metadata": {},
   "outputs": [
    {
     "name": "stdout",
     "output_type": "stream",
     "text": [
      "welcome to advanced python course\n",
      "Welcome to the Python script!\n",
      "please learn this concept properly\n"
     ]
    }
   ],
   "source": [
    "def main_welcome():\n",
    "    msg = \"Welcome to the Python script!\"\n",
    "    def sub_welcome():\n",
    "        print(\"welcome to advanced python course\")\n",
    "        print(msg)\n",
    "        print(\"please learn this concept properly\")\n",
    "    \n",
    "    return sub_welcome()\n",
    "\n",
    "main_welcome()"
   ]
  },
  {
   "cell_type": "code",
   "execution_count": 11,
   "id": "797f4618",
   "metadata": {},
   "outputs": [
    {
     "name": "stdout",
     "output_type": "stream",
     "text": [
      "welcome to advanced python course\n",
      "Welcome to the Python script!\n",
      "please learn this concept properly\n"
     ]
    }
   ],
   "source": [
    "def main_welcome():\n",
    "    msg = \"Welcome to the Python script!\"\n",
    "    def sub_welcome():\n",
    "        print(\"welcome to advanced python course\")\n",
    "        print(msg)\n",
    "        print(\"please learn this concept properly\")\n",
    "    \n",
    "    return sub_welcome\n",
    "\n",
    "main_welcome()()"
   ]
  },
  {
   "cell_type": "code",
   "execution_count": 15,
   "id": "a4bb1a5b",
   "metadata": {},
   "outputs": [
    {
     "name": "stdout",
     "output_type": "stream",
     "text": [
      "welcome to advanced python course\n",
      "Welcome to the Python script!\n",
      "please learn this concept properly\n"
     ]
    }
   ],
   "source": [
    "def main_welcome(func):\n",
    "    msg = \"Welcome to the Python script!\"\n",
    "    def sub_welcome():\n",
    "        print(\"welcome to advanced python course\")\n",
    "        func(msg)\n",
    "        print(\"please learn this concept properly\")\n",
    "        \n",
    "        \n",
    "    return sub_welcome()\n",
    "    \n",
    "main_welcome(print) # passing built function as argument"
   ]
  },
  {
   "cell_type": "code",
   "execution_count": 17,
   "metadata": {},
   "outputs": [
    {
     "name": "stdout",
     "output_type": "stream",
     "text": [
      "welcome to advanced python course\n",
      "29\n",
      "please learn this concept properly\n"
     ]
    }
   ],
   "source": [
    "def main_welconme(func):\n",
    "    msg = \"Welcome to the Python script!\"\n",
    "    def sub_welcome():\n",
    "        print(\"welcome to advanced python course\")\n",
    "        print(func(msg))\n",
    "        print(\"please learn this concept properly\")\n",
    "        \n",
    "    return sub_welcome\n",
    "\n",
    "main_welconme(len)() # passing built function as argument"
   ]
  },
  {
   "cell_type": "code",
   "execution_count": 28,
   "id": "e4ecac63",
   "metadata": {},
   "outputs": [],
   "source": [
    "def main_welcome(func):\n",
    "    msg = \"Welcome to the Python script!\"\n",
    "    def sub_welcome():\n",
    "        print(\"welcome to advanced python course\")\n",
    "        func()\n",
    "        print(\"please learn this concept properly\")\n",
    "        \n",
    "    return sub_welcome()\n",
    "    \n"
   ]
  },
  {
   "cell_type": "code",
   "execution_count": 29,
   "id": "907c42fd",
   "metadata": {},
   "outputs": [
    {
     "name": "stdout",
     "output_type": "stream",
     "text": [
      "welcome to advanced python course\n",
      "This is an advanced Python course.\n",
      "We will cover closures, decorators, and more.\n",
      "please learn this concept properly\n"
     ]
    }
   ],
   "source": [
    "def course_introduction():\n",
    "    print(\"This is an advanced Python course.\")\n",
    "    print(\"We will cover closures, decorators, and more.\")\n",
    "\n",
    "main_welcome(course_introduction) # "
   ]
  },
  {
   "cell_type": "code",
   "execution_count": 30,
   "id": "5de449b2",
   "metadata": {},
   "outputs": [
    {
     "name": "stdout",
     "output_type": "stream",
     "text": [
      "welcome to advanced python course\n",
      "This is an advanced Python course.\n",
      "We will cover closures, decorators, and more.\n",
      "please learn this concept properly\n"
     ]
    }
   ],
   "source": [
    "@main_welcome\n",
    "def course_intrpduction():\n",
    "    print(\"This is an advanced Python course.\")\n",
    "    print(\"We will cover closures, decorators, and more.\")"
   ]
  }
 ],
 "metadata": {
  "kernelspec": {
   "display_name": "Python 3",
   "language": "python",
   "name": "python3"
  },
  "language_info": {
   "codemirror_mode": {
    "name": "ipython",
    "version": 3
   },
   "file_extension": ".py",
   "mimetype": "text/x-python",
   "name": "python",
   "nbconvert_exporter": "python",
   "pygments_lexer": "ipython3",
   "version": "3.12.7"
  }
 },
 "nbformat": 4,
 "nbformat_minor": 5
}
