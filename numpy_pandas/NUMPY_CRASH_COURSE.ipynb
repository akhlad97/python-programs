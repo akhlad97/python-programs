{
 "cells": [
  {
   "cell_type": "markdown",
   "id": "24e9b567",
   "metadata": {},
   "source": [
    "### What is Numpy?\n",
    "- NumPy is the fundamental package for scientific computing in Python\n",
    "- It is a Python library that provides a multidimensional array object, various derived objects\n",
    "(such as masked arrays and matrices)\n",
    "- At the core of the NumPy package, is the ndarray object. This encapsulates n-dimensional\n",
    "arrays of homogeneous data types\n"
   ]
  },
  {
   "cell_type": "code",
   "execution_count": 5,
   "id": "ffff4e03",
   "metadata": {},
   "outputs": [
    {
     "name": "stdout",
     "output_type": "stream",
     "text": [
      "[  1   2   3   4 555  65  70]\n",
      "[[12 23 45 56]\n",
      " [12 34 56 78]]\n"
     ]
    }
   ],
   "source": [
    "# Creating numpy array \n",
    "import numpy as np \n",
    "np.array([1,2,3,4,555,65,70]) # 1 D array\n",
    "arr=np.array([1,2,3,4,555,65,70]) # vector\n",
    "print(arr)\n",
    "\n",
    "## 2 D array (marrix)\n",
    "arr=np.array([[12,23,45,56],[12,34,56,78]]) ### the shape should be same \n",
    "print(arr)"
   ]
  },
  {
   "cell_type": "markdown",
   "id": "a6e1b4a6",
   "metadata": {},
   "source": [
    "### dtype\n",
    "- The desired data-type for the array. If not given, then the type willbe determined as the\n",
    "minimum type required to hold the objects in thesequence"
   ]
  },
  {
   "cell_type": "code",
   "execution_count": 11,
   "id": "d5de48eb",
   "metadata": {},
   "outputs": [
    {
     "name": "stdout",
     "output_type": "stream",
     "text": [
      "[12. 23. 34. 56. 60.]\n",
      "[12 23 34 56 60]\n",
      "['12' '23' '34' '56' '60']\n",
      "[ True  True  True  True False]\n",
      "[12.+0.j 23.+0.j 34.+0.j 56.+0.j 60.+0.j]\n"
     ]
    }
   ],
   "source": [
    "arr=np.array([12,23,34,56,60], dtype=float)\n",
    "print(arr)\n",
    "\n",
    "arr=np.array([12,23,34,56,60], dtype=int)\n",
    "print(arr)\n",
    "\n",
    "arr=np.array([12,23,34,56,60], dtype=str)\n",
    "print(arr)\n",
    "\n",
    "arr=np.array([12,23,34,56,0], dtype=bool) # if non sero value in array , it will give True else it will give False\n",
    "print(arr)\n",
    "\n",
    "arr=np.array([12,23,34,56,60], dtype=complex)\n",
    "print(arr)\n"
   ]
  },
  {
   "cell_type": "markdown",
   "id": "c59ff776",
   "metadata": {},
   "source": [
    "#### Numpy Arrays Vs Python Sequences\n",
    "- NumPy arrays have a fixed size at creation, unlike Python lists (which can grow dynamically).\n",
    "- Changing the size of an ndarray will create a new array and delete the original.\n",
    "- The elements in a NumPy array are all required to be of the same data type, and thus will be\n",
    "the same size in memory.\n",
    "- NumPy arrays facilitate advanced mathematical and other types of operations on large\n",
    "numbers of data. Typically, such operations are executed more efficiently and with less code\n",
    "than is possible using Python’s built-in sequences"
   ]
  },
  {
   "cell_type": "markdown",
   "id": "bae14534",
   "metadata": {},
   "source": [
    "### arange\n",
    "- arange can be called with a varying number of positional arguments"
   ]
  },
  {
   "cell_type": "code",
   "execution_count": 13,
   "id": "5db2e8e9",
   "metadata": {},
   "outputs": [
    {
     "name": "stdout",
     "output_type": "stream",
     "text": [
      "[ 1  2  3  4  5  6  7  8  9 10 11 12 13 14 15 16 17 18 19 20 21 22 23 24]\n",
      "[ 1  3  5  7  9 11 13 15 17 19 21 23]\n"
     ]
    }
   ],
   "source": [
    "arr=np.arange(1, 25) # 1 include 25th is exclude , it will print the sequence till 24 \n",
    "print(arr)\n",
    "\n",
    "arr=np.arange(1,25,2) ## lower upper and step\n",
    "print(arr)\n"
   ]
  },
  {
   "cell_type": "markdown",
   "id": "814124ba",
   "metadata": {},
   "source": [
    "### reshape\n",
    "- Both of number products should be equal to umber of Items present inside the array."
   ]
  },
  {
   "cell_type": "code",
   "execution_count": 18,
   "metadata": {},
   "outputs": [
    {
     "name": "stdout",
     "output_type": "stream",
     "text": [
      "[[ 1  2]\n",
      " [ 3  4]\n",
      " [ 5  6]\n",
      " [ 7  8]\n",
      " [ 9 10]\n",
      " [11 12]]\n",
      "[[ 1  2  3  4]\n",
      " [ 5  6  7  8]\n",
      " [ 9 10 11 12]]\n",
      "[[ 1  2  3]\n",
      " [ 4  5  6]\n",
      " [ 7  8  9]\n",
      " [10 11 12]]\n"
     ]
    }
   ],
   "source": [
    "arr=np.arange(1,13).reshape(6,2) ### 6rows and 2 columns \n",
    "print(arr)\n",
    "\n",
    "arr=np.arange(1,13).reshape(3,4) ## 3 rows and 4 columns\n",
    "print(arr)\n",
    "\n",
    "arr=np.arange(1,13).reshape(4,3) ## 4 rows and 3 columns\n",
    "print(arr)"
   ]
  },
  {
   "cell_type": "markdown",
   "id": "7e93cd2d",
   "metadata": {},
   "source": [
    "### ones & Zeros\n",
    "- you can initialize the values and create values . ex: in deep learning weight shape"
   ]
  },
  {
   "cell_type": "code",
   "execution_count": 24,
   "id": "9310c4cf",
   "metadata": {},
   "outputs": [
    {
     "name": "stdout",
     "output_type": "stream",
     "text": [
      "[[1. 1. 1. 1.]\n",
      " [1. 1. 1. 1.]\n",
      " [1. 1. 1. 1.]]\n",
      "[[0. 0. 0. 0.]\n",
      " [0. 0. 0. 0.]\n",
      " [0. 0. 0. 0.]]\n",
      "[[1 1 1 1]\n",
      " [1 1 1 1]\n",
      " [1 1 1 1]]\n",
      "[[0 0 0 0]\n",
      " [0 0 0 0]\n",
      " [0 0 0 0]]\n",
      "[['1' '1' '1' '1']\n",
      " ['1' '1' '1' '1']\n",
      " ['1' '1' '1' '1']]\n",
      "[['' '' '' '']\n",
      " ['' '' '' '']\n",
      " ['' '' '' '']]\n",
      "[[1.+0.j 1.+0.j 1.+0.j 1.+0.j]\n",
      " [1.+0.j 1.+0.j 1.+0.j 1.+0.j]\n",
      " [1.+0.j 1.+0.j 1.+0.j 1.+0.j]]\n",
      "[[0.+0.j 0.+0.j 0.+0.j 0.+0.j]\n",
      " [0.+0.j 0.+0.j 0.+0.j 0.+0.j]\n",
      " [0.+0.j 0.+0.j 0.+0.j 0.+0.j]]\n"
     ]
    }
   ],
   "source": [
    "arr=np.ones((3,4)) # mentioned inside tuple \n",
    "print(arr)\n",
    "\n",
    "arr=np.zeros((3,4)) # mentioned inside tuple \n",
    "print(arr)\n",
    "\n",
    "arr=np.ones((3,4),dtype=int) # mentioned inside tuple \n",
    "print(arr)\n",
    "\n",
    "arr=np.zeros((3,4),dtype=int) # mentioned inside tuple \n",
    "print(arr)\n",
    "\n",
    "arr=np.ones((3,4),dtype=str) # mentioned inside tuple \n",
    "print(arr)\n",
    "\n",
    "arr=np.zeros((3,4),dtype=str) # mentioned inside tuple \n",
    "print(arr)\n",
    "\n",
    "arr=np.ones((3,4),dtype=complex) # mentioned inside tuple \n",
    "print(arr)\n",
    "\n",
    "arr=np.zeros((3,4),dtype=complex) # mentioned inside tuple \n",
    "print(arr)"
   ]
  },
  {
   "cell_type": "code",
   "execution_count": 32,
   "metadata": {},
   "outputs": [
    {
     "name": "stdout",
     "output_type": "stream",
     "text": [
      "[[0.25584594 0.59738409 0.48652995 0.33272104]\n",
      " [0.25667487 0.31992479 0.71933143 0.50988131]\n",
      " [0.8313525  0.56250373 0.20765155 0.54759417]]\n",
      "[0 1]\n",
      "[[-1.7544763  -0.05069207  0.65508088 -0.45061261]\n",
      " [ 0.30168512 -0.86642608  0.74867159  1.2362263 ]]\n",
      "2\n"
     ]
    },
    {
     "name": "stderr",
     "output_type": "stream",
     "text": [
      "C:\\Users\\Home\\AppData\\Local\\Temp\\ipykernel_10512\\1266484363.py:12: DeprecationWarning: This function is deprecated. Please call randint(2, 4 + 1) instead\n",
      "  arr=np.random.random_integers(2,4)\n"
     ]
    }
   ],
   "source": [
    "# Another Type ---> random()\n",
    "\n",
    "arr=np.random.random((3,4))\n",
    "print(arr)\n",
    "\n",
    "arr=np.random.randint((3,4))\n",
    "print(arr)\n",
    "\n",
    "arr=np.random.randn(2,4)\n",
    "print(arr)\n",
    "\n",
    "arr=np.random.random_integers(2,4)\n",
    "print(arr)"
   ]
  },
  {
   "cell_type": "markdown",
   "id": "9c40bb3a",
   "metadata": {},
   "source": [
    "### linspace\n",
    "- It is also called as Linearly space , Linearly separable,in a given range at equal distance it\n",
    "creates points."
   ]
  },
  {
   "cell_type": "code",
   "execution_count": 37,
   "metadata": {},
   "outputs": [
    {
     "name": "stdout",
     "output_type": "stream",
     "text": [
      "[-10.          -9.59183673  -9.18367347  -8.7755102   -8.36734694\n",
      "  -7.95918367  -7.55102041  -7.14285714  -6.73469388  -6.32653061\n",
      "  -5.91836735  -5.51020408  -5.10204082  -4.69387755  -4.28571429\n",
      "  -3.87755102  -3.46938776  -3.06122449  -2.65306122  -2.24489796\n",
      "  -1.83673469  -1.42857143  -1.02040816  -0.6122449   -0.20408163\n",
      "   0.20408163   0.6122449    1.02040816   1.42857143   1.83673469\n",
      "   2.24489796   2.65306122   3.06122449   3.46938776   3.87755102\n",
      "   4.28571429   4.69387755   5.10204082   5.51020408   5.91836735\n",
      "   6.32653061   6.73469388   7.14285714   7.55102041   7.95918367\n",
      "   8.36734694   8.7755102    9.18367347   9.59183673  10.        ]\n",
      "[-10 -10 -10  -9  -9  -8  -8  -8  -7  -7  -6  -6  -6  -5  -5  -4  -4  -4\n",
      "  -3  -3  -2  -2  -2  -1  -1   0   0   1   1   1   2   2   3   3   3   4\n",
      "   4   5   5   5   6   6   7   7   7   8   8   9   9  10]\n",
      "[-10.          -9.59183673  -9.18367347  -8.7755102   -8.36734694\n",
      "  -7.95918367  -7.55102041  -7.14285714  -6.73469388  -6.32653061\n",
      "  -5.91836735  -5.51020408  -5.10204082  -4.69387755  -4.28571429\n",
      "  -3.87755102  -3.46938776  -3.06122449  -2.65306122  -2.24489796\n",
      "  -1.83673469  -1.42857143  -1.02040816  -0.6122449   -0.20408163\n",
      "   0.20408163   0.6122449    1.02040816   1.42857143   1.83673469\n",
      "   2.24489796   2.65306122   3.06122449   3.46938776   3.87755102\n",
      "   4.28571429   4.69387755   5.10204082   5.51020408   5.91836735\n",
      "   6.32653061   6.73469388   7.14285714   7.55102041   7.95918367\n",
      "   8.36734694   8.7755102    9.18367347   9.59183673  10.        ]\n",
      "['-10.0' '-9.591836734693878' '-9.183673469387756' '-8.775510204081632'\n",
      " '-8.36734693877551' '-7.959183673469388' '-7.551020408163265'\n",
      " '-7.142857142857142' '-6.73469387755102' '-6.326530612244898'\n",
      " '-5.918367346938775' '-5.5102040816326525' '-5.1020408163265305'\n",
      " '-4.6938775510204085' '-4.285714285714286' '-3.8775510204081627'\n",
      " '-3.4693877551020407' '-3.0612244897959187' '-2.6530612244897958'\n",
      " '-2.244897959183673' '-1.8367346938775508' '-1.4285714285714288'\n",
      " '-1.020408163265305' '-0.612244897959183' '-0.204081632653061'\n",
      " '0.204081632653061' '0.612244897959183' '1.0204081632653068'\n",
      " '1.4285714285714288' '1.8367346938775508' '2.2448979591836746'\n",
      " '2.6530612244897966' '3.0612244897959187' '3.4693877551020407'\n",
      " '3.8775510204081627' '4.2857142857142865' '4.6938775510204085'\n",
      " '5.1020408163265305' '5.510204081632654' '5.918367346938776'\n",
      " '6.326530612244898' '6.73469387755102' '7.142857142857142'\n",
      " '7.551020408163264' '7.95918367346939' '8.367346938775512'\n",
      " '8.775510204081634' '9.183673469387756' '9.591836734693878' '10.0']\n",
      "[-10.        +0.j  -9.59183673+0.j  -9.18367347+0.j  -8.7755102 +0.j\n",
      "  -8.36734694+0.j  -7.95918367+0.j  -7.55102041+0.j  -7.14285714+0.j\n",
      "  -6.73469388+0.j  -6.32653061+0.j  -5.91836735+0.j  -5.51020408+0.j\n",
      "  -5.10204082+0.j  -4.69387755+0.j  -4.28571429+0.j  -3.87755102+0.j\n",
      "  -3.46938776+0.j  -3.06122449+0.j  -2.65306122+0.j  -2.24489796+0.j\n",
      "  -1.83673469+0.j  -1.42857143+0.j  -1.02040816+0.j  -0.6122449 +0.j\n",
      "  -0.20408163+0.j   0.20408163+0.j   0.6122449 +0.j   1.02040816+0.j\n",
      "   1.42857143+0.j   1.83673469+0.j   2.24489796+0.j   2.65306122+0.j\n",
      "   3.06122449+0.j   3.46938776+0.j   3.87755102+0.j   4.28571429+0.j\n",
      "   4.69387755+0.j   5.10204082+0.j   5.51020408+0.j   5.91836735+0.j\n",
      "   6.32653061+0.j   6.73469388+0.j   7.14285714+0.j   7.55102041+0.j\n",
      "   7.95918367+0.j   8.36734694+0.j   8.7755102 +0.j   9.18367347+0.j\n",
      "   9.59183673+0.j  10.        +0.j]\n"
     ]
    }
   ],
   "source": [
    "arr=np.linspace(-10,10,50) # lower ,upper ,number element to  generate, especially used for to generate the points\n",
    "print(arr)\n",
    "\n",
    "arr=np.linspace(-10,10,50,dtype=int) # lower ,upper ,number element to  generate, especially used for to generate the points\n",
    "print(arr)\n",
    "\n",
    "arr=np.linspace(-10,10,50,dtype=float) # lower ,upper ,number element to  generate, especially used for to generate the points\n",
    "print(arr)\n",
    "\n",
    "arr=np.linspace(-10,10,50,dtype=str) # lower ,upper ,number element to  generate, especially used for to generate the points\n",
    "print(arr)\n",
    "\n",
    "arr=np.linspace(-10,10,50,dtype=complex) # lower ,upper ,number element to  generate, especially used for to generate the points\n",
    "print(arr)"
   ]
  },
  {
   "cell_type": "markdown",
   "id": "d372c460",
   "metadata": {},
   "source": [
    "### identity\n",
    "- indentity matrix is that diagonal items will be ones and evrything will be zeros"
   ]
  },
  {
   "cell_type": "code",
   "execution_count": 39,
   "id": "f07f907d",
   "metadata": {},
   "outputs": [
    {
     "name": "stdout",
     "output_type": "stream",
     "text": [
      "[[1. 0. 0.]\n",
      " [0. 1. 0.]\n",
      " [0. 0. 1.]]\n"
     ]
    }
   ],
   "source": [
    "arr=np.identity(3)\n",
    "print(arr)"
   ]
  },
  {
   "cell_type": "markdown",
   "id": "3d01e463",
   "metadata": {},
   "source": [
    "### Array Attributes"
   ]
  },
  {
   "cell_type": "code",
   "execution_count": 43,
   "id": "3756579d",
   "metadata": {},
   "outputs": [
    {
     "name": "stdout",
     "output_type": "stream",
     "text": [
      "[0 1 2 3 4 5 6 7 8 9]\n",
      "[[0 1]\n",
      " [2 3]\n",
      " [4 5]\n",
      " [6 7]\n",
      " [8 9]]\n",
      "[[ 0.  1.  2.  3.]\n",
      " [ 4.  5.  6.  7.]\n",
      " [ 8.  9. 10. 11.]]\n",
      "[[[0. 1.]\n",
      "  [2. 3.]]\n",
      "\n",
      " [[4. 5.]\n",
      "  [6. 7.]]]\n"
     ]
    }
   ],
   "source": [
    "arr=np.arange(10)\n",
    "print(arr)\n",
    "\n",
    "arr=arr.reshape(5,2)\n",
    "print(arr)\n",
    "\n",
    "arr=np.arange(12, dtype=float).reshape(3,4) ## metrix \n",
    "print(arr)\n",
    "\n",
    "arr=np.arange(8 ,dtype=float).reshape(2,2,2) ## tesnor 3 d array\n",
    "print(arr)\n",
    "\n",
    "\n"
   ]
  },
  {
   "cell_type": "code",
   "execution_count": null,
   "metadata": {},
   "outputs": [
    {
     "name": "stdout",
     "output_type": "stream",
     "text": [
      "3\n",
      "(2, 2, 2)\n",
      "8\n",
      "8\n",
      "float64\n",
      "int64\n"
     ]
    }
   ],
   "source": [
    "# ndim : To findout given arrays number of dimensions\n",
    "\n",
    "print(arr.ndim)\n",
    " ## shape , given number of dimentions \n",
    "print(arr.shape)\n",
    "\n",
    "print(arr.size) ## given number of item in array\n",
    "\n",
    "print(arr.itemsize) ### memory occupied by the items, # integer 64 gives = 8 bytes\n",
    "\n",
    "print(arr.dtype) # given data type of items\n",
    "\n",
    "arr=arr.astype(int) ## changin data type of item\n",
    "print(arr.dtype)"
   ]
  },
  {
   "cell_type": "markdown",
   "id": "2ef3c5cd",
   "metadata": {},
   "source": [
    "### Array operations"
   ]
  },
  {
   "cell_type": "code",
   "execution_count": 53,
   "id": "0af04bc7",
   "metadata": {},
   "outputs": [
    {
     "name": "stdout",
     "output_type": "stream",
     "text": [
      "[[ 0  1  2  3]\n",
      " [ 4  5  6  7]\n",
      " [ 8  9 10 11]]\n",
      "[[12 13 14 15]\n",
      " [16 17 18 19]\n",
      " [20 21 22 23]]\n"
     ]
    }
   ],
   "source": [
    "arr1=np.arange(12).reshape(3,4)\n",
    "arr2=np.arange(12,24).reshape(3,4)\n",
    "print(arr1)\n",
    "print(arr2)"
   ]
  },
  {
   "cell_type": "markdown",
   "id": "b6e90835",
   "metadata": {},
   "source": [
    "### scalar operations\n",
    "- Scalar operations on Numpy arrays include performing addition or subtraction, or multiplication\n",
    "on each element of a Numpy array."
   ]
  },
  {
   "cell_type": "code",
   "execution_count": 55,
   "metadata": {},
   "outputs": [
    {
     "name": "stdout",
     "output_type": "stream",
     "text": [
      "[[ 2  3  4  5]\n",
      " [ 6  7  8  9]\n",
      " [10 11 12 13]]\n",
      "[[-2 -1  0  1]\n",
      " [ 2  3  4  5]\n",
      " [ 6  7  8  9]]\n",
      "[[ 0  2  4  6]\n",
      " [ 8 10 12 14]\n",
      " [16 18 20 22]]\n",
      "[[0.  0.5 1.  1.5]\n",
      " [2.  2.5 3.  3.5]\n",
      " [4.  4.5 5.  5.5]]\n",
      "[[0 1 0 1]\n",
      " [0 1 0 1]\n",
      " [0 1 0 1]]\n",
      "[[0 0 1 1]\n",
      " [2 2 3 3]\n",
      " [4 4 5 5]]\n",
      "[[  0   1   4   9]\n",
      " [ 16  25  36  49]\n",
      " [ 64  81 100 121]]\n"
     ]
    }
   ],
   "source": [
    "print(arr1+2)\n",
    "print(arr1-2)\n",
    "print(arr1*2)\n",
    "print(arr1/2)\n",
    "print(arr1%2)\n",
    "print(arr1//2)\n",
    "print(arr1**2)\n"
   ]
  },
  {
   "cell_type": "markdown",
   "id": "5ccf745c",
   "metadata": {},
   "source": [
    "### relational Operators\n",
    "- The relational operators are also known as comparison operators, their main function is to\n",
    "return either a true or false based on the value of operands"
   ]
  },
  {
   "cell_type": "code",
   "execution_count": null,
   "metadata": {},
   "outputs": [
    {
     "name": "stdout",
     "output_type": "stream",
     "text": [
      "[[False False False  True]\n",
      " [ True  True  True  True]\n",
      " [ True  True  True  True]]\n"
     ]
    }
   ],
   "source": [
    "print(arr1>2) ### any value prenset in side ndarray is greater than 2 it will give  true else flase\n"
   ]
  },
  {
   "cell_type": "markdown",
   "id": "388f95a9",
   "metadata": {},
   "source": [
    "### Vector Operation\n",
    "- We can apply on both numpy array"
   ]
  },
  {
   "cell_type": "code",
   "execution_count": null,
   "id": "772f0f1d",
   "metadata": {},
   "outputs": [
    {
     "name": "stdout",
     "output_type": "stream",
     "text": [
      "[[12 14 16 18]\n",
      " [20 22 24 26]\n",
      " [28 30 32 34]]\n",
      "[[-12 -12 -12 -12]\n",
      " [-12 -12 -12 -12]\n",
      " [-12 -12 -12 -12]]\n",
      "[[0.         0.07692308 0.14285714 0.2       ]\n",
      " [0.25       0.29411765 0.33333333 0.36842105]\n",
      " [0.4        0.42857143 0.45454545 0.47826087]]\n",
      "[[0 0 0 0]\n",
      " [0 0 0 0]\n",
      " [0 0 0 0]]\n",
      "[[  0  13  28  45]\n",
      " [ 64  85 108 133]\n",
      " [160 189 220 253]]\n",
      "[[                   0                    1                16384\n",
      "              14348907]\n",
      " [          4294967296         762939453125      101559956668416\n",
      "     11398895185373143]\n",
      " [ 1152921504606846976 -1261475310744950487  1864712049423024128\n",
      "   6839173302027254275]]\n"
     ]
    }
   ],
   "source": [
    "# arithmetic operation, operatiosn will on repective index location\n",
    "print(arr1+arr2)\n",
    "print(arr1-arr2)\n",
    "print(arr1/arr2)\n",
    "print(arr1//arr2)\n",
    "print(arr1*arr2)\n",
    "print(arr1**arr2)"
   ]
  },
  {
   "cell_type": "markdown",
   "id": "7f092b93",
   "metadata": {},
   "source": [
    "### Array functions"
   ]
  },
  {
   "cell_type": "code",
   "execution_count": 59,
   "id": "861e78e0",
   "metadata": {},
   "outputs": [
    {
     "name": "stdout",
     "output_type": "stream",
     "text": [
      "[[0.39672226 0.12821952 0.90114171]\n",
      " [0.76990091 0.64322956 0.39159896]\n",
      " [0.28059391 0.91002176 0.62041065]]\n"
     ]
    }
   ],
   "source": [
    "arr1=np.random.random((3,3))\n",
    "print(arr1)"
   ]
  },
  {
   "cell_type": "code",
   "execution_count": 60,
   "id": "368bf46c",
   "metadata": {},
   "outputs": [
    {
     "name": "stdout",
     "output_type": "stream",
     "text": [
      "[[40. 13. 90.]\n",
      " [77. 64. 39.]\n",
      " [28. 91. 62.]]\n"
     ]
    }
   ],
   "source": [
    "arr1=np.round(arr1*100)\n",
    "print(arr1)"
   ]
  },
  {
   "cell_type": "code",
   "execution_count": 63,
   "metadata": {},
   "outputs": [
    {
     "name": "stdout",
     "output_type": "stream",
     "text": [
      "13.0\n",
      "91.0\n",
      "504.0\n",
      "1420928654745600.0\n"
     ]
    }
   ],
   "source": [
    "print(np.min(arr1)) # it will minimum value from array\n",
    "print(np.max(arr1)) # it will give max value from arr1 array\n",
    "print(np.sum(arr1)) # it will add all elements of array and return the sum of\n",
    "print(np.prod(arr1)) ## it will multiply off all elemets an return the that\n",
    "\n",
    "\n"
   ]
  },
  {
   "cell_type": "markdown",
   "id": "d3f9efc6",
   "metadata": {},
   "source": [
    "### In numpy \n",
    "- 0==Column , 1== row"
   ]
  },
  {
   "cell_type": "code",
   "execution_count": null,
   "metadata": {},
   "outputs": [
    {
     "name": "stdout",
     "output_type": "stream",
     "text": [
      "[90. 77. 91.]\n",
      "[13. 39. 28.]\n",
      "[143. 180. 181.]\n",
      "[ 46800. 192192. 157976.]\n"
     ]
    }
   ],
   "source": [
    "# operations row wise \n",
    "print(np.max(arr1,axis=1)) ## it will give max value from each row in array \n",
    "print(np.min(arr1,axis=1)) ## it will give min value from each row in array\n",
    "print(np.sum(arr1,axis=1))## it will add element row wise and return the eaxh row sum\n",
    "print(np.prod(arr1,axis=1))## it will multiply of each row elemnt an return the each element row multiplication\n",
    "\n"
   ]
  },
  {
   "cell_type": "code",
   "execution_count": 65,
   "id": "08daa1f1",
   "metadata": {},
   "outputs": [
    {
     "name": "stdout",
     "output_type": "stream",
     "text": [
      "[77. 91. 90.]\n",
      "[28. 13. 39.]\n",
      "[145. 168. 191.]\n",
      "[ 86240.  75712. 217620.]\n"
     ]
    }
   ],
   "source": [
    "# operations columns wise \n",
    "print(np.max(arr1,axis=0)) ## it will give max value from each column in array \n",
    "print(np.min(arr1,axis=0)) ## it will give min value from each column in array\n",
    "print(np.sum(arr1,axis=0))## it will add element columns wise and return the eaxh columns sum\n",
    "print(np.prod(arr1,axis=0))## it will multiply of each column elemnt an return the each element columns multiplication\n",
    "\n"
   ]
  },
  {
   "cell_type": "markdown",
   "id": "f259c104",
   "metadata": {},
   "source": [
    "### Statistics related fuctions"
   ]
  },
  {
   "cell_type": "code",
   "execution_count": 78,
   "metadata": {},
   "outputs": [
    {
     "name": "stdout",
     "output_type": "stream",
     "text": [
      "56.0\n",
      "[48.33333333 56.         63.66666667]\n",
      "[47.66666667 60.         60.33333333]\n",
      "62.0\n",
      "56.0\n",
      "[47.66666667 60.         60.33333333]\n",
      "[48.33333333 56.         63.66666667]\n",
      "[40. 64. 62.]\n",
      "[40. 64. 62.]\n",
      "26.034165586355517\n",
      "[31.89914663 15.76916823 25.74662869]\n",
      "[20.85398976 32.34192326 20.85398976]\n",
      "26.034165586355517\n",
      "[31.89914663 15.76916823 25.74662869]\n",
      "[20.85398976 32.34192326 20.85398976]\n",
      "677.7777777777778\n",
      "[1017.55555556  248.66666667  662.88888889]\n",
      "[ 434.88888889 1046.          434.88888889]\n",
      "677.7777777777778\n",
      "[1017.55555556  248.66666667  662.88888889]\n",
      "[ 434.88888889 1046.          434.88888889]\n"
     ]
    }
   ],
   "source": [
    "print(arr1.mean()) ## it will return mean of array \n",
    "print(arr1.mean(axis=0)) # it will return mean of each column\n",
    "print(arr1.mean(axis=1))# it will return mean of each row \n",
    "print(np.median(arr1)) ## it will return meadian of array \n",
    "print(np.mean(arr1)) ## it will return mean of array\n",
    "print(np.mean(arr1,axis=1)) ## it will return mean row wise \n",
    "print(np.mean(arr1,axis=0)) ## it will return mean column wise\n",
    "print(np.median(arr1,axis=1)) ## it will return median row wise \n",
    "print(np.median(arr1,axis=0)) ## it will return median column wise \n",
    "\n",
    "print(arr1.std()) ## it will return standarad vediation \n",
    "print(arr1.std(axis=1)) # it will print standard deviation row wise \n",
    "print(arr1.std(axis=0)) # it will retun std column wise \n",
    "\n",
    "print(np.std(arr1)) # it will retunr standard deviation of metrix \n",
    "print(np.std(arr1,axis=1)) # it will return standard deviation row wise \n",
    "print(np.std(arr1,axis=0)) # it will return standarad deviation column wise \n",
    "\n",
    "print(arr1.var()) # it will return varaince of array metrix \n",
    "print(arr1.var(axis=1)) # it will print varaince row wise \n",
    "print(arr1.var(axis=0)) # it will print variance column wise \n",
    "\n",
    "print(np.var(arr1)) # it will return varaince of array metrix \n",
    "print(np.var(arr1,axis=1))# it will return varaince row wise \n",
    "print(np.var(arr1, axis =0)) # it will print variance column wise \n",
    "\n",
    "\n",
    " \n"
   ]
  },
  {
   "cell_type": "markdown",
   "id": "49454e94",
   "metadata": {},
   "source": [
    "### Trignometry Functions"
   ]
  },
  {
   "cell_type": "code",
   "execution_count": 81,
   "id": "64a8071b",
   "metadata": {},
   "outputs": [
    {
     "name": "stdout",
     "output_type": "stream",
     "text": [
      "[[ 0.74511316  0.42016704  0.89399666]\n",
      " [ 0.99952016  0.92002604  0.96379539]\n",
      " [ 0.27090579  0.10598751 -0.7391807 ]]\n",
      "[[-0.66693806  0.90744678 -0.44807362]\n",
      " [-0.03097503  0.39185723  0.26664293]\n",
      " [-0.96260587 -0.99436746  0.67350716]]\n",
      "[[ -1.11721493   0.46302113  -1.99520041]\n",
      " [-32.26857578   2.34786031   3.61455441]\n",
      " [ -0.2814296   -0.10658787  -1.09750978]]\n"
     ]
    }
   ],
   "source": [
    "print(np.sin(arr1)) ## it will return sin values of each element \n",
    "print(np.cos(arr1)) ## it return cos values of each element \n",
    "print(np.tan(arr1)) ## it return tan values of each element "
   ]
  },
  {
   "cell_type": "markdown",
   "id": "7bcabf4a",
   "metadata": {},
   "source": [
    "### dot product\n",
    "- The numpy module of Python provides a function to perform the dot product of two arrays"
   ]
  },
  {
   "cell_type": "code",
   "execution_count": 83,
   "metadata": {},
   "outputs": [
    {
     "name": "stdout",
     "output_type": "stream",
     "text": [
      "[[114 120 126]\n",
      " [378 400 422]\n",
      " [642 680 718]]\n"
     ]
    }
   ],
   "source": [
    "arr1 = np.arange(12).reshape(3,4)\n",
    "arr2 = np.arange(12,24).reshape(4,3)\n",
    "\n",
    "print(np.dot(arr1,arr2))"
   ]
  },
  {
   "cell_type": "markdown",
   "id": "acb7d3d0",
   "metadata": {},
   "source": [
    "### Log and Exponents"
   ]
  },
  {
   "cell_type": "code",
   "execution_count": 88,
   "id": "bd758a33",
   "metadata": {},
   "outputs": [
    {
     "name": "stdout",
     "output_type": "stream",
     "text": [
      "[[      -inf 0.         0.69314718 1.09861229]\n",
      " [1.38629436 1.60943791 1.79175947 1.94591015]\n",
      " [2.07944154 2.19722458 2.30258509 2.39789527]]\n"
     ]
    },
    {
     "name": "stderr",
     "output_type": "stream",
     "text": [
      "C:\\Users\\Home\\AppData\\Local\\Temp\\ipykernel_10512\\3191482829.py:1: RuntimeWarning: divide by zero encountered in log\n",
      "  print(np.log(arr1))\n"
     ]
    }
   ],
   "source": [
    "print(np.log(arr1))\n",
    "\n",
    "\n"
   ]
  },
  {
   "cell_type": "code",
   "execution_count": 86,
   "metadata": {},
   "outputs": [
    {
     "name": "stdout",
     "output_type": "stream",
     "text": [
      "[[1.00000000e+00 2.71828183e+00 7.38905610e+00 2.00855369e+01]\n",
      " [5.45981500e+01 1.48413159e+02 4.03428793e+02 1.09663316e+03]\n",
      " [2.98095799e+03 8.10308393e+03 2.20264658e+04 5.98741417e+04]]\n",
      "[[1.000e+00 2.000e+00 4.000e+00 8.000e+00]\n",
      " [1.600e+01 3.200e+01 6.400e+01 1.280e+02]\n",
      " [2.560e+02 5.120e+02 1.024e+03 2.048e+03]]\n"
     ]
    }
   ],
   "source": [
    "print(np.exp(arr1))\n",
    "print(np.exp2(arr1))"
   ]
  },
  {
   "cell_type": "markdown",
   "id": "33a38c35",
   "metadata": {},
   "source": [
    "round / floor /ceil"
   ]
  },
  {
   "cell_type": "markdown",
   "id": "9911bd49",
   "metadata": {},
   "source": [
    "### round\n",
    "- The numpy.round() function rounds the elements of an array to the nearest integer or to the\n",
    "specified number of decimals."
   ]
  },
  {
   "cell_type": "code",
   "execution_count": 91,
   "id": "17e3e689",
   "metadata": {},
   "outputs": [
    {
     "name": "stdout",
     "output_type": "stream",
     "text": [
      "[1. 3. 4. 5.]\n",
      "[2. 3. 4. 5.]\n",
      "[1. 2. 3. 4.]\n"
     ]
    }
   ],
   "source": [
    "arr = np.array([1.2, 2.7, 3.5, 4.9])\n",
    "print(np.round(arr)) ## it will return value in round figure \n",
    "print(np.ceil(arr)) ## it will return the max  malue in round \n",
    "print(np.floor(arr)) ## it will floor value "
   ]
  },
  {
   "cell_type": "code",
   "execution_count": 92,
   "id": "58ba3b66",
   "metadata": {},
   "outputs": [],
   "source": [
    "arr1 = np.arange(10)\n",
    "arr2= np.arange(12).reshape(3,4)\n",
    "arr3 = np.arange(8).reshape(2,2,2)"
   ]
  },
  {
   "cell_type": "markdown",
   "id": "5aaac31b",
   "metadata": {},
   "source": [
    "### Indexcing on 1 D array"
   ]
  },
  {
   "cell_type": "code",
   "execution_count": null,
   "metadata": {},
   "outputs": [
    {
     "name": "stdout",
     "output_type": "stream",
     "text": [
      "[0 1 2 3 4 5 6 7 8 9]\n",
      "1\n",
      "9\n",
      "3\n",
      "7\n"
     ]
    }
   ],
   "source": [
    "# indexcing on 1 D array\n",
    "print(arr1)\n",
    "print(arr1[1]) # it will return 1ts index element \n",
    "print(arr1[-1]) # it will return last element from array \n",
    "print(arr1[3])\n",
    "print(arr1[-3]) ## it will return 3rd element from last \n",
    "\n"
   ]
  },
  {
   "cell_type": "markdown",
   "id": "2bd55414",
   "metadata": {},
   "source": [
    "### Indexing on 2 D array "
   ]
  },
  {
   "cell_type": "code",
   "execution_count": null,
   "id": "2d4ae2b7",
   "metadata": {},
   "outputs": [
    {
     "name": "stdout",
     "output_type": "stream",
     "text": [
      "[[ 0  1  2  3]\n",
      " [ 4  5  6  7]\n",
      " [ 8  9 10 11]]\n",
      "6\n",
      "3\n",
      "11\n",
      "5\n"
     ]
    }
   ],
   "source": [
    "print(arr2)\n",
    "### fetching desire output 6 from array\n",
    "print(arr2[1,2]) # row and column strt from zero\n",
    "### fetching desire output 3 from array\n",
    "print(arr2[0,3])\n",
    "\n",
    "### fetching desire output 11 from array\n",
    "print(arr2[2,3])\n",
    "\n",
    "### fetching desire output 5 from array\n",
    "print(arr2[1,1])"
   ]
  },
  {
   "cell_type": "markdown",
   "id": "c9eb7f24",
   "metadata": {},
   "source": [
    "### indexing on 3D ( Tensors)\n"
   ]
  },
  {
   "cell_type": "code",
   "execution_count": 108,
   "id": "422e71d9",
   "metadata": {},
   "outputs": [
    {
     "name": "stdout",
     "output_type": "stream",
     "text": [
      "[[[0 1]\n",
      "  [2 3]]\n",
      "\n",
      " [[4 5]\n",
      "  [6 7]]]\n",
      "3\n",
      "7\n",
      "5\n"
     ]
    }
   ],
   "source": [
    "print(arr3)\n",
    "## print desire output 3 \n",
    "print(arr3[0,1,1])\n",
    "\n",
    "## print desire output 7\n",
    "print(arr3[1,1,1])\n",
    "\n",
    "# print desire ouptu 5\n",
    "print(arr3[1,0,1])\n"
   ]
  },
  {
   "cell_type": "markdown",
   "id": "411c0f51",
   "metadata": {},
   "source": [
    "### Slicing\n",
    "Fetching Multiple items"
   ]
  },
  {
   "cell_type": "code",
   "execution_count": null,
   "id": "727beca7",
   "metadata": {},
   "outputs": [
    {
     "name": "stdout",
     "output_type": "stream",
     "text": [
      "[0 1 2 3 4 5 6 7 8 9]\n",
      "[3 4 5]\n",
      "[2 3 4 5 6 7]\n"
     ]
    }
   ],
   "source": [
    "print(arr1)\n",
    "## fetching desire output 3,4 ,5\n",
    "print(arr1[3:6])  #6th index  is exclued \n",
    "print(arr1[2:8])  # 8th index is exclued\n"
   ]
  },
  {
   "cell_type": "markdown",
   "id": "86091f6c",
   "metadata": {},
   "source": [
    "### Slicing on 2D"
   ]
  },
  {
   "cell_type": "code",
   "execution_count": null,
   "id": "84b979f5",
   "metadata": {},
   "outputs": [
    {
     "name": "stdout",
     "output_type": "stream",
     "text": [
      "[[ 0  1  2  3]\n",
      " [ 4  5  6  7]\n",
      " [ 8  9 10 11]]\n",
      "[0 1 2 3]\n",
      "[ 2  6 10]\n",
      "[[ 4  5  6  7]\n",
      " [ 8  9 10 11]]\n",
      "[[ 5  6]\n",
      " [ 9 10]]\n",
      "[[ 0  3]\n",
      " [ 8 11]]\n"
     ]
    }
   ],
   "source": [
    "print(arr2)\n",
    "print(arr2[0,:]) ## fetching first row\n",
    "print(arr2[:,2]) ## fectchin 3rd column\n",
    "\n",
    "## fectchin 5,6 and 9,10\n",
    "print(arr2[1:3]) ## for rows\n",
    "print(arr2[1:3,1:3])\n",
    "\n",
    "print(arr2[::2,::3])\n",
    "\n",
    "# EXPLANATION : Here we take (:) because we want all rows , second(:2) for alternate value,\n",
    "# and (:) for all columns and (:3) jump for two steps\n"
   ]
  },
  {
   "cell_type": "code",
   "execution_count": null,
   "id": "581f5965",
   "metadata": {},
   "outputs": [
    {
     "data": {
      "text/plain": [
       "array([[ 1,  3],\n",
       "       [ 9, 11]])"
      ]
     },
     "execution_count": 123,
     "metadata": {},
     "output_type": "execute_result"
    }
   ],
   "source": [
    "arr2[::2 ,1::2] # columns , arr2[::2] for alternate rows"
   ]
  },
  {
   "cell_type": "code",
   "execution_count": 124,
   "id": "807ce073",
   "metadata": {},
   "outputs": [
    {
     "data": {
      "text/plain": [
       "array([[0]])"
      ]
     },
     "execution_count": 124,
     "metadata": {},
     "output_type": "execute_result"
    }
   ],
   "source": [
    "# slicing on 3 D array\n",
    "arr3[0::2 , 0 , ::2] # for columns\n"
   ]
  },
  {
   "cell_type": "markdown",
   "id": "6fc1ac32",
   "metadata": {},
   "source": [
    "### iterating"
   ]
  },
  {
   "cell_type": "code",
   "execution_count": 125,
   "id": "0b28524d",
   "metadata": {},
   "outputs": [
    {
     "name": "stdout",
     "output_type": "stream",
     "text": [
      "0\n",
      "1\n",
      "2\n",
      "3\n",
      "4\n",
      "5\n",
      "6\n",
      "7\n",
      "8\n",
      "9\n",
      "[0 1 2 3]\n",
      "[4 5 6 7]\n",
      "[ 8  9 10 11]\n",
      "[[0 1]\n",
      " [2 3]]\n",
      "[[4 5]\n",
      " [6 7]]\n"
     ]
    }
   ],
   "source": [
    "for i in arr1:\n",
    "    print(i)\n",
    "\n",
    "for i in arr2:\n",
    "    print(i)\n",
    "    \n",
    "for i in arr3:\n",
    "    print(i)"
   ]
  },
  {
   "cell_type": "code",
   "execution_count": null,
   "metadata": {},
   "outputs": [
    {
     "name": "stdout",
     "output_type": "stream",
     "text": [
      "0\n",
      "1\n",
      "2\n",
      "3\n",
      "4\n",
      "5\n",
      "6\n",
      "7\n"
     ]
    }
   ],
   "source": [
    "# using nditer\n",
    "for i in np.nditer(arr3): # first it will convert into 1  d array\n",
    "    print(i)"
   ]
  },
  {
   "cell_type": "markdown",
   "id": "dfedaf53",
   "metadata": {},
   "source": [
    "### Ravle \n",
    "- convert any dimentions array to 1 d Array\n",
    "\n"
   ]
  },
  {
   "cell_type": "code",
   "execution_count": 127,
   "id": "d2d753ee",
   "metadata": {},
   "outputs": [
    {
     "name": "stdout",
     "output_type": "stream",
     "text": [
      "[ 0  1  2  3  4  5  6  7  8  9 10 11]\n",
      "[0 1 2 3 4 5 6 7]\n"
     ]
    }
   ],
   "source": [
    "print(np.ravel(arr2))\n",
    "print(np.ravel(arr3))"
   ]
  },
  {
   "cell_type": "markdown",
   "id": "4bc1ad78",
   "metadata": {},
   "source": [
    "### Stacking\n",
    "- Stacking is the concept of joining arrays in NumPy. Arrays having the same dimensions can be\n",
    "stacked"
   ]
  },
  {
   "cell_type": "code",
   "execution_count": 130,
   "id": "c1ade1bf",
   "metadata": {},
   "outputs": [
    {
     "data": {
      "text/plain": [
       "array([[ 0,  1,  2,  3, 12, 13, 14, 15],\n",
       "       [ 4,  5,  6,  7, 16, 17, 18, 19],\n",
       "       [ 8,  9, 10, 11, 20, 21, 22, 23]])"
      ]
     },
     "execution_count": 130,
     "metadata": {},
     "output_type": "execute_result"
    }
   ],
   "source": [
    "# Horizontal stacking\n",
    "arr1 = np.arange(12).reshape(3,4)\n",
    "arr2 = np.arange(12,24).reshape(3,4)\n",
    "\n",
    "np.hstack((arr1,arr2))\n"
   ]
  },
  {
   "cell_type": "code",
   "execution_count": 131,
   "metadata": {},
   "outputs": [
    {
     "data": {
      "text/plain": [
       "array([[ 0,  1,  2,  3],\n",
       "       [ 4,  5,  6,  7],\n",
       "       [ 8,  9, 10, 11],\n",
       "       [12, 13, 14, 15],\n",
       "       [16, 17, 18, 19],\n",
       "       [20, 21, 22, 23]])"
      ]
     },
     "execution_count": 131,
     "metadata": {},
     "output_type": "execute_result"
    }
   ],
   "source": [
    "# vertical stacking\n",
    "arr1 = np.arange(12).reshape(3,4)\n",
    "arr2 = np.arange(12,24).reshape(3,4)\n",
    "\n",
    "np.vstack((arr1,arr2))"
   ]
  },
  {
   "cell_type": "markdown",
   "id": "58a0b0bb",
   "metadata": {},
   "source": [
    "### Splitting\n",
    "- its opposite of Stacking"
   ]
  },
  {
   "cell_type": "code",
   "execution_count": 137,
   "metadata": {},
   "outputs": [
    {
     "data": {
      "text/plain": [
       "[array([[0, 1],\n",
       "        [4, 5],\n",
       "        [8, 9]]),\n",
       " array([[ 2,  3],\n",
       "        [ 6,  7],\n",
       "        [10, 11]])]"
      ]
     },
     "execution_count": 137,
     "metadata": {},
     "output_type": "execute_result"
    }
   ],
   "source": [
    "# horizontal splitting \n",
    "np.hsplit(arr1,2) ## split into tow array\n",
    "\n"
   ]
  },
  {
   "cell_type": "code",
   "execution_count": 138,
   "metadata": {},
   "outputs": [
    {
     "data": {
      "text/plain": [
       "[array([[0, 1, 2, 3]]), array([[4, 5, 6, 7]]), array([[ 8,  9, 10, 11]])]"
      ]
     },
     "execution_count": 138,
     "metadata": {},
     "output_type": "execute_result"
    }
   ],
   "source": [
    "## vertical splitting \n",
    "np.vsplit(arr1,3)"
   ]
  },
  {
   "cell_type": "markdown",
   "id": "69c99f67",
   "metadata": {},
   "source": [
    "### Numpy Arrays Vs Python Sequences\n",
    "- NumPy arrays have a fixed size at creation, unlike Python lists (which can grow dynamically).\n",
    "Changing the size of an ndarray will create a new array and delete the original\n",
    "- The elements in a NumPy array are all required to be of the same data type, and thus will be\n",
    "the same size in memory\n",
    "- NumPy arrays facilitate advanced mathematical and other types of operations on large\n",
    "numbers of data. Typically, such operations are executed more efficiently and with less code\n",
    "than is possible using Python’s built-in sequences.\n",
    "- A growing plethora of scientific and mathematical Python-based packages are using NumPy\n",
    "arrays; though these typically support Python-sequence input, they convert such input to\n",
    "NumPy arrays prior to processing, and they often output NumPy arrays"
   ]
  },
  {
   "cell_type": "code",
   "execution_count": 140,
   "metadata": {},
   "outputs": [
    {
     "name": "stdout",
     "output_type": "stream",
     "text": [
      "6.164193630218506\n"
     ]
    }
   ],
   "source": [
    "# Element-wise addition\n",
    "a = [ i for i in range(10000000)]\n",
    "b = [i for i in range(10000000,20000000)]\n",
    "c = []\n",
    "import time\n",
    "start = time.time()\n",
    "for i in range(len(a)):\n",
    "    c.append(a[i] + b[i])\n",
    "print(time.time()-start)"
   ]
  },
  {
   "cell_type": "code",
   "execution_count": 145,
   "metadata": {},
   "outputs": [
    {
     "name": "stdout",
     "output_type": "stream",
     "text": [
      "5.992578983306885\n"
     ]
    }
   ],
   "source": [
    "a=[i for i in range (10000000)]\n",
    "a=[i for i in range (10000000,20000000)]\n",
    "\n",
    "import time \n",
    "\n",
    "start=time.time()\n",
    "for i in range(len(a)):\n",
    "    c.append(a[i]+b[i])\n",
    "\n",
    "print(time.time()-start)\n",
    "\n",
    "\n"
   ]
  },
  {
   "cell_type": "code",
   "execution_count": 146,
   "id": "82baf999",
   "metadata": {},
   "outputs": [
    {
     "name": "stdout",
     "output_type": "stream",
     "text": [
      "0.6883406639099121\n"
     ]
    }
   ],
   "source": [
    "a=np.arange(10000000)\n",
    "b=np.arange(10000000,20000000)\n",
    "\n",
    "start=time.time()\n",
    "c=a+b\n",
    "print(time.time()-start)"
   ]
  },
  {
   "cell_type": "code",
   "execution_count": 148,
   "metadata": {},
   "outputs": [
    {
     "data": {
      "text/plain": [
       "8.705833168808947"
      ]
     },
     "execution_count": 148,
     "metadata": {},
     "output_type": "execute_result"
    }
   ],
   "source": [
    "5.992578983306885 / 0.6883406639099121\n",
    "## so ,Numpy is Faster than Normal Python programming ,we can see in above Example. because Numpy uses C type array"
   ]
  },
  {
   "cell_type": "code",
   "execution_count": null,
   "metadata": {},
   "outputs": [
    {
     "data": {
      "text/plain": [
       "89095160"
      ]
     },
     "execution_count": 149,
     "metadata": {},
     "output_type": "execute_result"
    }
   ],
   "source": [
    "list1=[i for i in range(10000000)]\n",
    "import sys \n",
    "sys.getsizeof(list1)"
   ]
  },
  {
   "cell_type": "code",
   "execution_count": 150,
   "metadata": {},
   "outputs": [
    {
     "data": {
      "text/plain": [
       "80000112"
      ]
     },
     "execution_count": 150,
     "metadata": {},
     "output_type": "execute_result"
    }
   ],
   "source": [
    "arr=np.arange(10000000)\n",
    "sys.getsizeof(arr)"
   ]
  },
  {
   "cell_type": "code",
   "execution_count": 153,
   "metadata": {},
   "outputs": [
    {
     "data": {
      "text/plain": [
       "40000112"
      ]
     },
     "execution_count": 153,
     "metadata": {},
     "output_type": "execute_result"
    }
   ],
   "source": [
    "# we can decrease more in numpy\n",
    "arr=np.arange(10000000,dtype=np.int32)\n",
    "sys.getsizeof(arr)"
   ]
  },
  {
   "cell_type": "code",
   "execution_count": 154,
   "metadata": {},
   "outputs": [
    {
     "data": {
      "text/plain": [
       "20000112"
      ]
     },
     "execution_count": 154,
     "metadata": {},
     "output_type": "execute_result"
    }
   ],
   "source": [
    "# we can decrease more in numpy\n",
    "arr=np.arange(10000000,dtype=np.int16)\n",
    "sys.getsizeof(arr)"
   ]
  },
  {
   "cell_type": "markdown",
   "id": "6b5c77c8",
   "metadata": {},
   "source": [
    "### Advance Indexing and Slicing"
   ]
  },
  {
   "cell_type": "code",
   "execution_count": 155,
   "metadata": {},
   "outputs": [
    {
     "data": {
      "text/plain": [
       "array([[ 0,  1,  2],\n",
       "       [ 3,  4,  5],\n",
       "       [ 6,  7,  8],\n",
       "       [ 9, 10, 11]])"
      ]
     },
     "execution_count": 155,
     "metadata": {},
     "output_type": "execute_result"
    }
   ],
   "source": [
    "# Normal Indexing and slicing\n",
    "arr= np.arange(12).reshape(4,3)\n",
    "arr"
   ]
  },
  {
   "cell_type": "code",
   "execution_count": 157,
   "metadata": {},
   "outputs": [
    {
     "data": {
      "text/plain": [
       "np.int64(5)"
      ]
     },
     "execution_count": 157,
     "metadata": {},
     "output_type": "execute_result"
    }
   ],
   "source": [
    "# fetching 5 from array\n",
    "arr[1,2]"
   ]
  },
  {
   "cell_type": "code",
   "execution_count": 159,
   "metadata": {},
   "outputs": [
    {
     "data": {
      "text/plain": [
       "array([[4, 5],\n",
       "       [7, 8]])"
      ]
     },
     "execution_count": 159,
     "metadata": {},
     "output_type": "execute_result"
    }
   ],
   "source": [
    "## fetching 4,5,7,8 from array\n",
    "arr[1:3 , 1:3]"
   ]
  },
  {
   "cell_type": "markdown",
   "id": "7341616f",
   "metadata": {},
   "source": [
    "### Fancy Indexing\n",
    "- Fancy indexing allows you to select or modify specific elements based on complex conditions\n",
    "or combinations of indices. It provides a powerful way to manipulate array data in NumPy."
   ]
  },
  {
   "cell_type": "code",
   "execution_count": 161,
   "metadata": {},
   "outputs": [
    {
     "data": {
      "text/plain": [
       "array([[ 3,  4,  5],\n",
       "       [ 6,  7,  8],\n",
       "       [ 9, 10, 11]])"
      ]
     },
     "execution_count": 161,
     "metadata": {},
     "output_type": "execute_result"
    }
   ],
   "source": [
    "# Fetch 1,3,4 row\n",
    "arr[[1,2,3]]"
   ]
  },
  {
   "cell_type": "code",
   "execution_count": 162,
   "metadata": {},
   "outputs": [
    {
     "data": {
      "text/plain": [
       "array([[ 0,  1,  2,  3],\n",
       "       [ 4,  5,  6,  7],\n",
       "       [ 8,  9, 10, 11],\n",
       "       [12, 13, 14, 15],\n",
       "       [16, 17, 18, 19],\n",
       "       [20, 21, 22, 23]])"
      ]
     },
     "execution_count": 162,
     "metadata": {},
     "output_type": "execute_result"
    }
   ],
   "source": [
    "# New array\n",
    "z = np.arange(24).reshape(6,4)\n",
    "z"
   ]
  },
  {
   "cell_type": "code",
   "execution_count": 163,
   "metadata": {},
   "outputs": [
    {
     "data": {
      "text/plain": [
       "array([[ 0,  1,  2,  3],\n",
       "       [ 8,  9, 10, 11],\n",
       "       [12, 13, 14, 15],\n",
       "       [20, 21, 22, 23]])"
      ]
     },
     "execution_count": 163,
     "metadata": {},
     "output_type": "execute_result"
    }
   ],
   "source": [
    "# Fetch 1, 3, ,4, 6 rows\n",
    "z[[0,2,3,5]]"
   ]
  },
  {
   "cell_type": "code",
   "execution_count": 164,
   "metadata": {},
   "outputs": [
    {
     "data": {
      "text/plain": [
       "array([[ 0,  2,  3],\n",
       "       [ 4,  6,  7],\n",
       "       [ 8, 10, 11],\n",
       "       [12, 14, 15],\n",
       "       [16, 18, 19],\n",
       "       [20, 22, 23]])"
      ]
     },
     "execution_count": 164,
     "metadata": {},
     "output_type": "execute_result"
    }
   ],
   "source": [
    "# Fetch 1,3,4 columns\n",
    "z[:,[0,2,3]]"
   ]
  },
  {
   "cell_type": "markdown",
   "id": "6190300d",
   "metadata": {},
   "source": [
    "### Boolean indexing\n",
    "It allows you to select elements from an array based on a Boolean condition. This allows you\n",
    "to extract only the elements of an array that meet a certain condition, making it easy to perform\n",
    "operations on specific subsets of data"
   ]
  },
  {
   "cell_type": "code",
   "execution_count": 166,
   "metadata": {},
   "outputs": [
    {
     "data": {
      "text/plain": [
       "array([[False,  True, False, False],\n",
       "       [False, False,  True,  True],\n",
       "       [ True,  True, False, False],\n",
       "       [ True, False, False, False],\n",
       "       [ True, False, False,  True],\n",
       "       [ True, False,  True, False]])"
      ]
     },
     "execution_count": 166,
     "metadata": {},
     "output_type": "execute_result"
    }
   ],
   "source": [
    "G = np.random.randint(1,100,24).reshape(6,4)\n",
    "G>50"
   ]
  },
  {
   "cell_type": "code",
   "execution_count": null,
   "metadata": {},
   "outputs": [
    {
     "data": {
      "text/plain": [
       "array([92, 75, 69, 92, 66, 57, 54, 59, 77, 78], dtype=int32)"
      ]
     },
     "execution_count": 167,
     "metadata": {},
     "output_type": "execute_result"
    }
   ],
   "source": [
    "G[G>50] ## # Where is True , it gives result , everything other that removed.we got values"
   ]
  },
  {
   "cell_type": "code",
   "execution_count": 168,
   "metadata": {},
   "outputs": [
    {
     "data": {
      "text/plain": [
       "array([[False,  True, False, False],\n",
       "       [ True,  True, False, False],\n",
       "       [ True,  True,  True,  True],\n",
       "       [False,  True,  True, False],\n",
       "       [ True,  True, False, False],\n",
       "       [False,  True,  True,  True]])"
      ]
     },
     "execution_count": 168,
     "metadata": {},
     "output_type": "execute_result"
    }
   ],
   "source": [
    "# find out even numbers\n",
    "G % 2 == 0"
   ]
  },
  {
   "cell_type": "code",
   "execution_count": 169,
   "id": "7ae28fce",
   "metadata": {},
   "outputs": [
    {
     "data": {
      "text/plain": [
       "array([92, 44, 10, 92, 66, 14,  6, 16, 26, 54,  6,  4, 78,  6],\n",
       "      dtype=int32)"
      ]
     },
     "execution_count": 169,
     "metadata": {},
     "output_type": "execute_result"
    }
   ],
   "source": [
    "G[G% 2 == 0]"
   ]
  },
  {
   "cell_type": "code",
   "execution_count": 170,
   "metadata": {},
   "outputs": [
    {
     "data": {
      "text/plain": [
       "array([[False,  True, False, False],\n",
       "       [False, False, False, False],\n",
       "       [ True,  True, False, False],\n",
       "       [False, False, False, False],\n",
       "       [ True, False, False, False],\n",
       "       [False, False,  True, False]])"
      ]
     },
     "execution_count": 170,
     "metadata": {},
     "output_type": "execute_result"
    }
   ],
   "source": [
    "# find all numbers greater than 50 and are even\n",
    "(G > 50 ) & (G % 2 == 0)"
   ]
  },
  {
   "cell_type": "code",
   "execution_count": 171,
   "metadata": {},
   "outputs": [
    {
     "data": {
      "text/plain": [
       "array([92, 92, 66, 54, 78], dtype=int32)"
      ]
     },
     "execution_count": 171,
     "metadata": {},
     "output_type": "execute_result"
    }
   ],
   "source": [
    "G[(G > 50 ) & (G % 2 == 0)]# find all numbers greater than 50 and are even\n"
   ]
  },
  {
   "cell_type": "code",
   "execution_count": 172,
   "metadata": {},
   "outputs": [
    {
     "data": {
      "text/plain": [
       "array([92, 31, 19, 44, 10, 75, 69, 92, 66,  6, 57, 16, 26, 15, 54,  6, 31,\n",
       "       59,  4, 78,  6], dtype=int32)"
      ]
     },
     "execution_count": 172,
     "metadata": {},
     "output_type": "execute_result"
    }
   ],
   "source": [
    "# Result\n",
    "G[~(G % 7 == 0)] # (~) = Not"
   ]
  },
  {
   "cell_type": "markdown",
   "id": "73a54888",
   "metadata": {},
   "source": [
    "### Broadcasting\n",
    "- Used in Vectorization\n",
    "- The term broadcasting describes how NumPy treats arrays with different shapes during\n",
    "arithmetic operations.\n",
    "-The smaller array is “broadcast” across the larger array so that they have compatible shapes"
   ]
  },
  {
   "cell_type": "code",
   "execution_count": 2,
   "metadata": {},
   "outputs": [
    {
     "name": "stdout",
     "output_type": "stream",
     "text": [
      "[[0 1 2]\n",
      " [3 4 5]]\n",
      "[[ 6  7  8]\n",
      " [ 9 10 11]]\n",
      "[[ 6  8 10]\n",
      " [12 14 16]]\n"
     ]
    }
   ],
   "source": [
    "import numpy as np \n",
    "# same shape\n",
    "arr1=np.arange(6).reshape(2,3)\n",
    "arr2=np.arange(6,12).reshape(2,3)\n",
    "\n",
    "print(arr1)\n",
    "print(arr2)\n",
    "\n",
    "print(arr1+arr2)\n"
   ]
  },
  {
   "cell_type": "code",
   "execution_count": 4,
   "metadata": {},
   "outputs": [
    {
     "name": "stdout",
     "output_type": "stream",
     "text": [
      "[[0 1 2]\n",
      " [3 4 5]]\n",
      "[[0 1 2]]\n",
      "[[0 2 4]\n",
      " [3 5 7]]\n"
     ]
    }
   ],
   "source": [
    "## different shape \n",
    "arr1=np.arange(6).reshape(2,3)\n",
    "arr2=np.arange(3).reshape(1,3)\n",
    "\n",
    "print(arr1)\n",
    "print(arr2)\n",
    "\n",
    "print(arr1+arr2)"
   ]
  },
  {
   "cell_type": "markdown",
   "id": "80870c69",
   "metadata": {},
   "source": [
    "### Broadcasting Rules\n",
    "1. Make the two arrays have the same number of dimensions.\n",
    "If the numbers of dimensions of the two arrays are different, add new dimensions with size\n",
    "1 to the head of the array with the smaller dimension.\n",
    "ex : (3,2) = 2D , (3) =1D ---> Convert into (1,3)\n",
    "(3,3,3) = 3D ,(3) = 1D ---> Convert into (1,1,3)\n",
    "2. Make each dimension of the two arrays the same size.\n",
    "If the sizes of each dimension of the two arrays do not match, dimensions with size 1 are\n",
    "stretched to the size of the other array.\n",
    "ex : (3,3)=2D ,(3) =1D ---> CONVERTED (1,3) than strech to (3,3)\n",
    "If there is a dimension whose size is not 1 in either of the two arrays, it cannot be\n",
    "broadcasted, and an error is raised."
   ]
  },
  {
   "cell_type": "code",
   "execution_count": null,
   "metadata": {},
   "outputs": [
    {
     "name": "stdout",
     "output_type": "stream",
     "text": [
      "[[ 0  2  4]\n",
      " [ 3  5  7]\n",
      " [ 6  8 10]\n",
      " [ 9 11 13]]\n"
     ]
    }
   ],
   "source": [
    "# More examples\n",
    "a = np.arange(12).reshape(4,3)\n",
    "b = np.arange(3)\n",
    "print(a+b) # Arthematic Operation\n",
    "\n",
    "# EXPLANATION : Arthematic Operation possible because , Here a = (4,3) is 2D and b =(3) is 1D\n",
    "# so did converted (3) to (1,3) and streched to (4,3)"
   ]
  },
  {
   "cell_type": "code",
   "execution_count": null,
   "metadata": {},
   "outputs": [
    {
     "name": "stdout",
     "output_type": "stream",
     "text": [
      "[[ 0  1  2  3]\n",
      " [ 4  5  6  7]\n",
      " [ 8  9 10 11]]\n",
      "[0 1 2]\n"
     ]
    },
    {
     "ename": "ValueError",
     "evalue": "operands could not be broadcast together with shapes (3,4) (3,) ",
     "output_type": "error",
     "traceback": [
      "\u001b[1;31m---------------------------------------------------------------------------\u001b[0m",
      "\u001b[1;31mValueError\u001b[0m                                Traceback (most recent call last)",
      "Cell \u001b[1;32mIn[7], line 6\u001b[0m\n\u001b[0;32m      4\u001b[0m \u001b[38;5;28mprint\u001b[39m(a)\n\u001b[0;32m      5\u001b[0m \u001b[38;5;28mprint\u001b[39m(b)\n\u001b[1;32m----> 6\u001b[0m \u001b[38;5;28mprint\u001b[39m(\u001b[43ma\u001b[49m\u001b[38;5;241;43m+\u001b[39;49m\u001b[43mb\u001b[49m)\n",
      "\u001b[1;31mValueError\u001b[0m: operands could not be broadcast together with shapes (3,4) (3,) "
     ]
    }
   ],
   "source": [
    "# Could not Broadcast\n",
    "a = np.arange(12).reshape(3,4)\n",
    "b = np.arange(3)\n",
    "print(a)\n",
    "print(b)\n",
    "print(a+b)\n",
    "\n",
    "# EXPLANATION : Arthematic Operation not possible because , Here a = (3,4) is 2D and b =(3)\n",
    "# is 1D so did converted (3) to (1,3) and streched to (3,3) but , a is not equals to b . so it got failed"
   ]
  },
  {
   "cell_type": "code",
   "execution_count": 8,
   "id": "bd33f149",
   "metadata": {},
   "outputs": [
    {
     "name": "stdout",
     "output_type": "stream",
     "text": [
      "[[0 1 2]]\n",
      "[[0]\n",
      " [1]\n",
      " [2]]\n",
      "[[0 1 2]\n",
      " [1 2 3]\n",
      " [2 3 4]]\n"
     ]
    }
   ],
   "source": [
    "a = np.arange(3).reshape(1,3)\n",
    "b = np.arange(3).reshape(3,1)\n",
    "print(a)\n",
    "print(b)\n",
    "print(a+b)"
   ]
  },
  {
   "cell_type": "markdown",
   "id": "0b8575d5",
   "metadata": {},
   "source": [
    "EXPLANATION : Arthematic Operation possible because , Here a = (1,3) is 2D and b =(3,1) is\n",
    "2D so did converted (1,3) to (3,3) and b(3,1) convert (1)to 3 than (3,3) . finally it equally"
   ]
  },
  {
   "cell_type": "code",
   "execution_count": null,
   "id": "410f0ca4",
   "metadata": {},
   "outputs": [],
   "source": []
  },
  {
   "cell_type": "code",
   "execution_count": null,
   "id": "e1c1f0f6",
   "metadata": {},
   "outputs": [],
   "source": []
  },
  {
   "cell_type": "code",
   "execution_count": null,
   "id": "4b29cb8d",
   "metadata": {},
   "outputs": [],
   "source": []
  },
  {
   "cell_type": "code",
   "execution_count": null,
   "id": "71a3b90b",
   "metadata": {},
   "outputs": [],
   "source": []
  },
  {
   "cell_type": "code",
   "execution_count": null,
   "id": "cb1fe1b9",
   "metadata": {},
   "outputs": [],
   "source": []
  },
  {
   "cell_type": "code",
   "execution_count": null,
   "id": "df65077b",
   "metadata": {},
   "outputs": [],
   "source": []
  },
  {
   "cell_type": "code",
   "execution_count": null,
   "id": "e0ba6e6b",
   "metadata": {},
   "outputs": [],
   "source": []
  },
  {
   "cell_type": "code",
   "execution_count": null,
   "id": "14c96a19",
   "metadata": {},
   "outputs": [],
   "source": []
  },
  {
   "cell_type": "code",
   "execution_count": null,
   "id": "77a8d0be",
   "metadata": {},
   "outputs": [],
   "source": []
  },
  {
   "cell_type": "code",
   "execution_count": null,
   "id": "23e56979",
   "metadata": {},
   "outputs": [],
   "source": []
  },
  {
   "cell_type": "code",
   "execution_count": null,
   "id": "1290b3ec",
   "metadata": {},
   "outputs": [],
   "source": []
  },
  {
   "cell_type": "code",
   "execution_count": null,
   "id": "9f359a80",
   "metadata": {},
   "outputs": [],
   "source": []
  },
  {
   "cell_type": "code",
   "execution_count": null,
   "id": "5292add4",
   "metadata": {},
   "outputs": [],
   "source": []
  },
  {
   "cell_type": "code",
   "execution_count": null,
   "id": "34c19ee4",
   "metadata": {},
   "outputs": [],
   "source": []
  },
  {
   "cell_type": "code",
   "execution_count": null,
   "id": "d48213e0",
   "metadata": {},
   "outputs": [],
   "source": []
  },
  {
   "cell_type": "code",
   "execution_count": null,
   "id": "429abbd2",
   "metadata": {},
   "outputs": [],
   "source": []
  }
 ],
 "metadata": {
  "kernelspec": {
   "display_name": "Python 3",
   "language": "python",
   "name": "python3"
  },
  "language_info": {
   "codemirror_mode": {
    "name": "ipython",
    "version": 3
   },
   "file_extension": ".py",
   "mimetype": "text/x-python",
   "name": "python",
   "nbconvert_exporter": "python",
   "pygments_lexer": "ipython3",
   "version": "3.12.7"
  }
 },
 "nbformat": 4,
 "nbformat_minor": 5
}
