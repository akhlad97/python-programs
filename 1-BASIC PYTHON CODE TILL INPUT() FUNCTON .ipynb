{
 "cells": [
  {
   "cell_type": "markdown",
   "id": "f285bd74",
   "metadata": {},
   "source": [
    "## PYTHON INTERPRETTER\n",
    "## IDE (INTEGRATED DEVELOPMENT ENVIRONMENT)"
   ]
  },
  {
   "cell_type": "markdown",
   "id": "d40cc3c6",
   "metadata": {},
   "source": [
    "PYTHON INTERPRETER -->\n",
    "What is Python interpreter?\n",
    "A python interpreter is a computer program that converts each high-level program statement into machine code. An interpreter translates the command that you write out into code that the computer can understand\n",
    "\n",
    "PYTHON INTERPRETER EXAMPLE --> \n",
    "You write your Python code in a text file with a name like hello.py . How does that code Run? There is program installed on your computer named \"python3\" or \"python\", and its job is looking at and running your Python code. This type of program is called an \"interpreter\"."
   ]
  },
  {
   "cell_type": "markdown",
   "id": "341f057f",
   "metadata": {},
   "source": [
    "IDE (INTEGRATED DEVELOPMENT ENVIRONMENT) =>\n",
    "- using IDE - one can write code, run the code, debug the code\n",
    "- IDE takes care of interpreting the Python code, running python scripts, building executables, and debugging the applications.\n",
    "- An IDE enables programmers to combine the different aspects of writing a computer program. \n",
    "- if you wanted to be python developer only then you need to install (IDE -- PYCHARM),vs code\n"
   ]
  },
  {
   "cell_type": "markdown",
   "id": "81236fe7",
   "metadata": {},
   "source": [
    "#### Python Compilers \n",
    "Python is a high-level programming language. The code we write in Python is easily understandable to us but not to computers. Since computers can’t understand, computer can’t execute the code. Hence we need to translate our code in Python to something a computer can understand and execute, machine language. So we created a program that can translate our source code to an executable code and the program is called a Compiler\n"
   ]
  },
  {
   "cell_type": "markdown",
   "id": "329e301c",
   "metadata": {},
   "source": [
    "#### Working of Compilers in Python\n",
    "- A lot of processes happen between pressing the run button on our IDEs and getting the output, and half of that\n",
    "  process involves the working of compilers.\n",
    "- When we run a Python file (.py), the compiler starts reading the file\n",
    "- The compiler reads the file and checks for errors.\n",
    "- If an error is found, the compiler stops and displays an error message.\n",
    "- If no errors are found, then complier translates the Python code to Byte code.\n",
    "- The byte code is stored in a file with .pyc or .pyo or .pyd format.\n",
    "- The Python Virtual Machine (PVM) receives the Byte code file.\n",
    "- PVM is an interpreter. It reads and checks the file for errors.\n",
    "- If any  error is found, the interpreter stops and displays an error message.\n",
    "- If no errors are found, then interpreter translates the Byte code to Binary code.\n",
    "- Binary code which is also called Machine language that is an executable language.\n",
    "- Finally, the computer reads the binary code and executes the program\n"
   ]
  },
  {
   "cell_type": "markdown",
   "id": "0cf25497",
   "metadata": {},
   "source": [
    "#### What is a .py File?\n",
    "- .py file is a plain text file that contains Python source code. This is the file you write your code in when you    are  developing a Python program. Here are some key points about .py files\n",
    "\n",
    "#### What is a .pyc File?\n",
    "- .pyc file is a compiled Python file. When you run a Python program, the interpreter compiles the source code into bytecode, which is a low-level set of instructions that can be executed by the Python virtual machine (PVM). This bytecode is then saved as a .pyc file\n"
   ]
  },
  {
   "cell_type": "markdown",
   "id": "89f6aadf",
   "metadata": {},
   "source": [
    "#### ANACONDA \n",
    "- Anaconda is a distribution of the Python and R programming languages for scientific computing (data science, machine learning applications, large-scale data processing, predictive analytics, etc.), that aims to simplify package management and deployment.\n",
    "- Anaconda simplifies package management and deployment by providing a large collection of libraries and tools that are essential for data analysis and scientific computing. It's widely used because it streamlines the setup process for data scientists and developers"
   ]
  },
  {
   "cell_type": "code",
   "execution_count": 2,
   "id": "ffcdfc27",
   "metadata": {},
   "outputs": [
    {
     "data": {
      "text/plain": [
       "2"
      ]
     },
     "execution_count": 2,
     "metadata": {},
     "output_type": "execute_result"
    }
   ],
   "source": [
    "1+1 ### addition"
   ]
  },
  {
   "cell_type": "code",
   "execution_count": 3,
   "id": "530607a2",
   "metadata": {},
   "outputs": [
    {
     "data": {
      "text/plain": [
       "1"
      ]
     },
     "execution_count": 3,
     "metadata": {},
     "output_type": "execute_result"
    }
   ],
   "source": [
    "2-1 ### subtraction"
   ]
  },
  {
   "cell_type": "code",
   "execution_count": 4,
   "id": "dfd1c2cf",
   "metadata": {},
   "outputs": [
    {
     "data": {
      "text/plain": [
       "4"
      ]
     },
     "execution_count": 4,
     "metadata": {},
     "output_type": "execute_result"
    }
   ],
   "source": [
    "2*2 ### multiplication"
   ]
  },
  {
   "cell_type": "code",
   "execution_count": 5,
   "id": "ef2a8cc1",
   "metadata": {},
   "outputs": [
    {
     "data": {
      "text/plain": [
       "3.0"
      ]
     },
     "execution_count": 5,
     "metadata": {},
     "output_type": "execute_result"
    }
   ],
   "source": [
    "6/2 ### division"
   ]
  },
  {
   "cell_type": "code",
   "execution_count": 6,
   "id": "5fc37bf2",
   "metadata": {},
   "outputs": [
    {
     "data": {
      "text/plain": [
       "1.6"
      ]
     },
     "execution_count": 6,
     "metadata": {},
     "output_type": "execute_result"
    }
   ],
   "source": [
    "8/5 ## float division"
   ]
  },
  {
   "cell_type": "code",
   "execution_count": 7,
   "id": "64d49fa6",
   "metadata": {},
   "outputs": [
    {
     "data": {
      "text/plain": [
       "4"
      ]
     },
     "execution_count": 7,
     "metadata": {},
     "output_type": "execute_result"
    }
   ],
   "source": [
    "2+3+5-6"
   ]
  },
  {
   "cell_type": "code",
   "execution_count": 8,
   "id": "b213bb7b",
   "metadata": {},
   "outputs": [
    {
     "ename": "SyntaxError",
     "evalue": "invalid syntax (2225873084.py, line 1)",
     "output_type": "error",
     "traceback": [
      "\u001b[1;36m  Cell \u001b[1;32mIn[8], line 1\u001b[1;36m\u001b[0m\n\u001b[1;33m    8+8- ## syntax error\u001b[0m\n\u001b[1;37m         ^\u001b[0m\n\u001b[1;31mSyntaxError\u001b[0m\u001b[1;31m:\u001b[0m invalid syntax\n"
     ]
    }
   ],
   "source": [
    "8+8- ## syntax error "
   ]
  },
  {
   "cell_type": "code",
   "execution_count": 9,
   "id": "499a9464",
   "metadata": {},
   "outputs": [
    {
     "data": {
      "text/plain": [
       "50"
      ]
     },
     "execution_count": 9,
     "metadata": {},
     "output_type": "execute_result"
    }
   ],
   "source": [
    "(5 + 5) * 5 # BODMAS (Bracket || Oders || Divide || Multiply || Add || Substact)"
   ]
  },
  {
   "cell_type": "code",
   "execution_count": 10,
   "id": "b97cd1d0",
   "metadata": {},
   "outputs": [
    {
     "data": {
      "text/plain": [
       "32"
      ]
     },
     "execution_count": 10,
     "metadata": {},
     "output_type": "execute_result"
    }
   ],
   "source": [
    "2*2*2*2*2"
   ]
  },
  {
   "cell_type": "code",
   "execution_count": 11,
   "id": "d66c920d",
   "metadata": {},
   "outputs": [
    {
     "data": {
      "text/plain": [
       "32"
      ]
     },
     "execution_count": 11,
     "metadata": {},
     "output_type": "execute_result"
    }
   ],
   "source": [
    "2**5 ## explonantial"
   ]
  },
  {
   "cell_type": "code",
   "execution_count": 12,
   "id": "f0d224f9",
   "metadata": {},
   "outputs": [
    {
     "data": {
      "text/plain": [
       "5.0"
      ]
     },
     "execution_count": 12,
     "metadata": {},
     "output_type": "execute_result"
    }
   ],
   "source": [
    "15/3 ## return float value "
   ]
  },
  {
   "cell_type": "code",
   "execution_count": 13,
   "id": "8cd9c78c",
   "metadata": {},
   "outputs": [
    {
     "data": {
      "text/plain": [
       "4"
      ]
     },
     "execution_count": 13,
     "metadata": {},
     "output_type": "execute_result"
    }
   ],
   "source": [
    "9//2 ## return integre value ,without floating point"
   ]
  },
  {
   "cell_type": "code",
   "execution_count": 14,
   "id": "5dd091ed",
   "metadata": {},
   "outputs": [
    {
     "data": {
      "text/plain": [
       "1"
      ]
     },
     "execution_count": 14,
     "metadata": {},
     "output_type": "execute_result"
    }
   ],
   "source": [
    "11%2 ## modulus,return reminder"
   ]
  },
  {
   "cell_type": "code",
   "execution_count": 15,
   "id": "ac798432",
   "metadata": {},
   "outputs": [
    {
     "ename": "SyntaxError",
     "evalue": "invalid syntax (445324016.py, line 1)",
     "output_type": "error",
     "traceback": [
      "\u001b[1;36m  Cell \u001b[1;32mIn[15], line 1\u001b[1;36m\u001b[0m\n\u001b[1;33m    15%%2 ## systeax error\u001b[0m\n\u001b[1;37m       ^\u001b[0m\n\u001b[1;31mSyntaxError\u001b[0m\u001b[1;31m:\u001b[0m invalid syntax\n"
     ]
    }
   ],
   "source": [
    "15%%2 ## systeax error"
   ]
  },
  {
   "cell_type": "code",
   "execution_count": 16,
   "id": "172773d6",
   "metadata": {},
   "outputs": [
    {
     "name": "stdout",
     "output_type": "stream",
     "text": [
      "12\n",
      "13\n",
      "(2+9j)\n",
      "nit\n",
      "3.2\n"
     ]
    }
   ],
   "source": [
    "# multiple assignment (or parallel assignment)\n",
    "a,b,c,d,f=12,13,2+9j,'nit',3.2\n",
    "print (a)\n",
    "print(b)\n",
    "print(c)\n",
    "print(d)\n",
    "print(f)"
   ]
  },
  {
   "cell_type": "code",
   "execution_count": 17,
   "id": "1a3a241a",
   "metadata": {},
   "outputs": [
    {
     "name": "stdout",
     "output_type": "stream",
     "text": [
      "<class 'int'>\n",
      "<class 'int'>\n",
      "<class 'complex'>\n",
      "<class 'str'>\n",
      "<class 'float'>\n"
     ]
    }
   ],
   "source": [
    "print(type(a))\n",
    "print(type(b))\n",
    "print(type(c))\n",
    "print(type(d))\n",
    "print(type(f))"
   ]
  },
  {
   "cell_type": "markdown",
   "id": "f243776e",
   "metadata": {},
   "source": [
    "### string\n",
    "- lets work with string"
   ]
  },
  {
   "cell_type": "code",
   "execution_count": 18,
   "id": "53d97652",
   "metadata": {},
   "outputs": [
    {
     "data": {
      "text/plain": [
       "'abc'"
      ]
     },
     "execution_count": 18,
     "metadata": {},
     "output_type": "execute_result"
    }
   ],
   "source": [
    "'abc'"
   ]
  },
  {
   "cell_type": "markdown",
   "id": "96429c9d",
   "metadata": {},
   "source": [
    "- python inbuild function - print & you need to pass the parameter in print()\n",
    "\n",
    "- A function is a block of code which only runs when it is called. You can pass data, known as parameters, into a function. A function can return data as a result."
   ]
  },
  {
   "cell_type": "code",
   "execution_count": 19,
   "id": "5c6dbc47",
   "metadata": {},
   "outputs": [
    {
     "name": "stdout",
     "output_type": "stream",
     "text": [
      "abcd\n"
     ]
    }
   ],
   "source": [
    "print('abcd')"
   ]
  },
  {
   "cell_type": "code",
   "execution_count": 21,
   "id": "8446e362",
   "metadata": {},
   "outputs": [
    {
     "data": {
      "text/plain": [
       "'welocome to python course from begginer to advanced'"
      ]
     },
     "execution_count": 21,
     "metadata": {},
     "output_type": "execute_result"
    }
   ],
   "source": [
    "s1='welocome to python course from begginer to advanced'\n",
    "s1"
   ]
  },
  {
   "cell_type": "code",
   "execution_count": 20,
   "id": "83ff1e56",
   "metadata": {},
   "outputs": [
    {
     "data": {
      "text/plain": [
       "5"
      ]
     },
     "execution_count": 20,
     "metadata": {},
     "output_type": "execute_result"
    }
   ],
   "source": [
    "a=2\n",
    "b=3\n",
    "a+b"
   ]
  },
  {
   "cell_type": "code",
   "execution_count": 22,
   "id": "2d365ad6",
   "metadata": {},
   "outputs": [
    {
     "data": {
      "text/plain": [
       "5"
      ]
     },
     "execution_count": 22,
     "metadata": {},
     "output_type": "execute_result"
    }
   ],
   "source": [
    "a=2\n",
    "b=3\n",
    "c=a+b\n",
    "c"
   ]
  },
  {
   "cell_type": "code",
   "execution_count": 23,
   "id": "c3165ae0",
   "metadata": {},
   "outputs": [
    {
     "name": "stdout",
     "output_type": "stream",
     "text": [
      "<class 'str'>\n"
     ]
    }
   ],
   "source": [
    "a=2\n",
    "b='technology'\n",
    "print(type(b))"
   ]
  },
  {
   "cell_type": "code",
   "execution_count": null,
   "id": "9f7fd7cc",
   "metadata": {},
   "outputs": [
    {
     "name": "stdout",
     "output_type": "stream",
     "text": [
      "python's \"programming\"\n"
     ]
    }
   ],
   "source": [
    "print('python\\'s \"programming\"') ## \\ has specail meaning to ignore error"
   ]
  },
  {
   "cell_type": "code",
   "execution_count": null,
   "id": "bb45675f",
   "metadata": {},
   "outputs": [
    {
     "data": {
      "text/plain": [
       "'abc  abc'"
      ]
     },
     "execution_count": 37,
     "metadata": {},
     "output_type": "execute_result"
    }
   ],
   "source": [
    "'abc '+' abc'"
   ]
  },
  {
   "cell_type": "code",
   "execution_count": null,
   "id": "4a5100b0",
   "metadata": {},
   "outputs": [
    {
     "data": {
      "text/plain": [
       "'abc abc'"
      ]
     },
     "execution_count": 39,
     "metadata": {},
     "output_type": "execute_result"
    }
   ],
   "source": [
    "'abc' ' abc'"
   ]
  },
  {
   "cell_type": "code",
   "execution_count": null,
   "id": "b30aef59",
   "metadata": {},
   "outputs": [
    {
     "data": {
      "text/plain": [
       "('abc', ' abc')"
      ]
     },
     "execution_count": 40,
     "metadata": {},
     "output_type": "execute_result"
    }
   ],
   "source": [
    "'abc' , ' abc'"
   ]
  },
  {
   "cell_type": "code",
   "execution_count": null,
   "id": "020e6b23",
   "metadata": {},
   "outputs": [
    {
     "name": "stdout",
     "output_type": "stream",
     "text": [
      "<class 'tuple'>\n"
     ]
    }
   ],
   "source": [
    "print(type(('abc' , ' abc')))"
   ]
  },
  {
   "cell_type": "code",
   "execution_count": null,
   "id": "3f14049d",
   "metadata": {},
   "outputs": [
    {
     "name": "stdout",
     "output_type": "stream",
     "text": [
      "c:\n",
      "nit\n"
     ]
    }
   ],
   "source": [
    "print('c:\\nnit') ##\\n new line"
   ]
  },
  {
   "cell_type": "code",
   "execution_count": null,
   "id": "5ec4dfeb",
   "metadata": {},
   "outputs": [
    {
     "name": "stdout",
     "output_type": "stream",
     "text": [
      "E:\\python\n"
     ]
    }
   ],
   "source": [
    "print(r'E:\\python') # raw string"
   ]
  },
  {
   "cell_type": "code",
   "execution_count": null,
   "id": "04954729",
   "metadata": {},
   "outputs": [
    {
     "name": "stderr",
     "output_type": "stream",
     "text": [
      "'[image.png]' is not recognized as an internal or external command,\n",
      "operable program or batch file.\n"
     ]
    }
   ],
   "source": [
    "## variable || identifier || object\n",
    "\n"
   ]
  },
  {
   "cell_type": "code",
   "execution_count": null,
   "id": "ddc95bfd",
   "metadata": {},
   "outputs": [
    {
     "data": {
      "text/plain": [
       "2"
      ]
     },
     "execution_count": 51,
     "metadata": {},
     "output_type": "execute_result"
    }
   ],
   "source": [
    "x=2 ## x is variable /identifier /object 2 is value \n",
    "x"
   ]
  },
  {
   "cell_type": "code",
   "execution_count": null,
   "id": "5958704c",
   "metadata": {},
   "outputs": [
    {
     "data": {
      "text/plain": [
       "5"
      ]
     },
     "execution_count": 52,
     "metadata": {},
     "output_type": "execute_result"
    }
   ],
   "source": [
    "x+3"
   ]
  },
  {
   "cell_type": "code",
   "execution_count": null,
   "id": "306411b2",
   "metadata": {},
   "outputs": [
    {
     "data": {
      "text/plain": [
       "5"
      ]
     },
     "execution_count": 53,
     "metadata": {},
     "output_type": "execute_result"
    }
   ],
   "source": [
    "y=3\n",
    "x+y"
   ]
  },
  {
   "cell_type": "code",
   "execution_count": null,
   "id": "1afe007f",
   "metadata": {},
   "outputs": [
    {
     "data": {
      "text/plain": [
       "8"
      ]
     },
     "execution_count": 54,
     "metadata": {},
     "output_type": "execute_result"
    }
   ],
   "source": [
    "_ +y ## _ understand previous result here previous result is 5"
   ]
  },
  {
   "cell_type": "code",
   "execution_count": null,
   "id": "447f553b",
   "metadata": {},
   "outputs": [
    {
     "data": {
      "text/plain": [
       "11"
      ]
     },
     "execution_count": 55,
     "metadata": {},
     "output_type": "execute_result"
    }
   ],
   "source": [
    "_ +y"
   ]
  },
  {
   "cell_type": "markdown",
   "id": "bc47bcff",
   "metadata": {},
   "source": [
    "#### String in python\n",
    "- A String is a data structure in Python Programming that represents a sequence of characters. It is an immutable data type string does not support item assignment , meaning that once you have created a string, you cannot change it. Python String are used widely in many different applications, such as storing and manipulating text data, representing names, addresses, and other types of data that can be represented as text"
   ]
  },
  {
   "cell_type": "code",
   "execution_count": null,
   "id": "b93edaa1",
   "metadata": {},
   "outputs": [],
   "source": [
    "# string varible \n",
    "name='abc'"
   ]
  },
  {
   "cell_type": "code",
   "execution_count": null,
   "id": "092bcd26",
   "metadata": {},
   "outputs": [
    {
     "data": {
      "text/plain": [
       "'abc technology'"
      ]
     },
     "execution_count": 64,
     "metadata": {},
     "output_type": "execute_result"
    }
   ],
   "source": [
    "name=name+' technology'\n",
    "name"
   ]
  },
  {
   "cell_type": "code",
   "execution_count": null,
   "id": "4e170b82",
   "metadata": {},
   "outputs": [
    {
     "data": {
      "text/plain": [
       "14"
      ]
     },
     "execution_count": 65,
     "metadata": {},
     "output_type": "execute_result"
    }
   ],
   "source": [
    "len(name)"
   ]
  },
  {
   "cell_type": "code",
   "execution_count": null,
   "id": "baa4d3dd",
   "metadata": {},
   "outputs": [
    {
     "data": {
      "text/plain": [
       "'a'"
      ]
     },
     "execution_count": 66,
     "metadata": {},
     "output_type": "execute_result"
    }
   ],
   "source": [
    "name[0] ## python index begin with zero"
   ]
  },
  {
   "cell_type": "code",
   "execution_count": null,
   "id": "273d18a7",
   "metadata": {},
   "outputs": [
    {
     "data": {
      "text/plain": [
       "'y'"
      ]
     },
     "execution_count": 68,
     "metadata": {},
     "output_type": "execute_result"
    }
   ],
   "source": [
    "name[13]"
   ]
  },
  {
   "cell_type": "code",
   "execution_count": null,
   "id": "d6471069",
   "metadata": {},
   "outputs": [
    {
     "ename": "IndexError",
     "evalue": "string index out of range",
     "output_type": "error",
     "traceback": [
      "\u001b[1;31m---------------------------------------------------------------------------\u001b[0m",
      "\u001b[1;31mIndexError\u001b[0m                                Traceback (most recent call last)",
      "Cell \u001b[1;32mIn[69], line 1\u001b[0m\n\u001b[1;32m----> 1\u001b[0m \u001b[43mname\u001b[49m\u001b[43m[\u001b[49m\u001b[38;5;241;43m14\u001b[39;49m\u001b[43m]\u001b[49m\n",
      "\u001b[1;31mIndexError\u001b[0m: string index out of range"
     ]
    }
   ],
   "source": [
    "name[14]"
   ]
  },
  {
   "cell_type": "code",
   "execution_count": null,
   "id": "e1b4ea19",
   "metadata": {},
   "outputs": [
    {
     "data": {
      "text/plain": [
       "'y'"
      ]
     },
     "execution_count": 70,
     "metadata": {},
     "output_type": "execute_result"
    }
   ],
   "source": [
    "name[-1] ## indexing from revrse side ,right left side "
   ]
  },
  {
   "cell_type": "code",
   "execution_count": null,
   "id": "e1c116a9",
   "metadata": {},
   "outputs": [
    {
     "data": {
      "text/plain": [
       "'o'"
      ]
     },
     "execution_count": 71,
     "metadata": {},
     "output_type": "execute_result"
    }
   ],
   "source": [
    "name[-5]"
   ]
  },
  {
   "cell_type": "code",
   "execution_count": null,
   "id": "72d6f67e",
   "metadata": {},
   "outputs": [
    {
     "data": {
      "text/plain": [
       "'a'"
      ]
     },
     "execution_count": 72,
     "metadata": {},
     "output_type": "execute_result"
    }
   ],
   "source": [
    "name[-14]"
   ]
  },
  {
   "cell_type": "markdown",
   "id": "46664ccc",
   "metadata": {},
   "source": [
    "### slicing\n"
   ]
  },
  {
   "cell_type": "code",
   "execution_count": null,
   "id": "f5e2887d",
   "metadata": {},
   "outputs": [
    {
     "data": {
      "text/plain": [
       "'nit'"
      ]
     },
     "execution_count": 73,
     "metadata": {},
     "output_type": "execute_result"
    }
   ],
   "source": [
    "name='nit'\n",
    "name"
   ]
  },
  {
   "cell_type": "code",
   "execution_count": null,
   "id": "a922d7c0",
   "metadata": {},
   "outputs": [
    {
     "data": {
      "text/plain": [
       "'n'"
      ]
     },
     "execution_count": 75,
     "metadata": {},
     "output_type": "execute_result"
    }
   ],
   "source": [
    "name[0:1]## print 2 chracater --> 0 index character "
   ]
  },
  {
   "cell_type": "code",
   "execution_count": null,
   "id": "9c4145bf",
   "metadata": {},
   "outputs": [
    {
     "data": {
      "text/plain": [
       "'ni'"
      ]
     },
     "execution_count": 77,
     "metadata": {},
     "output_type": "execute_result"
    }
   ],
   "source": [
    "name[0:2] # last index is 2-1=1 ,print the character from 0 index to 1 index"
   ]
  },
  {
   "cell_type": "code",
   "execution_count": null,
   "id": "66a958c9",
   "metadata": {},
   "outputs": [
    {
     "data": {
      "text/plain": [
       "'it'"
      ]
     },
     "execution_count": 78,
     "metadata": {},
     "output_type": "execute_result"
    }
   ],
   "source": [
    "name[1:4]"
   ]
  },
  {
   "cell_type": "code",
   "execution_count": null,
   "id": "025157ee",
   "metadata": {},
   "outputs": [
    {
     "data": {
      "text/plain": [
       "'it'"
      ]
     },
     "execution_count": 79,
     "metadata": {},
     "output_type": "execute_result"
    }
   ],
   "source": [
    "name[1:3]"
   ]
  },
  {
   "cell_type": "code",
   "execution_count": null,
   "id": "0ba39da1",
   "metadata": {},
   "outputs": [
    {
     "data": {
      "text/plain": [
       "'nit'"
      ]
     },
     "execution_count": 80,
     "metadata": {},
     "output_type": "execute_result"
    }
   ],
   "source": [
    "name"
   ]
  },
  {
   "cell_type": "code",
   "execution_count": null,
   "id": "8bef8a58",
   "metadata": {},
   "outputs": [
    {
     "data": {
      "text/plain": [
       "'nit'"
      ]
     },
     "execution_count": 81,
     "metadata": {},
     "output_type": "execute_result"
    }
   ],
   "source": [
    "name[0:] ## from 0 to till last index"
   ]
  },
  {
   "cell_type": "code",
   "execution_count": null,
   "id": "07976778",
   "metadata": {},
   "outputs": [
    {
     "data": {
      "text/plain": [
       "''"
      ]
     },
     "execution_count": 82,
     "metadata": {},
     "output_type": "execute_result"
    }
   ],
   "source": [
    "name[3:9]"
   ]
  },
  {
   "cell_type": "code",
   "execution_count": null,
   "id": "dbea58a8",
   "metadata": {},
   "outputs": [
    {
     "ename": "TypeError",
     "evalue": "'str' object does not support item assignment",
     "output_type": "error",
     "traceback": [
      "\u001b[1;31m---------------------------------------------------------------------------\u001b[0m",
      "\u001b[1;31mTypeError\u001b[0m                                 Traceback (most recent call last)",
      "Cell \u001b[1;32mIn[83], line 1\u001b[0m\n\u001b[1;32m----> 1\u001b[0m \u001b[43mname\u001b[49m\u001b[43m[\u001b[49m\u001b[38;5;241;43m0\u001b[39;49m\u001b[43m:\u001b[49m\u001b[38;5;241;43m1\u001b[39;49m\u001b[43m]\u001b[49m\u001b[38;5;241m=\u001b[39m\u001b[38;5;124m'\u001b[39m\u001b[38;5;124mx\u001b[39m\u001b[38;5;124m'\u001b[39m \u001b[38;5;66;03m## i want to change the firt character of name \u001b[39;00m\n",
      "\u001b[1;31mTypeError\u001b[0m: 'str' object does not support item assignment"
     ]
    }
   ],
   "source": [
    "name[0:1]='x' ## i want to change the firt character of name "
   ]
  },
  {
   "cell_type": "code",
   "execution_count": null,
   "id": "08f6c0cd",
   "metadata": {},
   "outputs": [
    {
     "ename": "TypeError",
     "evalue": "'str' object does not support item assignment",
     "output_type": "error",
     "traceback": [
      "\u001b[1;31m---------------------------------------------------------------------------\u001b[0m",
      "\u001b[1;31mTypeError\u001b[0m                                 Traceback (most recent call last)",
      "Cell \u001b[1;32mIn[84], line 1\u001b[0m\n\u001b[1;32m----> 1\u001b[0m \u001b[43mname\u001b[49m\u001b[43m[\u001b[49m\u001b[38;5;241;43m0\u001b[39;49m\u001b[43m]\u001b[49m\u001b[38;5;241m=\u001b[39m\u001b[38;5;124m'\u001b[39m\u001b[38;5;124md\u001b[39m\u001b[38;5;124m'\u001b[39m\n",
      "\u001b[1;31mTypeError\u001b[0m: 'str' object does not support item assignment"
     ]
    }
   ],
   "source": [
    "name[0]='d' # string  is immutable in python"
   ]
  },
  {
   "cell_type": "code",
   "execution_count": null,
   "id": "8d72211e",
   "metadata": {},
   "outputs": [],
   "source": [
    "name1='fine'"
   ]
  },
  {
   "cell_type": "code",
   "execution_count": null,
   "id": "1bdb1a4f",
   "metadata": {},
   "outputs": [
    {
     "data": {
      "text/plain": [
       "'dine'"
      ]
     },
     "execution_count": 86,
     "metadata": {},
     "output_type": "execute_result"
    }
   ],
   "source": [
    "# i want to change string from fine to dine\n",
    "'d'+name1[1:]\n"
   ]
  },
  {
   "cell_type": "code",
   "execution_count": null,
   "id": "088acebe",
   "metadata": {},
   "outputs": [
    {
     "name": "stdout",
     "output_type": "stream",
     "text": [
      "4\n"
     ]
    }
   ],
   "source": [
    "print(len(name1))"
   ]
  },
  {
   "cell_type": "markdown",
   "id": "d2f25f1a",
   "metadata": {},
   "source": [
    "### List "
   ]
  },
  {
   "cell_type": "code",
   "execution_count": 24,
   "id": "1b9b3bfa",
   "metadata": {},
   "outputs": [
    {
     "data": {
      "text/plain": [
       "[10, 20, 30]"
      ]
     },
     "execution_count": 24,
     "metadata": {},
     "output_type": "execute_result"
    }
   ],
   "source": [
    "nums=[10,20,30]\n",
    "nums"
   ]
  },
  {
   "cell_type": "code",
   "execution_count": 25,
   "id": "7e7b7935",
   "metadata": {},
   "outputs": [
    {
     "data": {
      "text/plain": [
       "10"
      ]
     },
     "execution_count": 25,
     "metadata": {},
     "output_type": "execute_result"
    }
   ],
   "source": [
    "nums[0]"
   ]
  },
  {
   "cell_type": "code",
   "execution_count": null,
   "id": "ad5b59dd",
   "metadata": {},
   "outputs": [
    {
     "data": {
      "text/plain": [
       "30"
      ]
     },
     "execution_count": 92,
     "metadata": {},
     "output_type": "execute_result"
    }
   ],
   "source": [
    "nums[-1] # print the number in revers order from list"
   ]
  },
  {
   "cell_type": "code",
   "execution_count": 26,
   "id": "c6d85b89",
   "metadata": {},
   "outputs": [
    {
     "data": {
      "text/plain": [
       "[20, 30]"
      ]
     },
     "execution_count": 26,
     "metadata": {},
     "output_type": "execute_result"
    }
   ],
   "source": [
    "nums[1:] # print list element from 1 index to till last"
   ]
  },
  {
   "cell_type": "code",
   "execution_count": 27,
   "id": "1a12c0f3",
   "metadata": {},
   "outputs": [
    {
     "data": {
      "text/plain": [
       "[10]"
      ]
     },
     "execution_count": 27,
     "metadata": {},
     "output_type": "execute_result"
    }
   ],
   "source": [
    "nums[:1] # print the list from starting(from zero index ) to till 1 index 1 is exclude"
   ]
  },
  {
   "cell_type": "code",
   "execution_count": 28,
   "id": "cc6aa548",
   "metadata": {},
   "outputs": [
    {
     "data": {
      "text/plain": [
       "['hi', 'hello']"
      ]
     },
     "execution_count": 28,
     "metadata": {},
     "output_type": "execute_result"
    }
   ],
   "source": [
    "nums1=['hi','hello']\n",
    "nums1"
   ]
  },
  {
   "cell_type": "code",
   "execution_count": 30,
   "id": "cf3e9e60",
   "metadata": {},
   "outputs": [
    {
     "data": {
      "text/plain": [
       "[12, 'hi', 4.2, (2+2j)]"
      ]
     },
     "execution_count": 30,
     "metadata": {},
     "output_type": "execute_result"
    }
   ],
   "source": [
    "nums2=[12,'hi',4.2,2+2j] ### we can assign multitype of value in list\n",
    "nums2"
   ]
  },
  {
   "cell_type": "code",
   "execution_count": 31,
   "id": "276dc954",
   "metadata": {},
   "outputs": [
    {
     "data": {
      "text/plain": [
       "[[10, 20, 30], [12, 'hi', 4.2, (2+2j)], [12, 'hi', 4.2, (2+2j)]]"
      ]
     },
     "execution_count": 31,
     "metadata": {},
     "output_type": "execute_result"
    }
   ],
   "source": [
    "nums3=[nums,nums2,nums2]\n",
    "nums3"
   ]
  },
  {
   "cell_type": "code",
   "execution_count": 32,
   "id": "a9f08765",
   "metadata": {},
   "outputs": [
    {
     "data": {
      "text/plain": [
       "[[10, 20, 30],\n",
       " ['hi', 'hello'],\n",
       " [12, 'hi', 4.2, (2+2j)],\n",
       " [[10, 20, 30], [12, 'hi', 4.2, (2+2j)], [12, 'hi', 4.2, (2+2j)]]]"
      ]
     },
     "execution_count": 32,
     "metadata": {},
     "output_type": "execute_result"
    }
   ],
   "source": [
    "nums4=[nums,nums1,nums2,nums3]\n",
    "nums4"
   ]
  },
  {
   "cell_type": "code",
   "execution_count": 33,
   "id": "9e0ac666",
   "metadata": {},
   "outputs": [
    {
     "data": {
      "text/plain": [
       "[10, 20, 30]"
      ]
     },
     "execution_count": 33,
     "metadata": {},
     "output_type": "execute_result"
    }
   ],
   "source": [
    "nums"
   ]
  },
  {
   "cell_type": "code",
   "execution_count": 34,
   "id": "f40de579",
   "metadata": {},
   "outputs": [],
   "source": [
    "nums.append(45)"
   ]
  },
  {
   "cell_type": "code",
   "execution_count": 35,
   "id": "ca08b377",
   "metadata": {},
   "outputs": [],
   "source": [
    "nums.append(30)"
   ]
  },
  {
   "cell_type": "code",
   "execution_count": 36,
   "id": "11150e30",
   "metadata": {},
   "outputs": [],
   "source": [
    "nums.remove(30)"
   ]
  },
  {
   "cell_type": "code",
   "execution_count": 37,
   "id": "2af777ee",
   "metadata": {},
   "outputs": [
    {
     "data": {
      "text/plain": [
       "[10, 20, 45, 30]"
      ]
     },
     "execution_count": 37,
     "metadata": {},
     "output_type": "execute_result"
    }
   ],
   "source": [
    "nums"
   ]
  },
  {
   "cell_type": "code",
   "execution_count": null,
   "id": "2c4dd575",
   "metadata": {},
   "outputs": [
    {
     "data": {
      "text/plain": [
       "20"
      ]
     },
     "execution_count": 38,
     "metadata": {},
     "output_type": "execute_result"
    }
   ],
   "source": [
    "nums.pop(1) ## it delete the element index wise "
   ]
  },
  {
   "cell_type": "code",
   "execution_count": 39,
   "id": "d93d3c81",
   "metadata": {},
   "outputs": [
    {
     "data": {
      "text/plain": [
       "30"
      ]
     },
     "execution_count": 39,
     "metadata": {},
     "output_type": "execute_result"
    }
   ],
   "source": [
    "nums.pop() ### if you are not mnetioned the index it will the element from last index"
   ]
  },
  {
   "cell_type": "code",
   "execution_count": null,
   "id": "9ba6b76c",
   "metadata": {},
   "outputs": [],
   "source": [
    "nums1.insert(2,'nit') ### it will insert the element the index wise ,nit will insert where index is present the element which already prsent in in list that will shift on right side"
   ]
  },
  {
   "cell_type": "code",
   "execution_count": 42,
   "id": "2c6c5cee",
   "metadata": {},
   "outputs": [
    {
     "data": {
      "text/plain": [
       "['hi', 'hello', 'nit', 'nit']"
      ]
     },
     "execution_count": 42,
     "metadata": {},
     "output_type": "execute_result"
    }
   ],
   "source": [
    "nums1"
   ]
  },
  {
   "cell_type": "code",
   "execution_count": null,
   "id": "822f7ce9",
   "metadata": {},
   "outputs": [],
   "source": [
    "nums1.insert(2,'abc')\n"
   ]
  },
  {
   "cell_type": "code",
   "execution_count": 44,
   "id": "392c1c40",
   "metadata": {},
   "outputs": [
    {
     "data": {
      "text/plain": [
       "['hi', 'hello', 'abc', 'nit', 'nit']"
      ]
     },
     "execution_count": 44,
     "metadata": {},
     "output_type": "execute_result"
    }
   ],
   "source": [
    "nums1"
   ]
  },
  {
   "cell_type": "code",
   "execution_count": 45,
   "id": "726361c0",
   "metadata": {},
   "outputs": [
    {
     "data": {
      "text/plain": [
       "[12, 'hi', 4.2, (2+2j)]"
      ]
     },
     "execution_count": 45,
     "metadata": {},
     "output_type": "execute_result"
    }
   ],
   "source": [
    "nums2"
   ]
  },
  {
   "cell_type": "code",
   "execution_count": null,
   "id": "53e3be12",
   "metadata": {},
   "outputs": [],
   "source": [
    "# delete multiple walue from the list\n",
    "del nums2[0:2] ## it will delete the element from index 0 to 2 (2 is exclude )"
   ]
  },
  {
   "cell_type": "code",
   "execution_count": 48,
   "id": "525b11d0",
   "metadata": {},
   "outputs": [
    {
     "data": {
      "text/plain": [
       "[4.2, (2+2j)]"
      ]
     },
     "execution_count": 48,
     "metadata": {},
     "output_type": "execute_result"
    }
   ],
   "source": [
    "nums2"
   ]
  },
  {
   "cell_type": "code",
   "execution_count": 50,
   "id": "5972856b",
   "metadata": {},
   "outputs": [],
   "source": [
    "# add mulitple values to list \n",
    "nums2.extend([12,23,45,60])"
   ]
  },
  {
   "cell_type": "code",
   "execution_count": 51,
   "id": "50061821",
   "metadata": {},
   "outputs": [
    {
     "data": {
      "text/plain": [
       "[4.2, (2+2j), 12, 23, 45, 60]"
      ]
     },
     "execution_count": 51,
     "metadata": {},
     "output_type": "execute_result"
    }
   ],
   "source": [
    "nums2"
   ]
  },
  {
   "cell_type": "code",
   "execution_count": 52,
   "id": "c7773d97",
   "metadata": {},
   "outputs": [
    {
     "data": {
      "text/plain": [
       "[[10, 45], [4.2, (2+2j), 12, 23, 45, 60], [4.2, (2+2j), 12, 23, 45, 60]]"
      ]
     },
     "execution_count": 52,
     "metadata": {},
     "output_type": "execute_result"
    }
   ],
   "source": [
    "nums3"
   ]
  },
  {
   "cell_type": "code",
   "execution_count": 53,
   "id": "f1a53b6a",
   "metadata": {},
   "outputs": [
    {
     "data": {
      "text/plain": [
       "[[10, 45],\n",
       " [4.2, (2+2j), 12, 23, 45, 60],\n",
       " [4.2, (2+2j), 12, 23, 45, 60],\n",
       " 12,\n",
       " 23,\n",
       " 45,\n",
       " 70]"
      ]
     },
     "execution_count": 53,
     "metadata": {},
     "output_type": "execute_result"
    }
   ],
   "source": [
    "nums3.extend([12,23,45,70])\n",
    "nums3"
   ]
  },
  {
   "cell_type": "code",
   "execution_count": 54,
   "id": "32fade33",
   "metadata": {},
   "outputs": [
    {
     "data": {
      "text/plain": [
       "10"
      ]
     },
     "execution_count": 54,
     "metadata": {},
     "output_type": "execute_result"
    }
   ],
   "source": [
    "# inbuild function\n",
    "min(nums)"
   ]
  },
  {
   "cell_type": "code",
   "execution_count": null,
   "id": "071322fc",
   "metadata": {},
   "outputs": [
    {
     "data": {
      "text/plain": [
       "45"
      ]
     },
     "execution_count": 55,
     "metadata": {},
     "output_type": "execute_result"
    }
   ],
   "source": [
    "max(nums) # inbuilt function"
   ]
  },
  {
   "cell_type": "code",
   "execution_count": null,
   "id": "26acfa1d",
   "metadata": {},
   "outputs": [
    {
     "data": {
      "text/plain": [
       "55"
      ]
     },
     "execution_count": 56,
     "metadata": {},
     "output_type": "execute_result"
    }
   ],
   "source": [
    "sum(nums) # inbuilt  function ,addition of  all present in list"
   ]
  },
  {
   "cell_type": "code",
   "execution_count": null,
   "id": "f38139b9",
   "metadata": {},
   "outputs": [],
   "source": [
    "nums.sort() ## sort the elements in asceding order"
   ]
  },
  {
   "cell_type": "code",
   "execution_count": 58,
   "id": "0691e938",
   "metadata": {},
   "outputs": [
    {
     "data": {
      "text/plain": [
       "[10, 45]"
      ]
     },
     "execution_count": 58,
     "metadata": {},
     "output_type": "execute_result"
    }
   ],
   "source": [
    "nums"
   ]
  },
  {
   "cell_type": "markdown",
   "id": "84b7e66d",
   "metadata": {},
   "source": [
    "### TUPLE\n",
    "- Tuple : Python Tuple is a collection of objects separated by commas. In some ways, a tuple is similar to a Python list in terms of indexing, nested objects, and repetition but the main\n",
    "difference between both is Python tuple is immutable, unlike the Python list which is mutable.\n",
    "Create Tuples using Round Brackets ()\n"
   ]
  },
  {
   "cell_type": "code",
   "execution_count": 1,
   "id": "01209c10",
   "metadata": {},
   "outputs": [
    {
     "data": {
      "text/plain": [
       "(12, 13, 14, 15)"
      ]
     },
     "execution_count": 1,
     "metadata": {},
     "output_type": "execute_result"
    }
   ],
   "source": [
    "t=(12,13,14,15)\n",
    "t"
   ]
  },
  {
   "cell_type": "code",
   "execution_count": 2,
   "id": "2ceef0d6",
   "metadata": {},
   "outputs": [
    {
     "data": {
      "text/plain": [
       "tuple"
      ]
     },
     "execution_count": 2,
     "metadata": {},
     "output_type": "execute_result"
    }
   ],
   "source": [
    "type(t)"
   ]
  },
  {
   "cell_type": "code",
   "execution_count": 3,
   "id": "f3f6bb86",
   "metadata": {},
   "outputs": [
    {
     "ename": "TypeError",
     "evalue": "'tuple' object does not support item assignment",
     "output_type": "error",
     "traceback": [
      "\u001b[1;31m---------------------------------------------------------------------------\u001b[0m",
      "\u001b[1;31mTypeError\u001b[0m                                 Traceback (most recent call last)",
      "Cell \u001b[1;32mIn[3], line 1\u001b[0m\n\u001b[1;32m----> 1\u001b[0m \u001b[43mt\u001b[49m\u001b[43m[\u001b[49m\u001b[38;5;241;43m0\u001b[39;49m\u001b[43m]\u001b[49m\u001b[38;5;241m=\u001b[39m\u001b[38;5;241m10\u001b[39m\n",
      "\u001b[1;31mTypeError\u001b[0m: 'tuple' object does not support item assignment"
     ]
    }
   ],
   "source": [
    "t[0]=10"
   ]
  },
  {
   "cell_type": "code",
   "execution_count": 6,
   "id": "1cac17f4",
   "metadata": {},
   "outputs": [
    {
     "data": {
      "text/plain": [
       "0"
      ]
     },
     "execution_count": 6,
     "metadata": {},
     "output_type": "execute_result"
    }
   ],
   "source": [
    "t.index(12)"
   ]
  },
  {
   "cell_type": "code",
   "execution_count": 7,
   "id": "f0b0b51d",
   "metadata": {},
   "outputs": [
    {
     "data": {
      "text/plain": [
       "0"
      ]
     },
     "execution_count": 7,
     "metadata": {},
     "output_type": "execute_result"
    }
   ],
   "source": [
    "t.count(10)"
   ]
  },
  {
   "cell_type": "code",
   "execution_count": 8,
   "id": "a2c71ac0",
   "metadata": {},
   "outputs": [],
   "source": [
    "icici = (123456789, 'cizp4456u', 200000, '12th dec 2000')"
   ]
  },
  {
   "cell_type": "code",
   "execution_count": 9,
   "id": "62138b96",
   "metadata": {},
   "outputs": [
    {
     "data": {
      "text/plain": [
       "(123456789, 'cizp4456u')"
      ]
     },
     "execution_count": 9,
     "metadata": {},
     "output_type": "execute_result"
    }
   ],
   "source": [
    "icici[:2]"
   ]
  },
  {
   "cell_type": "code",
   "execution_count": 10,
   "id": "47d9728e",
   "metadata": {},
   "outputs": [
    {
     "data": {
      "text/plain": [
       "'12th dec 2000'"
      ]
     },
     "execution_count": 10,
     "metadata": {},
     "output_type": "execute_result"
    }
   ],
   "source": [
    "icici[3]"
   ]
  },
  {
   "cell_type": "code",
   "execution_count": 16,
   "id": "65b3605e",
   "metadata": {},
   "outputs": [
    {
     "data": {
      "text/plain": [
       "'12th dec 2000'"
      ]
     },
     "execution_count": 16,
     "metadata": {},
     "output_type": "execute_result"
    }
   ],
   "source": [
    "icici[3]"
   ]
  },
  {
   "cell_type": "code",
   "execution_count": 19,
   "id": "2be375c3",
   "metadata": {},
   "outputs": [
    {
     "name": "stdout",
     "output_type": "stream",
     "text": [
      "d\n"
     ]
    }
   ],
   "source": [
    "print(icici[3][5]) #nested indexing "
   ]
  },
  {
   "cell_type": "code",
   "execution_count": 20,
   "id": "3044e2dd",
   "metadata": {},
   "outputs": [],
   "source": [
    "t1=(10, 20, 30, 5.6, 'nit', (1+2j), True, False, 10)"
   ]
  },
  {
   "cell_type": "code",
   "execution_count": 21,
   "id": "48babf2c",
   "metadata": {},
   "outputs": [
    {
     "data": {
      "text/plain": [
       "(20, 5.6, (1+2j))"
      ]
     },
     "execution_count": 21,
     "metadata": {},
     "output_type": "execute_result"
    }
   ],
   "source": [
    "t1[1:6:2] # step=2 till index= 6, starting index =1"
   ]
  },
  {
   "cell_type": "code",
   "execution_count": 23,
   "id": "20d60090",
   "metadata": {},
   "outputs": [
    {
     "name": "stdout",
     "output_type": "stream",
     "text": [
      "(0, 10)\n",
      "(1, 20)\n",
      "(2, 30)\n",
      "(3, 5.6)\n",
      "(4, 'nit')\n",
      "(5, (1+2j))\n",
      "(6, True)\n",
      "(7, False)\n",
      "(8, 10)\n"
     ]
    }
   ],
   "source": [
    "for i in enumerate(t1): #it will print the element along with index number \n",
    "    print(i)"
   ]
  },
  {
   "cell_type": "code",
   "execution_count": 25,
   "id": "157f9ffb",
   "metadata": {},
   "outputs": [
    {
     "data": {
      "text/plain": [
       "[12, 13, 14, 15]"
      ]
     },
     "execution_count": 25,
     "metadata": {},
     "output_type": "execute_result"
    }
   ],
   "source": [
    "sorted(t)"
   ]
  },
  {
   "cell_type": "code",
   "execution_count": null,
   "id": "4308460c",
   "metadata": {},
   "outputs": [],
   "source": []
  },
  {
   "cell_type": "markdown",
   "id": "784b78b2",
   "metadata": {},
   "source": [
    "#### Set :\n",
    "- A Set in Python programming is an unordered collection data type that is iterable and has no duplicate elements. While sets are mutable, meaning you can add or remove elements after their creation, the individual elements within the set must be immutable and cannot be changed directly.\n",
    " The major advantage of using a set, as opposed to a list, is that it has a highly optimized method for checking whether a specific element is contained in the set. This is based on  data structure known as a hash table. Since sets are unordered, we cannot access items using indexes as we do in lists.\n"
   ]
  },
  {
   "cell_type": "code",
   "execution_count": 32,
   "id": "0459dab0",
   "metadata": {},
   "outputs": [],
   "source": [
    "set1={}\n",
    "# set={} dict In Python, when you write set = {}, it creates an empty dictionary, not a set. This is because {} by default is used to represent a dictionary, not a set.\n"
   ]
  },
  {
   "cell_type": "code",
   "execution_count": 33,
   "id": "59d5313f",
   "metadata": {},
   "outputs": [
    {
     "data": {
      "text/plain": [
       "dict"
      ]
     },
     "execution_count": 33,
     "metadata": {},
     "output_type": "execute_result"
    }
   ],
   "source": [
    "type (set1)"
   ]
  },
  {
   "cell_type": "code",
   "execution_count": 2,
   "id": "96de46d5",
   "metadata": {},
   "outputs": [
    {
     "name": "stdout",
     "output_type": "stream",
     "text": [
      "<class 'set'>\n"
     ]
    }
   ],
   "source": [
    "empty_set = set()\n",
    "print(type(empty_set))"
   ]
  },
  {
   "cell_type": "code",
   "execution_count": 3,
   "id": "51838871",
   "metadata": {},
   "outputs": [
    {
     "data": {
      "text/plain": [
       "set()"
      ]
     },
     "execution_count": 3,
     "metadata": {},
     "output_type": "execute_result"
    }
   ],
   "source": [
    "empty_set"
   ]
  },
  {
   "cell_type": "code",
   "execution_count": 4,
   "id": "0d03fd26",
   "metadata": {},
   "outputs": [
    {
     "name": "stdout",
     "output_type": "stream",
     "text": [
      "{34, 67, 35, 12, 23}\n",
      "{34, 12, 50, 56, 61}\n"
     ]
    }
   ],
   "source": [
    "# createting set by list \n",
    "set_by_list=set([12,34,35,23,12,67])\n",
    "set_by_tuple=set((12,12,34,56,50,50,61))\n",
    "\n",
    "print(set_by_list)\n",
    "print(set_by_tuple)"
   ]
  },
  {
   "cell_type": "code",
   "execution_count": 6,
   "id": "767f515a",
   "metadata": {},
   "outputs": [
    {
     "data": {
      "text/plain": [
       "{12, 13, 23, 45, 70}"
      ]
     },
     "execution_count": 6,
     "metadata": {},
     "output_type": "execute_result"
    }
   ],
   "source": [
    "s1={12,13,45,12,45,23,70}\n",
    "print(s1)"
   ]
  },
  {
   "cell_type": "code",
   "execution_count": 9,
   "id": "082bcfb2",
   "metadata": {},
   "outputs": [
    {
     "name": "stdout",
     "output_type": "stream",
     "text": [
      "{45, 70, 23, 12, 13, 'hello'}\n"
     ]
    }
   ],
   "source": [
    "s1.add('hello')\n",
    "print(s1)"
   ]
  },
  {
   "cell_type": "code",
   "execution_count": 10,
   "id": "58396d60",
   "metadata": {},
   "outputs": [
    {
     "name": "stdout",
     "output_type": "stream",
     "text": [
      "{45, 70, 23, 12, 13, 'hello'}\n"
     ]
    }
   ],
   "source": [
    "\n",
    "s2=s1.copy()\n",
    "print(s2)"
   ]
  },
  {
   "cell_type": "code",
   "execution_count": 11,
   "id": "c6e7e3a6",
   "metadata": {},
   "outputs": [
    {
     "name": "stdout",
     "output_type": "stream",
     "text": [
      "set()\n"
     ]
    }
   ],
   "source": [
    "s2.clear()\n",
    "print(s2)"
   ]
  },
  {
   "cell_type": "code",
   "execution_count": 12,
   "id": "dbfa340f",
   "metadata": {},
   "outputs": [
    {
     "data": {
      "text/plain": [
       "45"
      ]
     },
     "execution_count": 12,
     "metadata": {},
     "output_type": "execute_result"
    }
   ],
   "source": [
    "s1.pop()"
   ]
  },
  {
   "cell_type": "code",
   "execution_count": 19,
   "id": "dc02f183",
   "metadata": {},
   "outputs": [
    {
     "name": "stdout",
     "output_type": "stream",
     "text": [
      "{70, 23, 12, 13, 'hello'}\n"
     ]
    }
   ],
   "source": [
    "print(s1)"
   ]
  },
  {
   "cell_type": "code",
   "execution_count": 21,
   "id": "19345844",
   "metadata": {},
   "outputs": [],
   "source": [
    "s1.remove(12)# it remove the element from the set it take exactly one parameter that is set element if element is not present in set then it give an errorKeyError"
   ]
  },
  {
   "cell_type": "code",
   "execution_count": 23,
   "id": "e807d72e",
   "metadata": {},
   "outputs": [
    {
     "name": "stdout",
     "output_type": "stream",
     "text": [
      "{70, 23, 13}\n"
     ]
    }
   ],
   "source": [
    "s1.discard('hello')\n",
    "print(s1)"
   ]
  },
  {
   "cell_type": "code",
   "execution_count": null,
   "id": "8640e269",
   "metadata": {},
   "outputs": [],
   "source": [
    "s1[0] #TypeError set' object is not subscriptable "
   ]
  },
  {
   "cell_type": "code",
   "execution_count": 28,
   "id": "d35ed2be",
   "metadata": {},
   "outputs": [
    {
     "name": "stdout",
     "output_type": "stream",
     "text": [
      "{4, 70, 23, 8, 12, 13}\n"
     ]
    }
   ],
   "source": [
    "s1.update([70,12,4,8])\n",
    "print(s1)"
   ]
  },
  {
   "cell_type": "code",
   "execution_count": 29,
   "id": "84c835d2",
   "metadata": {},
   "outputs": [],
   "source": [
    "s1.update('welcome')"
   ]
  },
  {
   "cell_type": "code",
   "execution_count": 30,
   "id": "6dd50bb9",
   "metadata": {},
   "outputs": [
    {
     "name": "stdout",
     "output_type": "stream",
     "text": [
      "{'w', 4, 'e', 70, 'c', 8, 'l', 12, 13, 23, 'o', 'm'}\n"
     ]
    }
   ],
   "source": [
    "print(s1)\n",
    "# s1.update('welcome')\n",
    "# s1 {10, 3, 3.3, 5, 50, 'c', 'e', 'l', 'm', 'nit', 'o', 'w'} The update() method takes an iterable (in this case, a string) and adds its elements to the set. Since sets only contain unique items, it will add each character of the string 'welcome' as individual elements to s1\n"
   ]
  },
  {
   "cell_type": "code",
   "execution_count": 31,
   "id": "e308516c",
   "metadata": {},
   "outputs": [],
   "source": [
    "A = {1,2,3,4,5}\n",
    "B = {4,5,6,7,8}\n",
    "C = {9,10}\n"
   ]
  },
  {
   "cell_type": "code",
   "execution_count": 32,
   "id": "c0bd7c43",
   "metadata": {},
   "outputs": [
    {
     "data": {
      "text/plain": [
       "{1, 2, 3, 4, 5, 6, 7, 8}"
      ]
     },
     "execution_count": 32,
     "metadata": {},
     "output_type": "execute_result"
    }
   ],
   "source": [
    "A.union(B)\n",
    "# The A.union(B) operation combines the elements of sets A and B into a new set, removing any duplicate values.\n",
    "# Duplicates (like 4 and 5) are included only once in the result.A | B  is similar to union method \n",
    "\n"
   ]
  },
  {
   "cell_type": "code",
   "execution_count": 33,
   "id": "dc65af22",
   "metadata": {},
   "outputs": [
    {
     "data": {
      "text/plain": [
       "{1, 2, 3, 4, 5, 6, 7, 8, 9, 10}"
      ]
     },
     "execution_count": 33,
     "metadata": {},
     "output_type": "execute_result"
    }
   ],
   "source": [
    "A.union(B,C)"
   ]
  },
  {
   "cell_type": "code",
   "execution_count": 34,
   "id": "51ee6392",
   "metadata": {},
   "outputs": [
    {
     "data": {
      "text/plain": [
       "{4, 5}"
      ]
     },
     "execution_count": 34,
     "metadata": {},
     "output_type": "execute_result"
    }
   ],
   "source": [
    "A.intersection(B)\n",
    "# {4, 5} opposite union The A.intersection(B) operation returns a new set containing only the elements \n",
    "# that are common to both sets A and B."
   ]
  },
  {
   "cell_type": "code",
   "execution_count": 35,
   "id": "98484d82",
   "metadata": {},
   "outputs": [
    {
     "data": {
      "text/plain": [
       "{1, 2, 3}"
      ]
     },
     "execution_count": 35,
     "metadata": {},
     "output_type": "execute_result"
    }
   ],
   "source": [
    "A.difference(B)\n",
    "# A={1, 2, 3, 4, 5} B={4,5,6,7,8}output={1,2,3}method in Python returns a new set containing all the elements \n",
    "# that are in set A but not in set B. It is equivalent to the A - B operation."
   ]
  },
  {
   "cell_type": "code",
   "execution_count": 36,
   "id": "15a8a0df",
   "metadata": {},
   "outputs": [
    {
     "data": {
      "text/plain": [
       "False"
      ]
     },
     "execution_count": 36,
     "metadata": {},
     "output_type": "execute_result"
    }
   ],
   "source": [
    "B.issubset(A)\n",
    "# True The B1.issubset(A1) method checks if all elements of set B1 are also present in set A1. It returns True if B1 is a subset of A1, and False otherwise."
   ]
  },
  {
   "cell_type": "code",
   "execution_count": 41,
   "id": "7c7763ff",
   "metadata": {},
   "outputs": [
    {
     "data": {
      "text/plain": [
       "True"
      ]
     },
     "execution_count": 41,
     "metadata": {},
     "output_type": "execute_result"
    }
   ],
   "source": [
    "C.isdisjoint(A) # All element of A id diffrent fro set c"
   ]
  },
  {
   "cell_type": "code",
   "execution_count": 43,
   "id": "03ab8cb6",
   "metadata": {},
   "outputs": [
    {
     "data": {
      "text/plain": [
       "False"
      ]
     },
     "execution_count": 43,
     "metadata": {},
     "output_type": "execute_result"
    }
   ],
   "source": [
    "A.isdisjoint(B) # all element of b is not different from A set"
   ]
  },
  {
   "cell_type": "markdown",
   "id": "9ba4dad0",
   "metadata": {},
   "source": [
    "### Dictionary: \n",
    "- Dictionaries are used to store data values in key:value pairs. A dictionary is a collection which is ordered*, changeable and do not allow duplicates, declared as {},"
   ]
  },
  {
   "cell_type": "code",
   "execution_count": 44,
   "id": "860cf49a",
   "metadata": {},
   "outputs": [
    {
     "name": "stdout",
     "output_type": "stream",
     "text": [
      "<class 'dict'>\n"
     ]
    }
   ],
   "source": [
    "d={} # this is an empty dictionary\n",
    "print(type(d))"
   ]
  },
  {
   "cell_type": "code",
   "execution_count": 49,
   "id": "f6ea7ff0",
   "metadata": {},
   "outputs": [],
   "source": [
    "d1=dict()# created an empty dictionary using dict constrcutor "
   ]
  },
  {
   "cell_type": "code",
   "execution_count": 50,
   "id": "512bcf35",
   "metadata": {},
   "outputs": [],
   "source": [
    "d1={'one':1,'tow':2,'three':3}\n"
   ]
  },
  {
   "cell_type": "code",
   "execution_count": 51,
   "id": "9c64c7b8",
   "metadata": {},
   "outputs": [
    {
     "name": "stdout",
     "output_type": "stream",
     "text": [
      "dict_keys(['one', 'tow', 'three'])\n"
     ]
    }
   ],
   "source": [
    "print(d1.keys())"
   ]
  },
  {
   "cell_type": "code",
   "execution_count": 54,
   "id": "bcc3c467",
   "metadata": {},
   "outputs": [
    {
     "name": "stdout",
     "output_type": "stream",
     "text": [
      "1\n"
     ]
    }
   ],
   "source": [
    "print(d1['one'])"
   ]
  },
  {
   "cell_type": "code",
   "execution_count": 55,
   "id": "d3a59459",
   "metadata": {},
   "outputs": [
    {
     "name": "stdout",
     "output_type": "stream",
     "text": [
      "dict_values([1, 2, 3])\n"
     ]
    }
   ],
   "source": [
    "print(d1.values())"
   ]
  },
  {
   "cell_type": "code",
   "execution_count": 59,
   "id": "a5aaf418",
   "metadata": {},
   "outputs": [
    {
     "data": {
      "text/plain": [
       "1"
      ]
     },
     "execution_count": 59,
     "metadata": {},
     "output_type": "execute_result"
    }
   ],
   "source": [
    "d1.pop('one')"
   ]
  },
  {
   "cell_type": "code",
   "execution_count": 60,
   "id": "f10185c6",
   "metadata": {},
   "outputs": [
    {
     "name": "stdout",
     "output_type": "stream",
     "text": [
      "tow\n",
      "three\n"
     ]
    }
   ],
   "source": [
    "for i in d1:\n",
    "    print(i)"
   ]
  },
  {
   "cell_type": "code",
   "execution_count": 61,
   "id": "ffb72802",
   "metadata": {},
   "outputs": [
    {
     "name": "stdout",
     "output_type": "stream",
     "text": [
      "(0, 'one')\n",
      "(1, 'tow')\n",
      "(2, 'three')\n"
     ]
    }
   ],
   "source": [
    "for i in enumerate(d):\n",
    "    print(i)"
   ]
  },
  {
   "cell_type": "code",
   "execution_count": 62,
   "id": "b92009dd",
   "metadata": {},
   "outputs": [],
   "source": [
    "# Create a dictionary that contain three dictionaries:\n",
    "my_family={\n",
    "    'child1':{\n",
    "        \"name\":'akhlad',\n",
    "        \"email\":'akhlad.contact@gmail.com'\n",
    "    },\n",
    "    'child2':{\n",
    "        \"name\":'asjad',\n",
    "        \"email\":\"asjad.contact@gmail.com\"\n",
    "    },\n",
    "     \"child3\":{\n",
    "         \"name\":'ashhad',\n",
    "         \"email\":'ashhad.contact@gmail.com'\n",
    "     }\n",
    "}"
   ]
  },
  {
   "cell_type": "code",
   "execution_count": 63,
   "id": "d945a1c6",
   "metadata": {},
   "outputs": [
    {
     "name": "stdout",
     "output_type": "stream",
     "text": [
      "{'name': 'akhlad', 'email': 'akhlad.contact@gmail.com'}\n"
     ]
    }
   ],
   "source": [
    "print(my_family['child1'])"
   ]
  },
  {
   "cell_type": "code",
   "execution_count": 64,
   "id": "5ffa9362",
   "metadata": {},
   "outputs": [
    {
     "name": "stdout",
     "output_type": "stream",
     "text": [
      "akhlad\n"
     ]
    }
   ],
   "source": [
    "print(my_family['child1']['name'])"
   ]
  },
  {
   "cell_type": "code",
   "execution_count": 65,
   "id": "240561dc",
   "metadata": {},
   "outputs": [],
   "source": [
    "# update the dictionary with specific key value pair\n",
    "my_family['child1']={\"name\":\"khalid\",\"email\":\"khalid.contact@gmail.com\"}"
   ]
  },
  {
   "cell_type": "code",
   "execution_count": 66,
   "id": "f4f058a9",
   "metadata": {},
   "outputs": [
    {
     "name": "stdout",
     "output_type": "stream",
     "text": [
      "{'name': 'khalid', 'email': 'khalid.contact@gmail.com'}\n"
     ]
    }
   ],
   "source": [
    "print(my_family['child1'])"
   ]
  },
  {
   "cell_type": "code",
   "execution_count": 68,
   "id": "e887c877",
   "metadata": {},
   "outputs": [],
   "source": [
    "# help(list)"
   ]
  },
  {
   "cell_type": "markdown",
   "id": "55133e2e",
   "metadata": {},
   "source": [
    "#### What are the different types of control statements in Python? \n",
    "- In Python, control statements are used to alter the flow of execution based on specific conditions or looping requirements. The main types of control statements are: \n",
    "- Conditional statements: if, else, elif \n",
    "- Looping statements: for, while\n",
    "- Control flow statements: break, continue, pass, return\n",
    "\n",
    "#### What are the two types of control statements? \n",
    "- The two primary types of control statements in Python are:\n",
    "- Conditional statements: Used to execute code based on certain conditions (if, else, elif). \n",
    "- Looping statements: Used to execute code repeatedly until a condition is met (for, while)\n",
    "\n",
    "#### Are control statements and conditional statements the same?\n",
    "- No, control statements and conditional statements are not exactly the same.\n",
    "- Conditional statements (if, else, elif) specifically deal with checking conditions and executing code based on whether those conditions are True or False. \n",
    "- Control statements encompass a broader category that includes both conditional statements (if, else, elif) and looping statements (for, while), as well as other statements \n",
    "(break, continue, pass, return) that control the flow of execution in a program\n"
   ]
  },
  {
   "cell_type": "markdown",
   "id": "4c4b7bc2",
   "metadata": {},
   "source": [
    "### Python conditional Statement Explanation:\n",
    "\n",
    "##### Python If Statement :\n",
    "- The if statement is the most simple decision-making statement. It is used to whether certain statement or block of statement will be executed or not "
   ]
  },
  {
   "cell_type": "code",
   "execution_count": 71,
   "id": "cb3d7270",
   "metadata": {},
   "outputs": [
    {
     "name": "stdout",
     "output_type": "stream",
     "text": [
      "i am out side if statement\n"
     ]
    }
   ],
   "source": [
    "##  illustrate pytho if statement\n",
    "i=9\n",
    "if i>=10:\n",
    "    print('i am inside if statement ')\n",
    "\n",
    "print('i am out side if statement')"
   ]
  },
  {
   "cell_type": "markdown",
   "id": "8fab718b",
   "metadata": {},
   "source": [
    "#### Python If Else Statement :\n",
    "The if statement alone tells us that if a condition is true it will execute a block of statements and if the condition is false it won’t. But if we want to do something else if the condition is false, we can use the else statement with the if statement Python to execute a block of code when the Python if condition is false"
   ]
  },
  {
   "cell_type": "code",
   "execution_count": 72,
   "id": "8f3a3432",
   "metadata": {},
   "outputs": [
    {
     "name": "stdout",
     "output_type": "stream",
     "text": [
      "i am inside else statement\n"
     ]
    }
   ],
   "source": [
    "##  illustrate pytho if elif statement\n",
    "i=9\n",
    "if i>=10:\n",
    "    print('i am inside if statement ')\n",
    "else:\n",
    "    print('i am inside else statement')"
   ]
  },
  {
   "cell_type": "markdown",
   "id": "7e24b851",
   "metadata": {},
   "source": [
    "#### Python Nested If Statement\n",
    "- A nested if is an if statement that is the target of another if statement. Nested if statements mean an if statement inside another if statement. Yes, \n",
    "Python allows us to nest if statements within if statements. i.e., we can place an if statement inside another if statement.\n"
   ]
  },
  {
   "cell_type": "code",
   "execution_count": 75,
   "id": "aa158a35",
   "metadata": {},
   "outputs": [
    {
     "name": "stdout",
     "output_type": "stream",
     "text": [
      "i am in parent if statement\n",
      "i am in child statement \n",
      "i am out side \n"
     ]
    }
   ],
   "source": [
    "i=10\n",
    "if i>=10:\n",
    "    print('i am in parent if statement')\n",
    "    if i>=9:\n",
    "        print('i am in child statement ')\n",
    "print('i am out side ')"
   ]
  },
  {
   "cell_type": "markdown",
   "id": "ae09dcff",
   "metadata": {},
   "source": [
    "#### Python Elif: \n",
    "- Here, a user can decide among multiple options. The if statements are executed from the top down. As soon as one of the conditions controlling the if is true, \n",
    "the statement associated with that if is executed, and the rest of the ladder is bypassed. If none of the conditions is true, then the final “else” statement will be executed\n"
   ]
  },
  {
   "cell_type": "code",
   "execution_count": 77,
   "id": "0c48cadf",
   "metadata": {},
   "outputs": [
    {
     "name": "stdout",
     "output_type": "stream",
     "text": [
      "i am second elif statement\n"
     ]
    }
   ],
   "source": [
    "# if any condtion is Trueprogram will terminate \n",
    "\n",
    "a=10\n",
    "if a>=11:\n",
    "    print('i am if statement ')\n",
    "elif a>=12:\n",
    "    print('i am first elif statement')\n",
    "elif a>=4:\n",
    "    print('i am second elif statement')"
   ]
  },
  {
   "cell_type": "markdown",
   "id": "75cfb342",
   "metadata": {},
   "source": [
    "#### Ternary Statement | Short Hand:  \n",
    "If Else Statement Whenever there is only a single statement to be executed inside the if block then shorthand  can be used. The statement can be put on the same line as the if statement\n",
    "#### Example of Python If shorthand:\n",
    " In the given example, we have a condition that if the number is less than 15, then further code will be executed.\n"
   ]
  },
  {
   "cell_type": "code",
   "execution_count": 78,
   "id": "2c001de7",
   "metadata": {},
   "outputs": [
    {
     "name": "stdout",
     "output_type": "stream",
     "text": [
      "i am less than 15\n"
     ]
    }
   ],
   "source": [
    "i=10\n",
    "if i<15 : print('i am less than 15')"
   ]
  },
  {
   "cell_type": "markdown",
   "id": "cbbfd29c",
   "metadata": {},
   "source": [
    "#### How many else statements can a single if condition have in Python?\n",
    "- A single if condition can have at most one else statement. However, you can have multiple elif (else if) statements to check additional conditions if needed:"
   ]
  },
  {
   "cell_type": "markdown",
   "id": "2fd1f3ea",
   "metadata": {},
   "source": [
    "#### LOOPS :\n",
    "- in programing world some time we keep on repeating ,may be you want to repeat 5 statement so one way is copy & paste multiple times  or other way is.\n",
    "if you want to print the datascience 10 times then what you will do you cant copy for 10 times , if you want to print 1000 times then you cant do manualy .\n",
    "- type of loops --  While loop & For loop\n"
   ]
  },
  {
   "cell_type": "code",
   "execution_count": 80,
   "id": "2da8971a",
   "metadata": {},
   "outputs": [
    {
     "name": "stdout",
     "output_type": "stream",
     "text": [
      "data science\n",
      "data science\n",
      "data science\n",
      "data science\n",
      "data science\n"
     ]
    }
   ],
   "source": [
    "print('data science')\n",
    "print('data science')\n",
    "print('data science')\n",
    "print('data science')\n",
    "print('data science')"
   ]
  },
  {
   "cell_type": "code",
   "execution_count": 81,
   "id": "209a750f",
   "metadata": {},
   "outputs": [
    {
     "name": "stdout",
     "output_type": "stream",
     "text": [
      "data science\n",
      "data science\n",
      "data science\n",
      "data science\n",
      "data science\n",
      "data science\n"
     ]
    }
   ],
   "source": [
    "i=0\n",
    "while i<=5:\n",
    "    print('data science')\n",
    "    i+=1\n",
    "\n",
    "    \n"
   ]
  },
  {
   "cell_type": "code",
   "execution_count": 82,
   "id": "2ec6573b",
   "metadata": {},
   "outputs": [
    {
     "name": "stdout",
     "output_type": "stream",
     "text": [
      "data science\n",
      "data science\n",
      "data science\n",
      "data science\n",
      "data science\n"
     ]
    }
   ],
   "source": [
    "for i in range(5):\n",
    "    print('data science')\n",
    "    i+=1"
   ]
  },
  {
   "cell_type": "code",
   "execution_count": 84,
   "id": "d5206806",
   "metadata": {},
   "outputs": [
    {
     "name": "stdout",
     "output_type": "stream",
     "text": [
      "data science : 1\n",
      "data science : 2\n",
      "data science : 3\n",
      "data science : 4\n",
      "data science : 5\n"
     ]
    }
   ],
   "source": [
    "i=1\n",
    "while i<=5:\n",
    "    print('data science',':',i)\n",
    "    i+=1"
   ]
  },
  {
   "cell_type": "code",
   "execution_count": 90,
   "id": "3ebeb0ee",
   "metadata": {},
   "outputs": [
    {
     "name": "stdout",
     "output_type": "stream",
     "text": [
      "data sceince : 1\n",
      "technology : 1\n",
      "technology : 2\n",
      "technology : 3\n",
      "technology : 4\n",
      "technology : 5\n",
      "data sceince : 2\n",
      "technology : 1\n",
      "technology : 2\n",
      "technology : 3\n",
      "technology : 4\n",
      "technology : 5\n",
      "data sceince : 3\n",
      "technology : 1\n",
      "technology : 2\n",
      "technology : 3\n",
      "technology : 4\n",
      "technology : 5\n",
      "data sceince : 4\n",
      "technology : 1\n",
      "technology : 2\n",
      "technology : 3\n",
      "technology : 4\n",
      "technology : 5\n",
      "data sceince : 5\n",
      "technology : 1\n",
      "technology : 2\n",
      "technology : 3\n",
      "technology : 4\n",
      "technology : 5\n"
     ]
    }
   ],
   "source": [
    "# nested while Loop \n",
    "i=1\n",
    "\n",
    "while i<=5:\n",
    "    print('data sceince',':',i)\n",
    "    i+=1\n",
    "    j=1\n",
    "    while j<=5:\n",
    "        print('technology',':',j)\n",
    "        j+=1\n",
    "        "
   ]
  },
  {
   "cell_type": "code",
   "execution_count": 99,
   "id": "b9ce32d8",
   "metadata": {},
   "outputs": [
    {
     "name": "stdout",
     "output_type": "stream",
     "text": [
      "data sceince : 1 technology,technology,technology,technology,technology,\n",
      "data sceince : 2 technology,technology,technology,technology,technology,\n",
      "data sceince : 3 technology,technology,technology,technology,technology,\n",
      "data sceince : 4 technology,technology,technology,technology,technology,\n",
      "data sceince : 5 technology,technology,technology,technology,technology,\n"
     ]
    }
   ],
   "source": [
    "# nested while Loop \n",
    "i=1\n",
    "\n",
    "while i<=5:\n",
    "    print('data sceince',':',i,end=' ')\n",
    "    i+=1\n",
    "    j=1\n",
    "    while j<=5:\n",
    "        print('technology',end=',')\n",
    "        j+=1\n",
    "    print()\n",
    "   \n",
    "        "
   ]
  },
  {
   "cell_type": "code",
   "execution_count": 100,
   "id": "8f404be7",
   "metadata": {},
   "outputs": [
    {
     "name": "stdout",
     "output_type": "stream",
     "text": [
      "0\n",
      "1\n",
      "2\n",
      "3\n",
      "4\n",
      "5\n",
      "6\n",
      "7\n",
      "8\n",
      "9\n",
      "10\n"
     ]
    }
   ],
   "source": [
    "for i in range(11):\n",
    "    print(i)"
   ]
  },
  {
   "cell_type": "markdown",
   "id": "63a7fb71",
   "metadata": {},
   "source": [
    "#### For|Else in python\n",
    "- in other language for else not supportable but in python it is supportable eg- lets print the number from 1- 20 & we dont want print number which is not divisible by \n",
    "- it is alongated with for loop indentation"
   ]
  },
  {
   "cell_type": "code",
   "execution_count": 101,
   "id": "a9935d2c",
   "metadata": {},
   "outputs": [
    {
     "name": "stdout",
     "output_type": "stream",
     "text": [
      "No even numbers found\n"
     ]
    }
   ],
   "source": [
    "numbers = [1, 3, 5, 7, 9]\n",
    "\n",
    "for num in numbers:\n",
    "    if num % 2 == 0:\n",
    "        print(\"Even number found:\", num)\n",
    "        break\n",
    "else:\n",
    "    print(\"No even numbers found\")"
   ]
  },
  {
   "cell_type": "code",
   "execution_count": 105,
   "id": "dd745e8a",
   "metadata": {},
   "outputs": [
    {
     "name": "stdout",
     "output_type": "stream",
     "text": [
      "Found 3!\n",
      "3 not found\n"
     ]
    }
   ],
   "source": [
    "for i in range(5):\n",
    "    if i == 3:\n",
    "        print(\"Found 3!\")\n",
    "        \n",
    "else:\n",
    "    print(\"3 not found\")\n"
   ]
  },
  {
   "cell_type": "code",
   "execution_count": 106,
   "id": "66478a72",
   "metadata": {},
   "outputs": [
    {
     "name": "stdout",
     "output_type": "stream",
     "text": [
      "Found 3!\n"
     ]
    }
   ],
   "source": [
    "# The else will execute because break was used.\n",
    "for i in range(5):\n",
    "    if i == 3:\n",
    "        print(\"Found 3!\")\n",
    "        break\n",
    "else:\n",
    "    print(\"3 not found\")\n"
   ]
  },
  {
   "cell_type": "markdown",
   "id": "fa5225c5",
   "metadata": {},
   "source": [
    "## operator's in python\n",
    "\n",
    "\n",
    "- ARITHMETIC OPERATOR ( + , -, *, /, %, %%, **, ^\n",
    "- ASSIGNMEN OPERATOR (=)\n",
    "- RELATIONAL OPERATOR\n",
    "- LOGICAL OPERATOR\n",
    "- UNARY OPERATOR"
   ]
  },
  {
   "cell_type": "markdown",
   "id": "a5d72c78",
   "metadata": {},
   "source": []
  },
  {
   "cell_type": "markdown",
   "id": "8b31bc7a",
   "metadata": {},
   "source": [
    "##### Arithmetic Operator"
   ]
  },
  {
   "cell_type": "code",
   "execution_count": null,
   "id": "eb53e05b",
   "metadata": {},
   "outputs": [
    {
     "name": "stdout",
     "output_type": "stream",
     "text": [
      "15\n",
      "5\n",
      "50\n",
      "2.0\n",
      "0\n",
      "2\n",
      "100000\n"
     ]
    }
   ],
   "source": [
    "x1,y1=10,5\n",
    "print(x1+y1)\n",
    "print(x1-y1)\n",
    "print(x1*y1)\n",
    "print(x1/y1)\n",
    "print(x1%y1)\n",
    "print(x1//y1) ### it will return value with  floating point or with out decimal value \n",
    "print(x1**y1)\n"
   ]
  },
  {
   "cell_type": "markdown",
   "id": "5bcbc158",
   "metadata": {},
   "source": [
    "#### Assignment operators"
   ]
  },
  {
   "cell_type": "code",
   "execution_count": 112,
   "id": "418c43f2",
   "metadata": {},
   "outputs": [
    {
     "name": "stdout",
     "output_type": "stream",
     "text": [
      "6\n",
      "-2\n",
      "8\n",
      "3.0\n",
      "3\n",
      "1296\n"
     ]
    }
   ],
   "source": [
    "x=2\n",
    "x=x+2\n",
    "x+=2\n",
    "print(x)\n",
    "y=2\n",
    "y=y-2\n",
    "y-=2\n",
    "print(y)\n",
    "z=2\n",
    "z=z*2\n",
    "z*=2\n",
    "print(z)\n",
    "p=12\n",
    "p=p/2\n",
    "p/=2\n",
    "print(p)\n",
    "\n",
    "q=12\n",
    "q=q//2\n",
    "q//=2\n",
    "print(q)\n",
    "\n",
    "r=6\n",
    "r=r**2\n",
    "r**=2\n",
    "print(r)\n",
    "\n",
    "\n",
    "\n"
   ]
  },
  {
   "cell_type": "markdown",
   "id": "112e72fe",
   "metadata": {},
   "source": [
    "## unary operator \n",
    "\n",
    "Here we are applying unary minus operator(-) on the operand n; the value of m becomes -7, which indicates it as a negative value."
   ]
  },
  {
   "cell_type": "code",
   "execution_count": 113,
   "id": "12044405",
   "metadata": {},
   "outputs": [
    {
     "name": "stdout",
     "output_type": "stream",
     "text": [
      "-7\n"
     ]
    }
   ],
   "source": [
    "n=7\n",
    "m=-(n)\n",
    "print(m)"
   ]
  },
  {
   "cell_type": "code",
   "execution_count": 114,
   "id": "6ec1c973",
   "metadata": {},
   "outputs": [
    {
     "data": {
      "text/plain": [
       "-7"
      ]
     },
     "execution_count": 114,
     "metadata": {},
     "output_type": "execute_result"
    }
   ],
   "source": [
    "-n"
   ]
  },
  {
   "cell_type": "markdown",
   "id": "aa503e38",
   "metadata": {},
   "source": [
    "# Relational operator \n",
    "- we are using this operator for comparing"
   ]
  },
  {
   "cell_type": "code",
   "execution_count": 117,
   "id": "3165a667",
   "metadata": {},
   "outputs": [
    {
     "name": "stdout",
     "output_type": "stream",
     "text": [
      "False\n",
      "False\n",
      "True\n",
      "False\n",
      "True\n",
      "True\n"
     ]
    }
   ],
   "source": [
    "a=5\n",
    "b=7\n",
    "print(a==b)\n",
    "print(a>=b)\n",
    "print(a<=7)\n",
    "print(a>b)\n",
    "print(a<b)\n",
    "print(a!=b)\n"
   ]
  },
  {
   "cell_type": "markdown",
   "id": "03d1f90b",
   "metadata": {},
   "source": [
    "#### Logical Operators\n",
    "- AND OR NOT"
   ]
  },
  {
   "cell_type": "code",
   "execution_count": null,
   "id": "942620bd",
   "metadata": {},
   "outputs": [
    {
     "name": "stdout",
     "output_type": "stream",
     "text": [
      "False\n",
      "True\n",
      "False\n",
      "True\n",
      "True\n",
      "True\n",
      "True\n"
     ]
    }
   ],
   "source": [
    "a=5\n",
    "b=7\n",
    "c=False\n",
    "print(a>b and a>=b)\n",
    "print(b>a and b>=a)\n",
    "print(a>b or a>=b)\n",
    "print(a>b or b>=a)\n",
    "print(a<b or b>=a)\n",
    "print(a>b or a<b)\n",
    "print(not c ) ## reversed the boolean value \n"
   ]
  },
  {
   "cell_type": "markdown",
   "id": "cd1ce67e",
   "metadata": {},
   "source": [
    "## Number system coverstion (bit-binary digit)\n",
    "binary : base (0-1) --> please divide 15/2 & count in reverse order \n",
    "octal : base (0-7)\n",
    "hexadecimal : base (0-9 & then a-f)\n",
    "when you check ipaddress you will these format --> cmd - ipconfig"
   ]
  },
  {
   "cell_type": "code",
   "execution_count": null,
   "id": "805654e5",
   "metadata": {},
   "outputs": [
    {
     "name": "stdout",
     "output_type": "stream",
     "text": [
      "0b11001\n",
      "0x19\n",
      "0o31\n"
     ]
    }
   ],
   "source": [
    "## conversion from decimal to binary ,decimal octal , decimal to hexadecimal\n",
    "a=25\n",
    "print(bin(a))\n",
    "print(hex(a))\n",
    "print(oct(a))"
   ]
  },
  {
   "cell_type": "code",
   "execution_count": null,
   "id": "06de0de9",
   "metadata": {},
   "outputs": [
    {
     "name": "stdout",
     "output_type": "stream",
     "text": [
      "25\n",
      "25\n",
      "25\n",
      "0x19\n",
      "0o31\n"
     ]
    }
   ],
   "source": [
    "# conversion hexa to decimal ,decimal to binary ,binary to hexa\n",
    "print(int(0b11001))\n",
    "print(int(0x19))\n",
    "print(int(0o31))\n",
    "print(hex(0b11001))\n",
    "print(oct(0x19))"
   ]
  },
  {
   "cell_type": "markdown",
   "id": "91c58da1",
   "metadata": {},
   "source": [
    "## BITWISE OPERATOR \n",
    "- WE HAVE 6 OPERATORS \n",
    "COMPLEMENT ( ~ ) || AND ( & )  || OR ( | ) || XOR ( ^ ) || LEFT SHIFT ( << ) || RIGHT SHIFT ( >> )"
   ]
  },
  {
   "cell_type": "code",
   "execution_count": 126,
   "id": "5c7dd00f",
   "metadata": {},
   "outputs": [
    {
     "data": {
      "text/plain": [
       "-13"
      ]
     },
     "execution_count": 126,
     "metadata": {},
     "output_type": "execute_result"
    }
   ],
   "source": [
    "# COMPLEMENT (~) (TILDE  OR TILD)\n",
    "~12 # why we get -13 . first we understand what is complment means (reversr of binary format)"
   ]
  },
  {
   "cell_type": "code",
   "execution_count": 138,
   "id": "6175da5e",
   "metadata": {},
   "outputs": [
    {
     "name": "stdout",
     "output_type": "stream",
     "text": [
      "5\n",
      "0\n",
      "12\n",
      "1\n",
      "1\n",
      "0\n",
      "32\n",
      "43\n",
      "1\n",
      "1\n",
      "0\n",
      "1\n",
      "0\n"
     ]
    }
   ],
   "source": [
    "print(~-6)\n",
    "print(~-1)\n",
    "print(12&13)\n",
    "print(1&1)\n",
    "print(1|0)\n",
    "print(1&0)\n",
    "print(35&40)\n",
    "print(35|40)\n",
    "print(12 ^ 13) # in XOR if the both number are different then we will get 1 or else we will get 0\n",
    "print(1|0)\n",
    "print(1^1)\n",
    "print(0^1)\n",
    "print(0^0)\n"
   ]
  },
  {
   "cell_type": "code",
   "execution_count": null,
   "id": "84ceef97",
   "metadata": {},
   "outputs": [
    {
     "name": "stdout",
     "output_type": "stream",
     "text": [
      "40\n",
      "2\n"
     ]
    }
   ],
   "source": [
    "# BIT WISE LEFT OPERATOR\n",
    "#bit wise left operator bydefault you will take 2 zeros ( )\n",
    "#10 binary operator is 1010 | also i can say 1010\n",
    "print(10<<2)\n",
    "print(10>>2)# right shift "
   ]
  },
  {
   "cell_type": "code",
   "execution_count": null,
   "id": "c87dac9f",
   "metadata": {},
   "outputs": [
    {
     "name": "stdout",
     "output_type": "stream",
     "text": [
      "4.898979485566356\n",
      "2\n",
      "3\n",
      "3.141592653589793\n",
      "9.0\n",
      "2.718281828459045\n"
     ]
    }
   ],
   "source": [
    "### import math module \n",
    "import math as mt \n",
    "print(mt.sqrt(24))\n",
    "print(mt.floor(2.8))\n",
    "print(mt.ceil(2.4))\n",
    "print(mt.pi)\n",
    "print(mt.pow(3,2))\n",
    "print(mt.e)w\n"
   ]
  },
  {
   "cell_type": "markdown",
   "id": "61cab36b",
   "metadata": {},
   "source": [
    "### user input function in python || command line input"
   ]
  },
  {
   "cell_type": "code",
   "execution_count": 145,
   "id": "19970a67",
   "metadata": {},
   "outputs": [
    {
     "name": "stdout",
     "output_type": "stream",
     "text": [
      "1223\n"
     ]
    }
   ],
   "source": [
    "x=input()\n",
    "y=input()\n",
    "z=x+y\n",
    "print(z)"
   ]
  },
  {
   "cell_type": "markdown",
   "id": "60aaf455",
   "metadata": {},
   "source": [
    "- lets take input from the user in char format, but we dont have char format in python"
   ]
  },
  {
   "cell_type": "code",
   "execution_count": 146,
   "id": "d03a9006",
   "metadata": {},
   "outputs": [
    {
     "data": {
      "text/plain": [
       "24"
      ]
     },
     "execution_count": 146,
     "metadata": {},
     "output_type": "execute_result"
    }
   ],
   "source": [
    "x2 = int(input('Enter the 1st number'))\n",
    "y2 = int(input('Enter the 2nd number'))\n",
    "z2 = x2 + y2\n",
    "z2"
   ]
  },
  {
   "cell_type": "code",
   "execution_count": 149,
   "id": "5373cac2",
   "metadata": {},
   "outputs": [
    {
     "name": "stdout",
     "output_type": "stream",
     "text": [
      "a\n",
      "k\n",
      "h\n",
      "d\n",
      "a\n",
      "a\n"
     ]
    }
   ],
   "source": [
    "ch=input('enter characters')\n",
    "print(ch[0])\n",
    "print(ch[1])\n",
    "print(ch[2])\n",
    "print(ch[-1])\n",
    "print(ch[-2])\n",
    "print(ch[-0])"
   ]
  },
  {
   "cell_type": "code",
   "execution_count": 150,
   "id": "53b07cca",
   "metadata": {},
   "outputs": [
    {
     "name": "stdout",
     "output_type": "stream",
     "text": [
      "c\n"
     ]
    }
   ],
   "source": [
    "ch=input('enter character')[0]\n",
    "print(ch)"
   ]
  },
  {
   "cell_type": "code",
   "execution_count": 151,
   "id": "f5a33f34",
   "metadata": {},
   "outputs": [
    {
     "name": "stdout",
     "output_type": "stream",
     "text": [
      "akhl\n"
     ]
    }
   ],
   "source": [
    "ch=input('enter character')[0:4]\n",
    "print(ch)"
   ]
  },
  {
   "cell_type": "code",
   "execution_count": 153,
   "id": "d1270fde",
   "metadata": {},
   "outputs": [
    {
     "name": "stdout",
     "output_type": "stream",
     "text": [
      "a=20,b=30,c=a+b\n"
     ]
    }
   ],
   "source": [
    "ch=input('enter expression')[:]\n",
    "print(ch)"
   ]
  },
  {
   "cell_type": "code",
   "execution_count": 156,
   "id": "dc00454b",
   "metadata": {},
   "outputs": [
    {
     "name": "stdout",
     "output_type": "stream",
     "text": [
      "21\n"
     ]
    }
   ],
   "source": [
    "ch=eval(input('enter expression'))\n",
    "print(ch)"
   ]
  },
  {
   "cell_type": "markdown",
   "id": "9760330a",
   "metadata": {},
   "source": [
    "### print function "
   ]
  },
  {
   "cell_type": "code",
   "execution_count": 158,
   "id": "8f681f32",
   "metadata": {},
   "outputs": [
    {
     "data": {
      "text/plain": [
       "10"
      ]
     },
     "execution_count": 158,
     "metadata": {},
     "output_type": "execute_result"
    }
   ],
   "source": [
    "a=20\n",
    "b=10\n",
    "a\n",
    "b # it will print last statment "
   ]
  },
  {
   "cell_type": "code",
   "execution_count": 159,
   "id": "63c4c586",
   "metadata": {},
   "outputs": [
    {
     "name": "stdout",
     "output_type": "stream",
     "text": [
      "20\n",
      "10\n"
     ]
    }
   ],
   "source": [
    "# in order to print both a and b use print function \n",
    "a=20\n",
    "b=10\n",
    "print (a)\n",
    "print(b)"
   ]
  },
  {
   "cell_type": "code",
   "execution_count": 160,
   "id": "cac73385",
   "metadata": {},
   "outputs": [
    {
     "name": "stdout",
     "output_type": "stream",
     "text": [
      "20 10 akhlad\n"
     ]
    }
   ],
   "source": [
    "# print more than one varibale \n",
    "print(a,b, 'akhlad')"
   ]
  },
  {
   "cell_type": "code",
   "execution_count": 163,
   "id": "dbd7cb1d",
   "metadata": {},
   "outputs": [
    {
     "name": "stdout",
     "output_type": "stream",
     "text": [
      "value of a is  10 value b is  20 simple string is  akhlad\n",
      "addition of 10 and 20 is  30\n"
     ]
    }
   ],
   "source": [
    "# pritn with message\n",
    "a=10\n",
    "b=20\n",
    "add=a+b\n",
    "print('value of a is ',a,'value b is ',b,'simple string is ','akhlad') \n",
    "print('addition of {} and {} is  {}'.format(a,b,add))\n"
   ]
  },
  {
   "cell_type": "markdown",
   "id": "64d0abbe",
   "metadata": {},
   "source": [
    "### More short format meythod(f string method)\n",
    "variable should be in curly braces\n",
    "and write everything inside quots ''\n",
    "at starting simpaly add f"
   ]
  },
  {
   "cell_type": "code",
   "execution_count": 166,
   "id": "58cc790d",
   "metadata": {},
   "outputs": [
    {
     "name": "stdout",
     "output_type": "stream",
     "text": [
      "the avrgae of 20 and 30 and 40 is 30.0\n"
     ]
    }
   ],
   "source": [
    "num1=20\n",
    "num2=30\n",
    "num3=40\n",
    "avg=(num1+num2+num3)/3\n",
    "print(f'the avrgae of {num1} and {num2} and {num3} is {avg}')\n"
   ]
  },
  {
   "cell_type": "code",
   "execution_count": null,
   "id": "eeea0c5f",
   "metadata": {},
   "outputs": [
    {
     "name": "stdout",
     "output_type": "stream",
     "text": [
      "hello good morning,how are sir ,is every thing fine\n"
     ]
    }
   ],
   "source": [
    "# end \n",
    "print('hello',end=' ')\n",
    "print('good morning',end=',')\n",
    "print ('how are sir ',end=',')\n",
    "print('is every thing fine')\n"
   ]
  },
  {
   "cell_type": "markdown",
   "id": "97dadbde",
   "metadata": {},
   "source": [
    "# seprator\n",
    "1. here one print statement only we use\n",
    "2. insisde one print statement we have multipal values\n",
    "3. we want to seperate these multipal values with anything"
   ]
  },
  {
   "cell_type": "code",
   "execution_count": 168,
   "id": "4f45e377",
   "metadata": {},
   "outputs": [
    {
     "name": "stdout",
     "output_type": "stream",
     "text": [
      "hello---->good---->morning---->this is python---->programming\n"
     ]
    }
   ],
   "source": [
    "print('hello','good','morning','this is python','programming', sep='---->')"
   ]
  }
 ],
 "metadata": {
  "kernelspec": {
   "display_name": "Python 3",
   "language": "python",
   "name": "python3"
  },
  "language_info": {
   "codemirror_mode": {
    "name": "ipython",
    "version": 3
   },
   "file_extension": ".py",
   "mimetype": "text/x-python",
   "name": "python",
   "nbconvert_exporter": "python",
   "pygments_lexer": "ipython3",
   "version": "3.12.7"
  }
 },
 "nbformat": 4,
 "nbformat_minor": 5
}
