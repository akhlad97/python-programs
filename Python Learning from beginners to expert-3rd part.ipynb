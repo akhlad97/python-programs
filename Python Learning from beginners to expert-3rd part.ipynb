{
 "cells": [
  {
   "cell_type": "code",
   "execution_count": null,
   "id": "b7542035",
   "metadata": {},
   "outputs": [],
   "source": []
  },
  {
   "cell_type": "markdown",
   "id": "7bceb39b",
   "metadata": {},
   "source": [
    "# OOPS CONCEPT \n",
    "- CLASS\n",
    "- OBJECT\n",
    "- METHOD\n",
    "- INHERITENCE\n",
    "- ENCAPSULATION \n",
    "- ABSTRACTION\n",
    "- POLYMORPHISM"
   ]
  },
  {
   "cell_type": "markdown",
   "id": "d1e30c5e",
   "metadata": {},
   "source": [
    "# PYTHON OBJECT ORIENTED PROGRAMMING\n",
    "\n",
    "- We discussed what is function & how to pass variable to the function and then we moved to module \n",
    "- Next move towards concept & one of the concept is OOPS concept \n",
    "- Python famous becauze fuctional orinetied programin language, do support procedue oriented & object oriented programing language \n",
    "- What is procedure - we call the function inside the function & breakdown the project to small small module. "
   ]
  },
  {
   "cell_type": "markdown",
   "id": "0deb3da7",
   "metadata": {},
   "source": [
    "#  Understanding Object and Class in Object-Oriented Programming (OOP)\n",
    "\n",
    "---\n",
    "\n",
    "##  Step 1: What Is an Object?\n",
    "\n",
    "###  Definition:\n",
    "An **object** is a virtual solution to solve real-world problems.  \n",
    "In programming, everything around us can be treated as an **object**.\n",
    "\n",
    "###  Real-Life Examples:\n",
    "- To **make a call**, you use a **phone** → Phone is an **object**\n",
    "- To **write code**, you use a **laptop** → Laptop is an **object**\n",
    "\n",
    ">  In the real world, everything is an object with **data** and **actions**\n",
    "\n",
    "---\n",
    "\n",
    "##  Step 2: What Makes Up an Object?\n",
    "\n",
    "Every object has:\n",
    "\n",
    "### 1️ Attributes (Properties/Data):\n",
    "These describe what the object **has**\n",
    "\n",
    "**Examples:**\n",
    "- My name\n",
    "- My weight\n",
    "- The company I work for\n",
    "\n",
    "These are all **attributes** of a `Person` object\n",
    "\n",
    "---\n",
    "\n",
    "### 2️ Behaviors (Actions/Functions):\n",
    "These describe what the object **does**\n",
    "\n",
    "**Examples:**\n",
    "- I am talking\n",
    "- I am explaining\n",
    "- I am walking\n",
    "\n",
    ">  In programming, behaviors are called **methods** (functions inside objects)\n",
    "\n",
    "---\n",
    "\n",
    "##  Step 3: What Is a Class?\n",
    "\n",
    "###  Definition:\n",
    "A **class** is a **blueprint**, **template**, or **design** used to create objects\n",
    "\n",
    "###  Real-Life Analogy:\n",
    "- A **phone design** is created once → this is a **class**\n",
    "- Thousands of **phones** are made from that design → these are **objects**\n",
    "\n",
    ">  Without a class (design), you cannot create an object (real product)\n",
    "\n",
    "---\n",
    "\n",
    "##  Step 4: Relation Between Class and Object\n",
    "\n",
    "| Concept       | Meaning                              |\n",
    "|---------------|--------------------------------------|\n",
    "| **Class**     | Blueprint or design of an object     |\n",
    "| **Object**    | Instance created using the class     |\n",
    "| **Method**    | Function inside a class (defines behavior) |\n",
    "| **Attribute** | Variable/data inside an object       |\n",
    "| **Instance**  | Another name for object              |\n",
    "\n",
    "---\n",
    "\n",
    "###  Real-World Mapping:\n",
    "\n",
    "| Real World             | OOP Concept                      |\n",
    "|------------------------|----------------------------------|\n",
    "| Phone Design           | Class (`Phone`)                  |\n",
    "| Actual Phone           | Object / Instance of class       |\n",
    "| Make a call, send SMS  | Methods (behaviors of object)    |\n",
    "| Color, brand, model    | Attributes (properties of object)|\n",
    "\n",
    "---\n",
    "\n",
    "##  Step 5: Final Key Points\n",
    "\n",
    "- **Class = Design**\n",
    "- **Object = Instance of that design**\n",
    "- **Attributes = Data**, **Methods = Behaviors**\n",
    "- In any object-oriented language (Java, Python, C++), **class and object always go together**\n",
    "- Without a class, you can't build an object\n",
    "\n",
    "---\n",
    "\n",
    "##  Summary\n",
    "\n",
    "> A **class** is a design; an **object** is the real thing built from that design — with its own **attributes** and **behaviors**.\n",
    "\n"
   ]
  },
  {
   "cell_type": "code",
   "execution_count": 2,
   "id": "18f4f025",
   "metadata": {},
   "outputs": [
    {
     "name": "stdout",
     "output_type": "stream",
     "text": [
      "<class 'int'>\n"
     ]
    }
   ],
   "source": [
    "a=5\n",
    "print(type(a)) # inbuilt class 'int'\n"
   ]
  },
  {
   "cell_type": "code",
   "execution_count": 3,
   "id": "0eb901de",
   "metadata": {},
   "outputs": [
    {
     "name": "stdout",
     "output_type": "stream",
     "text": [
      "<class 'list'>\n"
     ]
    }
   ],
   "source": [
    "l=[1,2,34,5,6]\n",
    "print(type(l)) # inbuilt class 'list'"
   ]
  },
  {
   "cell_type": "code",
   "execution_count": 9,
   "id": "c7b03ecd",
   "metadata": {},
   "outputs": [
    {
     "name": "stdout",
     "output_type": "stream",
     "text": [
      "i5 16GB 1TB SSD\n"
     ]
    },
    {
     "data": {
      "text/plain": [
       "<__main__.Computer at 0x27c85294140>"
      ]
     },
     "execution_count": 9,
     "metadata": {},
     "output_type": "execute_result"
    }
   ],
   "source": [
    "class Computer: # computer is a user-defined class \n",
    "    def config(self):# method of the class\n",
    "        print(\"i5\", \"16GB\", \"1TB SSD\")\n",
    "        \n",
    "c1 = Computer()# creating an object of the class Computer\n",
    "c1.config() # calling the method of the class using the object\n",
    "c1# <__main__.Computer object at 0x7f8c1c0b3d90> - this is the memory address of the object"
   ]
  },
  {
   "cell_type": "code",
   "execution_count": null,
   "id": "38893866",
   "metadata": {},
   "outputs": [
    {
     "name": "stdout",
     "output_type": "stream",
     "text": [
      "i5 16GB 1TB SSD\n",
      "i5 16GB 1TB SSD\n",
      "i5 16GB 1TB SSD\n",
      "<__main__.Computer object at 0x0000027C85297380>\n",
      "<__main__.Computer object at 0x0000027C83AB5D00>\n",
      "<__main__.Computer object at 0x0000027C85295430>\n",
      "2733833286528\n",
      "2733808246016\n",
      "2733833278512\n"
     ]
    }
   ],
   "source": [
    "class Computer: # computer is a user-defined class \n",
    "    def config(self):\n",
    "        print(\"i5\", \"16GB\", \"1TB SSD\")\n",
    "\n",
    "c1 = Computer()# creating an object of the class Computer\n",
    "c2 = Computer()# creating another object of the class Computer\n",
    "c3 = Computer()# creating another object of the class Computer\n",
    "\n",
    "c1.config() # calling the method of the class using the object\n",
    "c2.config() # calling the method of the class using the object\n",
    "c3.config() # calling the method of the class using the object\n",
    "print(c1) # <__main__.Computer object at 0x7f8c1c0b3d90> - this is the memory address of the object\n",
    "print(c2) # <__main__.Computer object at 0x7f8c1c0b3d90> - this is the memory address of the object\n",
    "print(c3) # <__main__.Computer object at 0x7f8c1c0b3d90> - this is the memory address of the object\n",
    "# each object has its own memory address, but they all belong to the same class\n",
    "print(id(c1)) # prints the memory address of the object c1\n",
    "print(id(c2)) # prints the memory address of the object c2\n",
    "print(id(c3)) # prints the memory address of the object c3\n",
    "\n",
    "#id(obj) → prints object's ID (decimal)\n",
    "#print(obj) → calls __str__() to get a human-readable version\n",
    "#If __str__() is not defined, falls back to default: \"<module>.<Class> object at <hex-address>\"\n",
    "#Both show memory info, but in different formats (decimal vs hexadecimal)"
   ]
  },
  {
   "cell_type": "code",
   "execution_count": 14,
   "id": "e0aef17f",
   "metadata": {},
   "outputs": [
    {
     "name": "stdout",
     "output_type": "stream",
     "text": [
      "Car(Brand: Toyota, Model: Corolla)\n"
     ]
    }
   ],
   "source": [
    "class Car:\n",
    "    def __init__(self, brand, model):\n",
    "        self.brand = brand\n",
    "        self.model = model\n",
    "\n",
    "    def __str__(self):\n",
    "        return f\"Car(Brand: {self.brand}, Model: {self.model})\"\n",
    "\n",
    "# Creating an object\n",
    "c1 = Car(\"Toyota\", \"Corolla\")\n",
    "\n",
    "# Printing the object\n",
    "print(c1)\n"
   ]
  },
  {
   "cell_type": "markdown",
   "id": "775428a7",
   "metadata": {},
   "source": [
    "##  Understanding `__str__()` Method in Python\n",
    "\n",
    "---\n",
    "\n",
    "###  What is `__str__()`?\n",
    "\n",
    "The `__str__()` method in a class is used to define a **custom string representation** of an object.  \n",
    "It is automatically called when you use `print(object)` or `str(object)`.\n",
    "\n",
    "---\n",
    "\n",
    "### Why Use `__str__()`?\n",
    "\n",
    "By default, printing an object gives you something like: <main.Car object at 0x00000123456789AB>\n",
    "This is not very helpful. By defining `__str__()`, we can make the printed output more readable and informative.\n",
    "\n",
    "output of above example is  -->Car(Brand: Toyota, Model: Corolla)\n",
    "\n",
    "- When you call: print(c1) Python internally executes: c1.__str__()\n",
    "- Since we defined __str__(), it returns a custom string instead of the default memory address.\n",
    "\n",
    "##### Summary\n",
    "\n",
    "\n",
    "| Concept             | Behavior                                                                |\n",
    "| ------------------- | ----------------------------------------------------------------------- |\n",
    "| `__str__()`         | Returns a user-friendly string when printing an object                  |\n",
    "| Without `__str__()` | Shows default output like `<__main__.ClassName object at 0x...>`        |\n",
    "| With `__str__()`    | Shows custom, readable output like `Car(Brand: Toyota, Model: Corolla)` |\n",
    "\n"
   ]
  },
  {
   "cell_type": "markdown",
   "id": "af1d9b6d",
   "metadata": {},
   "source": [
    "## Understanding `__init__()` Method in Python\n",
    "\n",
    "---\n",
    "\n",
    "###  What is `__init__()`?\n",
    "\n",
    "- `__init__()` is a **special method** in Python classes.\n",
    "- It is also known as the **constructor**.\n",
    "- It is **automatically called** when a new object of the class is created.\n",
    "\n",
    "---\n",
    "\n",
    "###  Purpose of `__init__()`\n",
    "\n",
    "- To **initialize** the object with default or user-provided values.\n",
    "- It helps you set up **attributes (variables)** for the object at the time of creation.\n",
    "\n",
    "---\n",
    "\n",
    "###  Syntax:\n",
    "\n",
    "<pre>\n",
    "``python\n",
    "class ClassName:\n",
    "    def __init__(self, parameters):\n",
    "        # initialization code\n",
    "        self.attribute = value </pre>\n",
    "\n",
    "self: Refers to the current instance of the class. Other parameters are passed during object creation.\n",
    "\n",
    "#### Example \n",
    "<pre>class Person:\n",
    "    def __init__(self, name, age):\n",
    "        self.name = name\n",
    "        self.age = age\n",
    "\n",
    "p1 = Person(\"Alice\", 25)\n",
    "p2 = Person(\"Bob\", 30)\n",
    "\n",
    "print(p1.name)  # Output: Alice\n",
    "print(p2.age)   # Output: 30\n",
    "\n",
    "</pre>\n",
    "\n",
    "#### What Happens Internally?\n",
    "<pre>\n",
    " When you write:\n",
    "p1 = Person(\"Alice\", 25)\n",
    "\n",
    "Python does:\n",
    "\n",
    "1. Creates a new object p1\n",
    "2. Automatically calls:\n",
    "\n",
    "p1.__init__(\"Alice\", 25)\n",
    "\n",
    "Initializes self.name = \"Alice\" and self.age = 25\n",
    "</pre>\n",
    "\n",
    "#####  __init__() sets the internal data of the object.\n",
    "#####  __str__() controls what you see when the object is printed."
   ]
  },
  {
   "cell_type": "markdown",
   "id": "c05968a8",
   "metadata": {},
   "source": [
    "## Understanding `self` Keyword in Python\n",
    "\n",
    "---\n",
    "\n",
    "###  What is `self`?\n",
    "\n",
    "- `self` is a **convention** in Python used to refer to the **current instance** of the class.\n",
    "- It allows you to **access attributes and methods** of the object inside the class definition.\n",
    "- It must be the **first parameter** of every instance method in a class (but it's not a reserved keyword — just a naming convention).\n",
    "\n",
    "---\n",
    "\n",
    "### Why is `self` important?\n",
    "\n",
    "- It helps Python **differentiate between instance variables and local variables**.\n",
    "- Without `self`, you wouldn't be able to assign or access object-specific data inside the class.\n",
    "\n",
    "---\n",
    "\n",
    " Example:\n",
    "\n",
    "```python\n",
    "class Student:\n",
    "    def __init__(self, name, age):\n",
    "        self.name = name  # 'self.name' is the instance variable\n",
    "        self.age = age    # 'age' is the value passed during object creation\n",
    "\n",
    "    def show_details(self):\n",
    "        print(f\"Name: {self.name}, Age: {self.age}\")\n",
    "\n",
    "s1 = Student(\"Akhlad\", 23)\n",
    "s1.show_details()\n",
    "\n",
    "Name: Akhlad, Age: 23\n",
    "\n",
    "##### What’s happening\n",
    "self.name = name: assigns the value passed (\"Akhlad\") to the object’s attribute name.\n",
    "\n",
    "Without self, name would just be a local variable inside the method and wouldn't persist.\n",
    "\n",
    "### Common Misunderstanding \n",
    "\n",
    "class Student:\n",
    "    def __init__(name, age):  # Missing self\n",
    "        name = name\n",
    "        age = age\n",
    "\n",
    "This does not  store any values in the object — it just creates local variables.\n",
    "\n",
    "\n",
    "📝 Summary\n",
    "Keyword    \tMeaning                         \tUsed For\n",
    "self\tRefers to the current object\tAccessing/setting instance variables\n"
   ]
  },
  {
   "cell_type": "code",
   "execution_count": 17,
   "id": "f85e2f94",
   "metadata": {},
   "outputs": [
    {
     "name": "stdout",
     "output_type": "stream",
     "text": [
      "i5 16GB 1TB SSD\n"
     ]
    }
   ],
   "source": [
    "class Computer :\n",
    "    def config(self):# method of the class and self keyword is used to refer to the instance of the class\n",
    "        print(\"i5\", \"16GB\", \"1TB SSD\")\n",
    "        \n",
    "c1 = Computer()  # creating an object of the class Computer\n",
    "Computer.config(c1)  # calling the method of the class using the class name and passing the object"
   ]
  },
  {
   "cell_type": "code",
   "execution_count": 21,
   "id": "95efa25d",
   "metadata": {},
   "outputs": [
    {
     "name": "stdout",
     "output_type": "stream",
     "text": [
      "i5 16GB 1TB SSD\n",
      "i5 16GB 1TB SSD\n"
     ]
    }
   ],
   "source": [
    "class Computer:\n",
    "    def config(self):\n",
    "        print(\"i5\", \"16GB\", \"1TB SSD\")\n",
    "c1 = Computer()  # creating an object of the class Computer\n",
    "c1.config()  # calling the method of the class using the object\n",
    "Computer.config(c1)  # here c1 acts as an argument to the method "
   ]
  },
  {
   "cell_type": "code",
   "execution_count": 22,
   "id": "a496e3cf",
   "metadata": {},
   "outputs": [
    {
     "name": "stdout",
     "output_type": "stream",
     "text": [
      "i5 16GB 1TB SSD\n",
      "i5 16GB 1TB SSD\n",
      "i5 16GB 1TB SSD\n"
     ]
    }
   ],
   "source": [
    "class Computer:\n",
    "    def config(self):\n",
    "        print(\"i5\", \"16GB\", \"1TB SSD\")\n",
    "c1 = Computer()  # creating an object of the class Computer\n",
    "c2 = Computer()  # creating another object of the class Computer\n",
    "c3 = Computer()  # creating another object of the class Computer\n",
    "\n",
    "Computer.config(c1)  # calling the method of the class using the class name and passing the object\n",
    "Computer.config(c2)  # calling the method of the class using the class name and passing the object\n",
    "Computer.config(c3)  # calling the method of the class using the class name and passing the object\n"
   ]
  },
  {
   "cell_type": "code",
   "execution_count": null,
   "id": "be7cf77a",
   "metadata": {},
   "outputs": [],
   "source": [
    "class Computer:\n",
    "    def config(self):\n",
    "        print(\"i5\", \"16GB\", \"1TB SSD\")\n",
    "        \n",
    "c1 = Computer()  # creating an object of the class Computer\n",
    "c2 = Computer()  # creating another object of the class Computer\n",
    "c3 = Computer()  # creating another object of the class Computer\n",
    "\n",
    "Computer.config(c1)  # calling the method of the class using the class name and passing the object\n",
    "Computer.config(c2)  # calling the method of the class using the class name and passing the object\n",
    "\n",
    "c1.config()  # calling the method of the class using the object\n",
    "c2.config()  # calling the method of the class using the object\n",
    "c3.config()  # calling the method of the class using the object and inbuilt config() will take c1 as parameter it passes c1 it self\n",
    "# Inbuild config will take the com1 as parameter & it pass itself"
   ]
  },
  {
   "cell_type": "code",
   "execution_count": 23,
   "id": "f40337e5",
   "metadata": {},
   "outputs": [
    {
     "name": "stdout",
     "output_type": "stream",
     "text": [
      "i5 8gb\n",
      "i5 8gb\n"
     ]
    }
   ],
   "source": [
    "class computer:        \n",
    "    def config(self):      # self is the object which user passing\n",
    "        print('i5', '8gb')\n",
    "\n",
    "com1 = computer()\n",
    "com2 = computer()\n",
    "\n",
    "com1.config() \n",
    "com2.config()\n",
    "# always write this code \n",
    "# methods are almost similar like function "
   ]
  },
  {
   "cell_type": "code",
   "execution_count": 24,
   "id": "05981241",
   "metadata": {},
   "outputs": [
    {
     "data": {
      "text/plain": [
       "'__main__'"
      ]
     },
     "execution_count": 24,
     "metadata": {},
     "output_type": "execute_result"
    }
   ],
   "source": [
    "__name__"
   ]
  },
  {
   "cell_type": "code",
   "execution_count": 28,
   "id": "7946c8b5",
   "metadata": {},
   "outputs": [
    {
     "name": "stdout",
     "output_type": "stream",
     "text": [
      "config parameter values are : i5 hp 512 15\n",
      "this config method telling about hp configuration\n",
      "config parameter values are : i5 lenovo 512 16\n",
      "this config method telling about lenovo configuration\n"
     ]
    }
   ],
   "source": [
    "#### __init__() # constructor method ,this method is called when the object is created \n",
    "class Computer :\n",
    "    def __init__(self,cpu ,ram,mem,brand): #__init__ is nothing but a constructor method, while creating an object it will be called  automatically \n",
    "        self.cpu=cpu                       #and assign the values to the instance variables\n",
    "        self.ram=ram\n",
    "        self.mem=mem\n",
    "        self.brand=brand\n",
    "        \n",
    "    def config(self,behavior):\n",
    "        print(\"config parameter values are :\",self.cpu,self.brand,self.mem,self.ram)\n",
    "        print(behavior)\n",
    "\n",
    "c1=Computer(\"i5\",15,512,\"hp\")\n",
    "c2=Computer(\"i5\",16,512,\"lenovo\")\n",
    "\n",
    "c1.config(\"this config method telling about hp configuration\")\n",
    "c2.config(\"this config method telling about lenovo configuration\")\n"
   ]
  },
  {
   "cell_type": "code",
   "execution_count": 29,
   "id": "f96c0b92",
   "metadata": {},
   "outputs": [
    {
     "name": "stdout",
     "output_type": "stream",
     "text": [
      "2733833595712\n"
     ]
    }
   ],
   "source": [
    "class computer:\n",
    "    pass #computer class & every concept has a object or  # class & object is the main concept in python\n",
    "   \n",
    "c1 = computer() #c1 is object which referring to clas \n",
    "print(id(c1))"
   ]
  },
  {
   "cell_type": "code",
   "execution_count": 30,
   "id": "3215fbfc",
   "metadata": {},
   "outputs": [
    {
     "name": "stdout",
     "output_type": "stream",
     "text": [
      "name of the person is akhlad and age of the person is 30\n"
     ]
    }
   ],
   "source": [
    "class Person:\n",
    "    def __init__(self):\n",
    "        self.name=\"akhlad\"\n",
    "        self.age=30\n",
    "        \n",
    "c1=Person()\n",
    "name=c1.name\n",
    "age=c1.age\n",
    "print(f\"name of the person is {name} and age of the person is {age}\")"
   ]
  },
  {
   "cell_type": "code",
   "execution_count": 32,
   "id": "c1950a29",
   "metadata": {},
   "outputs": [
    {
     "name": "stdout",
     "output_type": "stream",
     "text": [
      "name of the person is akhlad and age of the person is 30\n"
     ]
    }
   ],
   "source": [
    "class Person:\n",
    "    def __init__(self,name,age):\n",
    "        self.name=name\n",
    "        self.age=age\n",
    "\n",
    "p1=Person(\"akhlad\",30)\n",
    "name=p1.name\n",
    "age=p1.age\n",
    "\n",
    "print(f\"name of the person is {name} and age of the person is {age}\")"
   ]
  },
  {
   "cell_type": "code",
   "execution_count": 35,
   "id": "ab508daa",
   "metadata": {},
   "outputs": [
    {
     "name": "stdout",
     "output_type": "stream",
     "text": [
      "name of the person is akhlad and age of the person is 30\n",
      "name of the person is mushaffa and age of the person is 22\n"
     ]
    }
   ],
   "source": [
    "class Person:\n",
    "    def __init__(self):\n",
    "        self.name=\"akhlad\"\n",
    "        self.age=30\n",
    "        \n",
    "c1=Person()\n",
    "print(f\"name of the person is {c1.name} and age of the person is {c1.age}\")\n",
    "\n",
    "c1.name=\"mushaffa\"\n",
    "c1.age=22\n",
    "\n",
    "print(f\"name of the person is {c1.name} and age of the person is {c1.age}\")"
   ]
  },
  {
   "cell_type": "code",
   "execution_count": 36,
   "id": "035d77af",
   "metadata": {},
   "outputs": [
    {
     "name": "stdout",
     "output_type": "stream",
     "text": [
      "name of the person is akhlad and age of the person is 30\n",
      "name of the person is mushaffa and age of the person is 22\n"
     ]
    }
   ],
   "source": [
    "class Person :\n",
    "    def __init__(self,name,age):\n",
    "        self.name=name\n",
    "        self.age=age\n",
    "        \n",
    "p1=Person(\"akhlad\",30)\n",
    "print(f\"name of the person is {p1.name} and age of the person is {p1.age}\")\n",
    "\n",
    "p1.name=\"mushaffa\"\n",
    "p1.age=22\n",
    "\n",
    "print(f\"name of the person is {p1.name} and age of the person is {p1.age}\")"
   ]
  },
  {
   "cell_type": "code",
   "execution_count": null,
   "id": "e62bc95a",
   "metadata": {},
   "outputs": [
    {
     "name": "stdout",
     "output_type": "stream",
     "text": [
      "name of the person p1 is akhlad and age is 30\n",
      "name of the person p2 is asjad and age is 35\n",
      "name of the person p1 is mushaffa and age is 22\n",
      "name of the person p2 is mushaffa and age is 22\n",
      "name of the person p1 is khalid and age is 33\n"
     ]
    }
   ],
   "source": [
    "class Person:  # Defining a class named 'Person'\n",
    "    def __init__(self, name, age):  # Constructor method to initialize name and age\n",
    "        self.name = name  # Assigning the name to the object\n",
    "        self.age = age    # Assigning the age to the object\n",
    "    \n",
    "    def update(self):  # Method to update the object's attributes\n",
    "        self.name = \"mushaffa\"  # Updates the name to \"mushaffa\"\n",
    "        self.age = 22           # Updates the age to 22\n",
    "\n",
    "    p1 = Person(\"akhlad\", 30) # Creating first object p1 with name 'akhlad' and age 30\n",
    "    p2 = Person(\"asjad\", 35) # Creating second object p2 with name 'asjad' and age 35\n",
    "    \n",
    "    print(f\"name of the person p1 is {p1.name} and age is {p1.age}\") # Printing initial values for p1,Output: name of the person p1 is akhlad and age is 30\n",
    "    print(f\"name of the person p2 is {p2.name} and age is {p2.age}\") # Printing initial values for p2 ,# Output: name of the person p2 is asjad and age is 35\n",
    "    \n",
    "    p1.update() # Calling update method on p1 -> name becomes \"mushaffa\", age becomes 22\n",
    "    p2.update()# Calling update method on p2 -> name becomes \"mushaffa\", age becomes 22\n",
    "    \n",
    "    print(f\"name of the person p1 is {p1.name} and age is {p1.age}\")# Printing updated values for p1, Output: name of the person p1 is mushaffa and age is 22\n",
    "    print(f\"name of the person p2 is {p2.name} and age is {p2.age}\") # Printing updated values for p2,  Output: name of the person p2 is mushaffa and age is 22\n",
    "    # Manually changing p1's attributes to different values\n",
    "    \n",
    "    p1.name = 'khalid'  # Changing name to \"khalid\"\n",
    "    p1.age = 33         # Changing age to 33\n",
    "    \n",
    "    print(f\"name of the person p1 is {p1.name} and age is {p1.age}\")# Printing final values for p1, Output: name of the person p1 is khalid and age is 33"
   ]
  },
  {
   "cell_type": "markdown",
   "id": "c4439aa9",
   "metadata": {},
   "source": [
    "## Constructor, Self and Comparing Objects"
   ]
  },
  {
   "cell_type": "code",
   "execution_count": 42,
   "id": "dd719eda",
   "metadata": {},
   "outputs": [
    {
     "name": "stdout",
     "output_type": "stream",
     "text": [
      "<__main__.School object at 0x0000027C85284890>\n"
     ]
    }
   ],
   "source": [
    "class School:\n",
    "    pass\n",
    "\n",
    "c1=School()\n",
    "print((c1))"
   ]
  },
  {
   "cell_type": "code",
   "execution_count": null,
   "id": "8e970eb3",
   "metadata": {},
   "outputs": [
    {
     "name": "stdout",
     "output_type": "stream",
     "text": [
      "83 92\n",
      "91 89\n"
     ]
    }
   ],
   "source": [
    "class school:\n",
    "    def __init__(self,m,s):\n",
    "        self.math_marks=m\n",
    "        self.science_marks=s\n",
    "        \n",
    "c1=school(83,92) ### even though we are passing two values to the constructor, c1 parameter will take internally as self  \n",
    "c2=school(91,89)\n",
    "\n",
    "print(c1.math_marks,end=' ')\n",
    "print(c1.science_marks)\n",
    "\n",
    "print(c2.math_marks,end=' ')\n",
    "print(c2.science_marks)"
   ]
  },
  {
   "cell_type": "markdown",
   "id": "ebe31044",
   "metadata": {},
   "source": [
    "- system heap memory we are create 2 identifier with 2 address. id is address of the memory location\n",
    "- But the question is everytime we create new object it allocates to its new spaces\n",
    "- Every time you create the object it is allocated new sapce in memory\n",
    "- who allocated the space in memory? Python interpreter\n",
    "- how much space it will allocate? It depends on the data type of the object\n",
    "- If you create 2 objects with same data, it will still allocate 2 different spaces in memory\n",
    "- if we create 2 objects with same data type , then how much space it will allocate? It depends on the data type of the object\n",
    "```python\n",
    "class Student:\n",
    "    def __init__(self, name, age):\n",
    "        self.name = name\n",
    "        self.age = age\n",
    "s1 = Student(\"Akhlad\", 23)\n",
    "s2 = Student(\"Akhlad\", 23)\n",
    "print(id(s1))  # Memory address of s1\n",
    "print(id(s2))  # Memory address of s2\n",
    "# Output will show different memory addresses\n",
    "print(s2 = s1)  # s2 is now a reference to the same object as s1\n"
   ]
  },
  {
   "cell_type": "code",
   "execution_count": 53,
   "id": "0daec92c",
   "metadata": {},
   "outputs": [
    {
     "name": "stdout",
     "output_type": "stream",
     "text": [
      "2733833283648\n",
      "2733835759648\n",
      "False\n"
     ]
    }
   ],
   "source": [
    "class Student:\n",
    "    def __init__(self, name, age):\n",
    "        self.name = name\n",
    "        self.age = age\n",
    "s1 = Student(\"Akhlad\", 23)\n",
    "s2 = Student(\"Akhlad\", 23)\n",
    "print(id(s1))  # Memory address of s1\n",
    "print(id(s2))  # Memory address of s2\n",
    "# Output will show different memory addresses\n",
    "print(s2 == s1)  # s2 is now a reference to the same object as s1\n",
    "\n",
    "    \n"
   ]
  },
  {
   "cell_type": "code",
   "execution_count": 54,
   "id": "cf0c6889",
   "metadata": {},
   "outputs": [
    {
     "name": "stdout",
     "output_type": "stream",
     "text": [
      "2733835574768\n",
      "2733833283648\n",
      "False\n"
     ]
    },
    {
     "ename": "AttributeError",
     "evalue": "'Student' object has no attribute 'compare'",
     "output_type": "error",
     "traceback": [
      "\u001b[1;31m---------------------------------------------------------------------------\u001b[0m",
      "\u001b[1;31mAttributeError\u001b[0m                            Traceback (most recent call last)",
      "Cell \u001b[1;32mIn[54], line 11\u001b[0m\n\u001b[0;32m      9\u001b[0m \u001b[38;5;66;03m# Output will show different memory addresses\u001b[39;00m\n\u001b[0;32m     10\u001b[0m \u001b[38;5;28mprint\u001b[39m(s2 \u001b[38;5;241m==\u001b[39m s1)  \u001b[38;5;66;03m# s2 is now a reference to the same object as s1\u001b[39;00m\n\u001b[1;32m---> 11\u001b[0m \u001b[38;5;28;01mif\u001b[39;00m \u001b[43ms1\u001b[49m\u001b[38;5;241;43m.\u001b[39;49m\u001b[43mcompare\u001b[49m(s2):\u001b[38;5;66;03m# why it is telling computer has no attribute compare? answer is because we have not defined compare method in the class\u001b[39;00m\n\u001b[0;32m     12\u001b[0m     \u001b[38;5;28mprint\u001b[39m(\u001b[38;5;124m\"\u001b[39m\u001b[38;5;124mBoth objects are equal\u001b[39m\u001b[38;5;124m\"\u001b[39m)\n",
      "\u001b[1;31mAttributeError\u001b[0m: 'Student' object has no attribute 'compare'"
     ]
    }
   ],
   "source": [
    "class Student:\n",
    "    def __init__(self, name, age):\n",
    "        self.name = name\n",
    "        self.age = age\n",
    "s1 = Student(\"Akhlad\", 23)\n",
    "s2 = Student(\"Akhlad\", 23)\n",
    "print(id(s1))  # Memory address of s1\n",
    "print(id(s2))  # Memory address of s2\n",
    "# Output will show different memory addresses\n",
    "print(s2 == s1)  # s2 is now a reference to the same object as s1\n",
    "if s1.compare(s2):# why it is telling computer has no attribute compare? answer is because we have not defined compare method in the class\n",
    "    print(\"Both objects are equal\")\n",
    "    \n"
   ]
  },
  {
   "cell_type": "code",
   "execution_count": 58,
   "id": "9d38f7fc",
   "metadata": {},
   "outputs": [
    {
     "name": "stdout",
     "output_type": "stream",
     "text": [
      "bothe are same \n",
      "akhlad 34\n",
      "akhlad 34\n"
     ]
    }
   ],
   "source": [
    "class Person:\n",
    "    def __init__(self):\n",
    "        self.name=\"akhlad\"\n",
    "        self.age=34\n",
    "    \n",
    "    def compare(self,other):\n",
    "        \n",
    "        if self.name==other.name and self.age==other.age: # here self refers to the current object and other refers to the object passed as an argument\n",
    "            return True                                   # and we are comparing the name and age attributes of both objects\n",
    "        else:\n",
    "            return False\n",
    "        \n",
    "p1=Person()\n",
    "p2=Person()\n",
    "\n",
    "if p1.compare(p2):\n",
    "    print(\"bothe are same \")\n",
    "    \n",
    "print(p1.name,p1.age)\n",
    "print(p2.name,p2.age)\n",
    "            "
   ]
  },
  {
   "cell_type": "code",
   "execution_count": 60,
   "id": "8ab07160",
   "metadata": {},
   "outputs": [
    {
     "name": "stdout",
     "output_type": "stream",
     "text": [
      "both are not same\n",
      "mushaffa 22\n",
      "akhlad 34\n"
     ]
    }
   ],
   "source": [
    "# what happend if both object having diffrenet values for name and age?\n",
    "class Person:\n",
    "    def __init__(self):\n",
    "        self.name=\"akhlad\"\n",
    "        self.age=34\n",
    "    \n",
    "    def compare(self,other):\n",
    "        \n",
    "        if self.name==other.name and self.age==other.age: # here self refers to the current object and other refers to the object passed as an argument\n",
    "            return True                                   # and we are comparing the name and age attributes of both objects\n",
    "        else:\n",
    "            return False\n",
    "        \n",
    "p1=Person()\n",
    "p1.name = \"mushaffa\"  # changing name of p1\n",
    "p1.age = 22          # changing age of p1\n",
    "p2=Person()\n",
    "\n",
    "if p1.compare(p2):\n",
    "    print(\"bothe are same \")\n",
    "    \n",
    "else:\n",
    "    print(\"both are not same\")  # this will be printed because p1 and p2 have different name and age\n",
    "print(p1.name,p1.age)\n",
    "print(p2.name,p2.age)\n",
    "            "
   ]
  },
  {
   "cell_type": "markdown",
   "id": "090b7c43",
   "metadata": {},
   "source": [
    "#### Encapsulation in Object-Oriented Programming (OOP)\n",
    "Encapsulation is a fundamental concept in object-oriented programming (OOP) that restricts direct access to an object's attributes and methods. \n",
    "It allows the internal representation of an object to be hidden from the outside, exposing only what is necessary through a public interface.\n",
    "This helps in maintaining the integrity of the object's state and prevents unintended interference or misuse of its data.\n"
   ]
  },
  {
   "cell_type": "markdown",
   "id": "badf4a8e",
   "metadata": {},
   "source": [
    "### Types of variable in python  lets discuss about types of variable in python \n",
    "- Instance variable or object variable\n",
    "- Class variable or static variable\n",
    "- Local variable or method variable\n",
    "- Global variable or module variable\n",
    "#### 1. Instance variable or object variable : \n",
    "- instance variable is a variable that is defined inside a class  and is associated with an object of that class. using self keyword we can access the instance variable.  \n",
    "```python\n",
    "class Student:\n",
    "    def __init__(self, name, age):\n",
    "        self.name = name  # Instance variable\n",
    "        self.age = age    # Instance variable\n",
    "s1 = Student(\"Akhlad\", 23)\n",
    "print(s1.name)  # Output: Akhlad\n",
    "print(s1.age)   # Output: 23\n",
    "```\n",
    "#### Class variable  or static variable:\n",
    "- Class variable is a variable that is defined inside a class but outside any method. It is shared among all instances of the class.\n",
    "```python\n",
    "class Student:\n",
    "    school_name = \"ABC School\"  # Class variable\n",
    "\n",
    "    def __init__(self, name, age):\n",
    "        self.name = name  # Instance variable\n",
    "        self.age = age    # Instance variable\n",
    "s1 = Student(\"Akhlad\", 23)\n",
    "s2 = Student(\"John\", 22)\n",
    "print(s1.school_name)  # Output: ABC School\n",
    "print(Student.school_name)  # Output: ABC School\n",
    "print(s2.school_name)  # Output: ABC School\n",
    "```\n",
    "#### 3. Local variable or method variable:\n",
    "- Local variable is a variable that is defined inside a method and is only accessible within that method. It is not associated with any object or class.\n",
    "```python\n",
    "class Student:\n",
    "    def __init__(self, name, age):\n",
    "        self.name = name  # Instance variable\n",
    "        self.age = age    # Instance variable\n",
    "\n",
    "    def display(self):\n",
    "        school_name = \"ABC School\"  # Local variable\n",
    "        print(f\"Name: {self.name}, Age: {self.age}, School: {school_name}\")\n",
    "s1 = Student(\"Akhlad\", 23)\n",
    "s1.display()  # Output: Name: Akhlad, Age: 23, School: ABC School\n",
    "```"
   ]
  },
  {
   "cell_type": "code",
   "execution_count": 61,
   "id": "1e4d384b",
   "metadata": {},
   "outputs": [
    {
     "name": "stdout",
     "output_type": "stream",
     "text": [
      "Akhlad\n",
      "23\n"
     ]
    }
   ],
   "source": [
    "# intsance variables \n",
    "class Student:\n",
    "    def __init__(self, name, age):\n",
    "        self.name = name  # Instance variable\n",
    "        self.age = age    # Instance variable\n",
    "s1 = Student(\"Akhlad\", 23)\n",
    "print(s1.name)  # Output: Akhlad\n",
    "print(s1.age)   # Output: 23 "
   ]
  },
  {
   "cell_type": "code",
   "execution_count": 63,
   "id": "11bb9ed7",
   "metadata": {},
   "outputs": [
    {
     "name": "stdout",
     "output_type": "stream",
     "text": [
      "ABC School\n",
      "ABC School\n",
      "ABC School\n",
      "Akhlad\n",
      "John\n",
      "23\n",
      "22\n"
     ]
    }
   ],
   "source": [
    "# Class variable  or static variable:\n",
    "class Student:\n",
    "    school_name = \"ABC School\"  # Class variable\n",
    "\n",
    "    def __init__(self, name, age):\n",
    "        self.name = name  # Instance variable\n",
    "        self.age = age    # Instance variable\n",
    "s1 = Student(\"Akhlad\", 23)\n",
    "s2 = Student(\"John\", 22)\n",
    "print(s1.school_name)  # Output: ABC School\n",
    "print(Student.school_name)  # Output: ABC School\n",
    "print(s2.school_name)  # Output: ABC School\n",
    "print(s1.name)  # Output: Akhlad\n",
    "print(s2.name)  # Output: John\n",
    "print(s1.age)   # Output: 23\n",
    "print(s2.age)   # Output: 22\n"
   ]
  },
  {
   "cell_type": "code",
   "execution_count": null,
   "id": "be9b5ca8",
   "metadata": {},
   "outputs": [
    {
     "name": "stdout",
     "output_type": "stream",
     "text": [
      "Name: Akhlad, Age: 23, School: ABC School\n",
      "XYZ School\n"
     ]
    }
   ],
   "source": [
    "# Local variable or method variable:\n",
    "\n",
    "class Student:\n",
    "    def __init__(self, name, age):\n",
    "        self.name = name  # Instance variable\n",
    "        self.age = age    # Instance variable\n",
    "\n",
    "    def display(self):\n",
    "        school_name = \"ABC School\"  # Local variable\n",
    "        print(f\"Name: {self.name}, Age: {self.age}, School: {school_name}\")\n",
    "s1 = Student(\"Akhlad\", 23)\n",
    "s1.display()  # Output: Name: Akhlad, Age: 23, School: ABC School\n",
    "# Local variables are defined within methods and are not accessible outside the method\n",
    "s1.school_name = \"XYZ School\"  # This will not change the local variable in display method\n",
    "print(s1.school_name)  # Output: XYZ School (this is an instance variable, not the local variable in display method)\n",
    "# Local variables are not accessible outside the method "
   ]
  },
  {
   "cell_type": "markdown",
   "id": "e8cdffc7",
   "metadata": {},
   "source": [
    "### Encapsulation in Python (OOPs Concept)\n",
    "\n",
    "---\n",
    "\n",
    "#### What is Encapsulation?\n",
    "\n",
    "- **Encapsulation** is one of the core principles of Object-Oriented Programming (OOP).\n",
    "- It is the process of **wrapping data (attributes) and methods (functions)** into a single unit — a **class**.\n",
    "- It also means **restricting direct access** to some of the object's components.\n",
    "- This is done to **protect data** and ensure it’s used as intended.\n",
    "\n",
    "---\n",
    "\n",
    "#### Goals of Encapsulation\n",
    "\n",
    "- **Protect data** from accidental modification.\n",
    "- **Control access** using public, protected, and private members.\n",
    "- **Hide internal details** and expose only necessary parts of the object.\n",
    "\n",
    "---\n",
    "\n",
    "####  Access Modifiers in Python\n",
    "\n",
    "| Modifier     | Syntax              | Access Scope                       |\n",
    "|--------------|---------------------|------------------------------------|\n",
    "| Public       | `self.name`         | Accessible from anywhere           |\n",
    "| Protected    | `_self.name`        | Accessible within class & subclass |\n",
    "| Private      | `__self.name`       | Accessible only within the class   |\n",
    "\n",
    "> ⚠️ Note: Python does not enforce access strictly (like Java), but uses **naming conventions** to indicate intent.\n",
    "\n",
    "---\n",
    "\n",
    "####  Example 1: Basic Encapsulation\n",
    "\n",
    "```python\n",
    "class Student:\n",
    "    def __init__(self, name, age):\n",
    "        self.name = name     # public variable\n",
    "        self.__age = age     # private variable\n",
    "\n",
    "    def display(self):\n",
    "        print(f\"Name: {self.name}, Age: {self.__age}\")\n",
    "\n",
    "s1 = Student(\"Akhlad\", 23)\n",
    "s1.display()\n",
    "\n",
    "# Accessing public attribute\n",
    "print(s1.name)        # ✅ Works\n",
    "\n",
    "# Accessing private attribute directly\n",
    "# print(s1.__age)     ❌ Will raise an error\n",
    "\n",
    "# Accessing private attribute using name mangling\n",
    "print(s1._Student__age)  # ✅ Works (Not recommended)\n"
   ]
  },
  {
   "cell_type": "code",
   "execution_count": null,
   "id": "95316f24",
   "metadata": {},
   "outputs": [
    {
     "name": "stdout",
     "output_type": "stream",
     "text": [
      "Name: Akhlad, Age: 23\n",
      "23\n"
     ]
    }
   ],
   "source": [
    "class Student:\n",
    "    def __init__(self, name, age):\n",
    "        self.name = name     # public variable\n",
    "        self.__age = age     # private variable\n",
    "\n",
    "    def display(self):\n",
    "        print(f\"Name: {self.name}, Age: {self.__age}\")\n",
    "\n",
    "student = Student(\"Akhlad\", 23)\n",
    "student.display()# this is the way to access private variable making a public method , this is recommended way to access private variables\n",
    "## print(s1.__age)  # This will raise an AttributeError because __age is private\n",
    "dir(student) # This will show all the attributes of the student object  \n",
    "print(student._Student__age)  # This will access the private variable, but it's not recommended to do this"
   ]
  },
  {
   "cell_type": "code",
   "execution_count": 74,
   "id": "0806be44",
   "metadata": {},
   "outputs": [
    {
     "name": "stdout",
     "output_type": "stream",
     "text": [
      "Name: Akhlad, Age: 30\n",
      "Akhlad\n",
      "30\n"
     ]
    }
   ],
   "source": [
    "## access modifier ,encasulation\n",
    "\n",
    "class Person:\n",
    "    # constructor method\n",
    "    def __init__(self, name, age):\n",
    "        self._name = name  # Protected variable\n",
    "        self._age = age# Protected variable\n",
    "        \n",
    "    def display_info(self):\n",
    "        print(f\"Name: {self._name}, Age: {self._age}\")\n",
    "    \n",
    "    \n",
    "person= Person(\"Akhlad\", 30)\n",
    "person.display_info()\n",
    "dir(person)  # This will show all the attributes of the person object\n",
    "print(person._name)  # Accessing protected variable, but it's not recommended to do this\n",
    "print(person._age)  # Accessing protected variable, but it's not recommended to do this\n"
   ]
  },
  {
   "cell_type": "code",
   "execution_count": 78,
   "id": "ae58b605",
   "metadata": {},
   "outputs": [
    {
     "name": "stdout",
     "output_type": "stream",
     "text": [
      "Name: akhlad, age: 32\n"
     ]
    }
   ],
   "source": [
    "class Person :\n",
    "    # constructor\n",
    "    def __init__(self,name,age):# constructor method\n",
    "        self._name=name  # protected variable\n",
    "        self._age=age # protected variable\n",
    "    \n",
    "    \n",
    "    \n",
    "\n",
    "class Student(Person):\n",
    "    def __init__(self, name, age): # constructor of the child class Student\n",
    "        super().__init__(name, age) # calling the constructor of the parent class Person in order to initialize the protected variables _name and _age\n",
    "    \n",
    "    def display_info(self):\n",
    "        print(f\"Name: {self._name}, age: {self._age}\") # this is how we access protected variables in the child class using super() method\n",
    "    \n",
    "\n",
    "student=Student(\"akhlad\",32)# creating an object of the Student class\n",
    "student.display_info()# # Output: Name: akhlad, age: 32\n",
    "        \n",
    "        \n",
    "        "
   ]
  },
  {
   "cell_type": "code",
   "execution_count": 79,
   "id": "53f49b6b",
   "metadata": {},
   "outputs": [
    {
     "name": "stdout",
     "output_type": "stream",
     "text": [
      "Akhlad\n",
      "30\n"
     ]
    }
   ],
   "source": [
    "# public access modifier: \n",
    "class Person:\n",
    "    def __init__(self, name, age):\n",
    "        self.name = name  # Public variable\n",
    "        self.age = age    # Public variable\n",
    "        \n",
    "    def display_info(self):\n",
    "        print(f\"Name: {self.name}, Age: {self.age}\")\n",
    "\n",
    "\n",
    "p1= Person(\"Akhlad\", 30)  # Creating an object of the Person class\n",
    "print(p1.name)  # Accessing public variable directly\n",
    "\n",
    "print(p1.age)  # Accessing public variable directly"
   ]
  },
  {
   "cell_type": "markdown",
   "id": "a4386d93",
   "metadata": {},
   "source": [
    "## METHODS & DIFFERENT TYPES OF METHODS\n",
    "- OBJECT HAS 2 THINGS -- VARIABLES & METHODS   \n",
    "- VARIABLES ARE STORE THE DATA \n",
    "- METHODS WILL PERFORM THE BEHAVIOUR , TO PERFORM SOME OPERATION THATS WHERE METHOD COMES TO THE PICTURE\n",
    "- 3 TYPE OF METHODS ( INSTANCE METHOD, CLASS METHOD,  STATIC METHOD)\n",
    "### 1. Instance Method\n",
    "- Instance methods are the most common type of methods in Python classes.\n",
    "- They operate on an instance of the class (an object).\n",
    "- They can access and modify the instance's attributes using `self`.\n",
    "```python\n",
    "class Student:\n",
    "    def __init__(self, name, age):\n",
    "        self.name = name\n",
    "        self.age = age\n",
    "\n",
    "    def display(self):  # Instance method\n",
    "        print(f\"Name: {self.name}, Age: {self.age}\")\n",
    "s1 = Student(\"Akhlad\", 23)\n",
    "s1.display()  # Output: Name: Akhlad, Age: 23\n",
    "\n",
    "### 2. Class Method\n",
    "- Class methods are methods that operate on the class itself, not on instances.\n",
    "- They are defined using the `@classmethod` decorator.\n",
    "- The first parameter is `cls`, which refers to the class itself.\n",
    "```python\n",
    "# in this example we change the instamce variable in the class method using self keyword and we access the instance variable using self keyword \n",
    "# at the time of creating object pass s1 object to class method as an argument, \n",
    "class Student:\n",
    "    school_name = \"ABC School\"  # Class variable\n",
    "\n",
    "    def __init__(self, name, age):\n",
    "        self.name = name\n",
    "        self.age = age\n",
    "\n",
    "    @classmethod\n",
    "    def change_school(cls, new_name,self):  # Class method ,can we pass self as an argument to class method? yes we can pass self as an argument to class method\n",
    "        print(self.name,self.age)\n",
    "        cls.school_name = new_name# is it possible we can access class variable using cls? answer is yes\n",
    "        cls.new_name = new_name  # is it possible we can access class variable using cls? answer is yes\n",
    "        self.school_name = new_name \n",
    "        self.age=22 # this will change the instance variable age of the object self\n",
    "        self.name=\"khalid\" # this will change the instance variable name of the object self\n",
    "print(Student.school_name)\n",
    "s1=Student(\"Akhlad\", 23)\n",
    "print(s1.name,s1.age)  # Output: Akhlad 23\n",
    "s1.change_school(\"XYZ School\",s1)  # Change class variable\n",
    "print(Student.school_name)  # Output: XYZ School\n",
    "print(s1.name,s1.age)  # Output: Akhlad 23\n",
    "print(Student.school_name)  # Output: XYZ School\n",
    "s1.change_school(\"PQR School\",s1)  # Change class variable again ,is it possible? yes\n",
    "print(Student.school_name)  # Output: PQR School\n",
    "\n",
    "\n",
    "\n"
   ]
  },
  {
   "cell_type": "code",
   "execution_count": null,
   "id": "1fb64aa7",
   "metadata": {},
   "outputs": [
    {
     "name": "stdout",
     "output_type": "stream",
     "text": [
      "Name: akhlad, age :30\n",
      "Name: msushaffa, age :22\n"
     ]
    }
   ],
   "source": [
    "class Student :\n",
    "    def __init__(self,name,age):\n",
    "        self.name=name\n",
    "        self.age=age\n",
    "    \n",
    "    def display(self):\n",
    "        print(f\"Name: {self.name}, age :{self.age}\")\n",
    "        \n",
    "        self.name=\"msushaffa\" # chnage instance variable name using self keyword\n",
    "        self.age=22 # change instance variable age using self keyword\n",
    "        \n",
    "        print(f\"Name: {self.name}, age :{self.age}\")\n",
    "    \n",
    "s1=Student(\"akhlad\",30)\n",
    "s1.display()"
   ]
  },
  {
   "cell_type": "code",
   "execution_count": null,
   "id": "3ca61f5d",
   "metadata": {},
   "outputs": [
    {
     "name": "stdout",
     "output_type": "stream",
     "text": [
      "26.666666666666668\n",
      "40.0\n",
      "nit\n",
      "nit\n"
     ]
    },
    {
     "data": {
      "text/plain": [
       "26.666666666666668"
      ]
     },
     "execution_count": 12,
     "metadata": {},
     "output_type": "execute_result"
    }
   ],
   "source": [
    "#lets take student class ,in the student class we have multiple variable like name, roll number & marks. \n",
    "#at this point we only focus on marks & below lets create init function cuz i have to declare some variable \n",
    "# m1, m2, m3 variable are those are instance variable\n",
    "# outside of the function is called static variable as we learn now\n",
    "\n",
    "class Student :\n",
    "    school=\"nit\"\n",
    "    def __init__(self,m1,m2,m3):\n",
    "        self.m1=m1\n",
    "        self.m2=m2\n",
    "        self.m3=m3\n",
    "        \n",
    "    def avg(self):  # this is instance method, it will take self as parameter\n",
    "        return (self.m1+self.m2+self.m3)/3\n",
    "\n",
    "# lets create the two object of Student calss\n",
    "s1=Student(12,23,45)\n",
    "s2=Student(10,50,60)\n",
    "\n",
    "print(s1.avg())\n",
    "print(s2.avg())\n",
    "print(s1.school)  # Accessing class variable\n",
    "print(Student.school)  # Accessing class variable using class name, we acess class variable using class name and object name\n",
    "#Student.avg() # This will raise an error because avg is an instance method, not a class method to access it we need to create an object of the class\n",
    "Student.avg(s1)  # This will not raise an error because we are calling the avg method on the object s1\n",
    "Student.avg(s2)  # This will not raise an error because we are calling the avg method on the object s2\n",
    "\n",
    "\n"
   ]
  },
  {
   "cell_type": "markdown",
   "id": "064214fa",
   "metadata": {},
   "source": [
    "### accessor & mutator method or getter & setter method"
   ]
  },
  {
   "cell_type": "code",
   "execution_count": 27,
   "id": "f75a9dc5",
   "metadata": {},
   "outputs": [
    {
     "name": "stdout",
     "output_type": "stream",
     "text": [
      "Akhlad\n",
      "23\n",
      "name is : mushaffa\n",
      "age is :' 22\n"
     ]
    }
   ],
   "source": [
    "# Ininstance we have two type of method accessor method and mutator method ,\n",
    "# accessor method is used to access the instance variable and mutator method \n",
    "# is used to change the instance variable \n",
    "# accessor method is also called getter method and mutator method is also called setter method\n",
    "# example of accessor method and mutator method \n",
    "class Student:\n",
    "    def __init__(self, name, age):\n",
    "        self.name = name\n",
    "        self.age = age\n",
    "\n",
    "    def get_name(self):  # Accessor method (getter)\n",
    "        return self.name\n",
    "\n",
    "    def set_name(self, name):  # Mutator method (setter)\n",
    "        self.name = name\n",
    "\n",
    "    def get_age(self):  # Accessor method (getter)\n",
    "        return self.age\n",
    "\n",
    "    def set_age(self, age):  # Mutator method (setter)\n",
    "        self.age = age\n",
    "    \n",
    "s1 = Student(\"Akhlad\", 23)\n",
    "\n",
    "name=s1.get_name()  # Accessing name using accessor method\n",
    "print(name)  # Output: Akhlad\n",
    "age=s1.get_age()  # Accessing age using accessor method\n",
    "print(age)  # Output: 23\n",
    "\n",
    "s1.set_name(\"mushaffa\")  # Changing name using mutator method\n",
    "s1.set_age(22)  # Changing age using mutator method\n",
    "\n",
    "name=s1.get_name()  # Accessing name after changing it\n",
    "print(\"name is :\",name)  # Output: Khalid\n",
    "age=s1.get_age()  # Accessing age after changing it\n",
    "print(\"age is :'\",age)  # Output: 30"
   ]
  },
  {
   "cell_type": "markdown",
   "id": "382b5775",
   "metadata": {},
   "source": [
    "### CLASS METHOD \n",
    "- instance variable can use in instance method\n",
    "- school is basically your class variable & lets create class method \n",
    "- if you work in instance then you can pass instance method \n",
    "- if you work in class then you need to pass class method"
   ]
  },
  {
   "cell_type": "code",
   "execution_count": null,
   "id": "247316fd",
   "metadata": {},
   "outputs": [
    {
     "name": "stdout",
     "output_type": "stream",
     "text": [
      "ABC School\n",
      "Akhlad 23\n",
      "Akhlad 23\n",
      "XYZ School\n",
      "khalid 22\n",
      "XYZ School\n",
      "khalid 22\n",
      "PQR School\n"
     ]
    }
   ],
   "source": [
    "# in this example we change the instamce variable in the class method using self keyword and we access the instance variable using self keyword \n",
    "# at the time of creating object pass s1 object to class method as an argument, \n",
    "class Student:\n",
    "    school_name = \"ABC School\"  # Class variable\n",
    "\n",
    "    def __init__(self, name, age):\n",
    "        self.name = name\n",
    "        self.age = age\n",
    "\n",
    "    @classmethod\n",
    "    def change_school(cls, new_name,self):  # Class method ,can we pass self as an argument to class method? yes we can pass self as an argument to class method\n",
    "        print(self.name,self.age) # cls is the class itself, self is the object of the class, here cls is used to access class variables and methods \n",
    "                                  # is it mendatoty to keep @classmethod decorator? yes it is mandatory to keep @classmethod decorator to define a class method\n",
    "                                  # if we don't keep @classmethod decorator still we can access class variable using cls keyword ? asnwer is yes\n",
    "                                  # the main advantage of using @classmethod decorator is that we not need to create an object of the class to access class variables and methods\n",
    "        cls.school_name = new_name# is it possible we can access class variable using cls? answer is yes\n",
    "        cls.new_name = new_name  # is it possible we can access class variable using cls? answer is yes\n",
    "        self.school_name = new_name \n",
    "        self.age=22 # this will change the instance variable age of the object self\n",
    "        self.name=\"khalid\" # this will change the instance variable name of the object self\n",
    "print(Student.school_name)\n",
    "s1=Student(\"Akhlad\", 23)\n",
    "print(s1.name,s1.age)  # Output: Akhlad 23\n",
    "s1.change_school(\"XYZ School\",s1)  # Change class variable\n",
    "print(Student.school_name)  # Output: XYZ School\n",
    "print(s1.name,s1.age)  # Output: Akhlad 23\n",
    "print(Student.school_name)  # Output: XYZ School\n",
    "s1.change_school(\"PQR School\",s1)  # Change class variable again ,is it possible? yes\n",
    "print(Student.school_name)  # Output: PQR School directly accessing class variable using class name we not need to create an object of the class to access class variable\n",
    "# when we work with class variable use class method and when we work with instance variable use instance method\n",
    "# class method is used to access class variables and instance method is used to access instance variables\n",
    "# class method is used to change class variables and instance method is used to change instance variables\n"
   ]
  },
  {
   "cell_type": "markdown",
   "id": "eedae248",
   "metadata": {},
   "source": [
    "#### class inside class method is called inner class\n"
   ]
  },
  {
   "cell_type": "code",
   "execution_count": 28,
   "id": "de48ceb9",
   "metadata": {},
   "outputs": [
    {
     "name": "stdout",
     "output_type": "stream",
     "text": [
      "Name: Akhlad, Roll Number: 101\n",
      "Laptop Brand: Dell, Model: XPS 13\n"
     ]
    }
   ],
   "source": [
    "# example of inner class\n",
    "class Student:\n",
    "    def __init__(self, name, roll_number):\n",
    "        self.name = name\n",
    "        self.roll_number = roll_number\n",
    "    def display(self):\n",
    "        print(f\"Name: {self.name}, Roll Number: {self.roll_number}\")\n",
    "        \n",
    "    class Laptop:\n",
    "        def __init__(self, brand, model):\n",
    "            self.brand_name = brand\n",
    "            self.model_name = model\n",
    "Student1 = Student(\"Akhlad\", 101)\n",
    "Student1.display()  # Output: Name: Akhlad, Roll Number: 101\n",
    "laptop1 = Student.Laptop(\"Dell\", \"XPS 13\")  # Creating an object of the inner class Laptop\n",
    "print(f\"Laptop Brand: {laptop1.brand_name}, Model: {laptop1.model_name}\")  # Output: Laptop Brand: Dell, Model: XPS 13\n",
    "\n"
   ]
  },
  {
   "cell_type": "code",
   "execution_count": null,
   "id": "aba6fa6c",
   "metadata": {},
   "outputs": [
    {
     "name": "stdout",
     "output_type": "stream",
     "text": [
      "Name: Akhlad, Roll Number: 101\n",
      "Laptop Brand: Dell, Model: XPS 13, RAM: 8gbGB\n",
      "Laptop Brand: HP, Model: Pavilion, RAM: 16GB\n",
      "Laptop Brand: HP, Model: Pavilion, RAM: 16GB\n",
      "2078875718080\n",
      "2078875842368\n"
     ]
    }
   ],
   "source": [
    "# example of inner class\n",
    "class Student:\n",
    "    def __init__(self, name, roll_number):\n",
    "        self.name = name\n",
    "        self.roll_number = roll_number\n",
    "        self.laptop = self.Laptop(\"Dell\", \"XPS 13\",\"8gb\")  # Creating an object of the inner class Laptop within the outer class Student\n",
    "                                                            # you can create the object of inner class inside the outer class constructor \n",
    "        \n",
    "    def display(self):\n",
    "        print(f\"Name: {self.name}, Roll Number: {self.roll_number}\")\n",
    "    class Laptop:\n",
    "        def __init__(self, brand, model,ram):\n",
    "            self.brand_name = brand\n",
    "            self.model_name = model\n",
    "            self.ram=ram\n",
    "        def show(self):\n",
    "            print(f\"Laptop Brand: {self.brand_name}, Model: {self.model_name}, RAM: {self.ram}GB\")  # Displaying laptop details\n",
    "Student1 = Student(\"Akhlad\", 101)\n",
    "Student1.display()  # Output: Name: Akhlad, Roll Number: 101\n",
    "Student1.laptop.show()  # Calling the show method of the inner class Laptop\n",
    "Student1.laptop.brand_name = \"HP\"  # Changing the brand name of the laptop\n",
    "Student1.laptop.model_name = \"Pavilion\"  # Changing the model name of the laptop\n",
    "Student1.laptop.ram = \"16\"  # Changing the ram of the laptop\n",
    "Student1.laptop.show()  # Calling the show method of the inner class Laptop again to see the updated details\n",
    "print(f\"Laptop Brand: {Student1.laptop.brand_name}, Model: {Student1.laptop.model_name}, RAM: {Student1.laptop.ram}GB\")  # Output: Laptop Brand: HP, Model: Pavilion, RAM: 16GB\n",
    "\n",
    "laptop1 = Student.Laptop(\"Apple\", \"MacBook Pro\",\"8gb\")  # Creating another object of the inner class Laptop,you can create multiple objects of the inner class Laptop\n",
    "                                                        # out side the outer class \n",
    "laptop2 = Student.Laptop(\"Lenovo\", \"ThinkPad\",\"16gb\")  # Creating another object of the inner class Laptop\n",
    "\n",
    "print(id(laptop1))  # Printing the memory address of laptop1\n",
    "print(id(laptop2))  # Printing the memory address of laptop2"
   ]
  },
  {
   "cell_type": "markdown",
   "id": "9ec19920",
   "metadata": {},
   "source": [
    " ### Inheritance in Python  : \n",
    " - Inheritance is a fundamental concept in object-oriented programming (OOP) that allows a class (child class) to inherit attributes and methods from another class (parent class). This promotes code reusability and establishes a relationship between classes.\n",
    "- Inheritance allows you to create a new class based on an existing class, inheriting its properties and behaviors while also allowing for additional features or modifications. \n",
    "- The class that inherits is called the **child class** or **subclass**, and the class being inherited from is called the **parent class** or **superclass**.\n",
    "### Types of Inheritance in Python\n",
    "- There are several types of inheritance in Python, including:\n",
    "1. **Single Inheritance**: A child class inherits from a single parent class.\n",
    "   ```python\n",
    "   class Parent:\n",
    "       def greet(self):\n",
    "           print(\"Hello from Parent\")\n",
    "\n",
    "   class Child(Parent):\n",
    "       def greet_child(self):\n",
    "           print(\"Hello from Child\")\n",
    "\n",
    "   c = Child()\n",
    "   c.greet()        # Output: Hello from Parent\n",
    "   c.greet_child()  # Output: Hello from Child\n",
    "   ```\n",
    "   2. **Multiple Inheritance**: A child class inherits from multiple parent classes.\n",
    "    ```python\n",
    "    class Parent1:\n",
    "         def greet(self):\n",
    "              print(\"Hello from Parent1\")\n",
    "    class Parent2:\n",
    "            def greet(self):\n",
    "                print(\"Hello from Parent2\")\n",
    "    class Child(Parent1, Parent2):\n",
    "        def greet_child(self):\n",
    "            print(\"Hello from Child\")\n",
    "    c = Child()\n",
    "    c.greet()        # Output: Hello from Parent1 (first parent class)\n",
    "    c.greet_child()  # Output: Hello from Child\n",
    "    ```\n",
    "    3. **Multilevel Inheritance**: A child class inherits from a parent class, which in turn inherits from another parent class.\n",
    "     ```python\n",
    "        class Grandparent:\n",
    "            def greet(self):\n",
    "                print(\"Hello from Grandparent\")\n",
    "        class Parent(Grandparent):\n",
    "            def greet(self):\n",
    "                print(\"Hello from Parent\")\n",
    "        class Child(Parent):\n",
    "            def greet_child(self):\n",
    "                print(\"Hello from Child\")\n",
    "        c = Child()\n",
    "        c.greet()        # Output: Hello from Parent (overridden method)\n",
    "        c.greet_child()  # Output: Hello from Child\n",
    "    ```\n",
    "    4. **Hierarchical Inheritance**: Multiple child classes inherit from a single parent class.\n",
    "     ```python\n",
    "        class Parent:\n",
    "            def greet(self):\n",
    "                print(\"Hello from Parent\")\n",
    "        class Child1(Parent):\n",
    "            def greet_child1(self):\n",
    "                print(\"Hello from Child1\")\n",
    "        class Child2(Parent):\n",
    "            def greet_child2(self):\n",
    "                print(\"Hello from Child2\")\n",
    "        c1 = Child1()\n",
    "        c2 = Child2()\n",
    "        c1.greet()        # Output: Hello from Parent\n",
    "        c1.greet_child1() # Output: Hello from Child1\n",
    "        c2.greet()        # Output: Hello from Parent\n",
    "        c2.greet_child2() # Output: Hello from Child2\n",
    "     ```\n",
    "     "
   ]
  },
  {
   "cell_type": "code",
   "execution_count": 49,
   "id": "4b94c0ac",
   "metadata": {},
   "outputs": [
    {
     "name": "stdout",
     "output_type": "stream",
     "text": [
      "hello ,i am from parent class\n",
      "name :  akhlad\n",
      "age :  30\n",
      "hello, i am from child class\n",
      "name    :   age\n",
      "mushaffa  :  22\n"
     ]
    }
   ],
   "source": [
    "# 1. Single Inheritance: A child class inherits from a single parent class.\n",
    "class Parent:\n",
    "    def __init__(self,name,age):\n",
    "        self.name=name\n",
    "        self.age=age\n",
    "        \n",
    "    def greet(self):\n",
    "        print(\"hello ,i am from parent class\")\n",
    "\n",
    "class Child(Parent):\n",
    "    def child_greet(self):\n",
    "        print(\"hello, i am from child class\")\n",
    "        \n",
    "p=Parent(\"mushaffa\",22)\n",
    "c=Child(\"akhlad\",30)\n",
    "c.greet()\n",
    "print(\"name : \",c.name)\n",
    "print(\"age : \",c.age)\n",
    "\n",
    "c.child_greet()\n",
    "print(\"name    :   age\")\n",
    "print(p.name,\" : \",p.age)\n"
   ]
  },
  {
   "cell_type": "code",
   "execution_count": null,
   "id": "7336b781",
   "metadata": {},
   "outputs": [
    {
     "name": "stdout",
     "output_type": "stream",
     "text": [
      "hello , i am from parent\n",
      "hello , i am from child \n",
      "[arent nameakhlad,parent age: 32\n",
      "child name :mushaffa child age 22\n"
     ]
    }
   ],
   "source": [
    "## multplie inhertance \n",
    "class Parent :\n",
    "    def __init__(self,parent_name,parent_age):# constructor method of the parent class\n",
    "        self.parent_name=parent_name\n",
    "        self.parent_age=parent_age\n",
    "        \n",
    "    def parent_greet(self):\n",
    "        print(\"hello , i am from parent\")\n",
    "\n",
    "class Child(Parent):\n",
    "    def __init__(self,parent_name,parent_age, child_name, child_age): # constructor method of the child class\n",
    "        # Call parent constructor\n",
    "        super().__init__(parent_name, parent_age)\n",
    "        self.child_name=child_name\n",
    "        self.child_age=child_age\n",
    "    \n",
    "    def child_greet(self):\n",
    "        print(\"hello , i am from child \")\n",
    "        \n",
    "c=Child(\"akhlad\",32,\"mushaffa\",22)\n",
    "c.parent_greet()\n",
    "c.child_greet()\n",
    "print(f\"[arent name{c.parent_name},parent age: {c.parent_age}\")\n",
    "print(f\"child name :{c.child_name} child age {c.child_age}\")\n",
    "        "
   ]
  },
  {
   "cell_type": "code",
   "execution_count": 59,
   "id": "77a351ea",
   "metadata": {},
   "outputs": [
    {
     "name": "stdout",
     "output_type": "stream",
     "text": [
      "Hello from Parent1\n",
      "Hello from Child\n"
     ]
    }
   ],
   "source": [
    "# 2. Multiple Inheritance: A child class inherits from multiple parent classes.\n",
    "class Parent1:\n",
    "    def greet(self):\n",
    "        print(\"Hello from Parent1\")\n",
    "class Parent2:\n",
    "            def greet(self):\n",
    "                print(\"Hello from Parent2\")\n",
    "class Child(Parent1, Parent2):\n",
    "    def greet_child(self):\n",
    "        print(\"Hello from Child\")\n",
    "c = Child()\n",
    "c.greet()           # Output: Hello from Parent1 (first parent class), #why it is not calling Parent2 greet method?\n",
    "                    #because in python it follows the method resolution order (MRO) and it will call the first parent\n",
    "                    # class method if both parent classes have same method name\n",
    "c.greet_child()  # Output: Hello from Child"
   ]
  },
  {
   "cell_type": "code",
   "execution_count": null,
   "id": "5e5edfbd",
   "metadata": {},
   "outputs": [
    {
     "name": "stdout",
     "output_type": "stream",
     "text": [
      "Hello from Parent1\n",
      "Hello from Child\n"
     ]
    }
   ],
   "source": [
    "class Parent1:\n",
    "    def greet(self):\n",
    "        print(\"I am from parent1 class \")\n",
    "\n",
    "class Parent2:\n",
    "    def greet(self):\n",
    "        print(\"i am from parent2 class \")\n",
    "        \n",
    "class Chidl(Parent2,Parent1):\n",
    "    def child_greet():\n",
    "        print(\"i am from child class\")\n",
    "\n",
    "c=Child()\n",
    "c.greet()# Output: Hello from Parent2 (first parent class), #why it is not calling Parent1 greet method?\n",
    "                    #because in python it follows the method resolution order (MRO) and it will call the first parent\n",
    "                    # class method if both parent classes have same method name\n",
    "c.greet_child()\n"
   ]
  },
  {
   "cell_type": "code",
   "execution_count": null,
   "id": "e0e4b2ea",
   "metadata": {},
   "outputs": [
    {
     "ename": "TypeError",
     "evalue": "Parent1.__init__() takes 3 positional arguments but 5 were given",
     "output_type": "error",
     "traceback": [
      "\u001b[1;31m---------------------------------------------------------------------------\u001b[0m",
      "\u001b[1;31mTypeError\u001b[0m                                 Traceback (most recent call last)",
      "Cell \u001b[1;32mIn[64], line 31\u001b[0m\n\u001b[0;32m     27\u001b[0m         \u001b[38;5;28mprint\u001b[39m(\u001b[38;5;124m\"\u001b[39m\u001b[38;5;124mhello i am from child class\u001b[39m\u001b[38;5;124m\"\u001b[39m)\n\u001b[0;32m     28\u001b[0m         \u001b[38;5;28mprint\u001b[39m(\u001b[38;5;124mf\u001b[39m\u001b[38;5;124m'''\u001b[39m\u001b[38;5;124mparent 1 name\u001b[39m\u001b[38;5;132;01m{\u001b[39;00m\u001b[38;5;28mself\u001b[39m\u001b[38;5;241m.\u001b[39mparent1_name\u001b[38;5;132;01m}\u001b[39;00m\u001b[38;5;124m,parent 1 age \u001b[39m\u001b[38;5;132;01m{\u001b[39;00m\u001b[38;5;28mself\u001b[39m\u001b[38;5;241m.\u001b[39mparent1_age\u001b[38;5;132;01m}\u001b[39;00m\u001b[38;5;124m parent 2 name\u001b[39m\u001b[38;5;132;01m{\u001b[39;00m\u001b[38;5;28mself\u001b[39m\u001b[38;5;241m.\u001b[39mparent2_name\u001b[38;5;132;01m}\u001b[39;00m\u001b[38;5;124m,parent 2 age \u001b[39m\u001b[38;5;132;01m{\u001b[39;00m\u001b[38;5;28mself\u001b[39m\u001b[38;5;241m.\u001b[39mparent2_age\u001b[38;5;132;01m}\u001b[39;00m\n\u001b[0;32m     29\u001b[0m \u001b[38;5;124m              child name\u001b[39m\u001b[38;5;132;01m{\u001b[39;00m\u001b[38;5;28mself\u001b[39m\u001b[38;5;241m.\u001b[39mchild_name\u001b[38;5;132;01m}\u001b[39;00m\u001b[38;5;124m,child age \u001b[39m\u001b[38;5;132;01m{\u001b[39;00m\u001b[38;5;28mself\u001b[39m\u001b[38;5;241m.\u001b[39mchild_age\u001b[38;5;132;01m}\u001b[39;00m\u001b[38;5;124m'''\u001b[39m)\n\u001b[1;32m---> 31\u001b[0m c\u001b[38;5;241m=\u001b[39m\u001b[43mChild\u001b[49m\u001b[43m(\u001b[49m\u001b[38;5;124;43m\"\u001b[39;49m\u001b[38;5;124;43makhlad\u001b[39;49m\u001b[38;5;124;43m\"\u001b[39;49m\u001b[43m,\u001b[49m\u001b[38;5;241;43m30\u001b[39;49m\u001b[43m,\u001b[49m\u001b[38;5;124;43m\"\u001b[39;49m\u001b[38;5;124;43masjad\u001b[39;49m\u001b[38;5;124;43m\"\u001b[39;49m\u001b[43m,\u001b[49m\u001b[38;5;241;43m34\u001b[39;49m\u001b[43m,\u001b[49m\u001b[38;5;124;43m\"\u001b[39;49m\u001b[38;5;124;43mMushaffa\u001b[39;49m\u001b[38;5;124;43m\"\u001b[39;49m\u001b[43m,\u001b[49m\u001b[38;5;241;43m22\u001b[39;49m\u001b[43m)\u001b[49m\n\u001b[0;32m     32\u001b[0m c\u001b[38;5;241m.\u001b[39mparent1_greet()\n\u001b[0;32m     33\u001b[0m c\u001b[38;5;241m.\u001b[39mparent1_greet()\n",
      "Cell \u001b[1;32mIn[64], line 19\u001b[0m, in \u001b[0;36mChild.__init__\u001b[1;34m(self, child_name, child_age, parent1_name, parent1_age, parent2_name, parent2_age)\u001b[0m\n\u001b[0;32m     18\u001b[0m \u001b[38;5;28;01mdef\u001b[39;00m \u001b[38;5;21m__init__\u001b[39m(\u001b[38;5;28mself\u001b[39m, child_name,child_age,parent1_name, parent1_age,parent2_name,parent2_age):\n\u001b[1;32m---> 19\u001b[0m     \u001b[38;5;28;43msuper\u001b[39;49m\u001b[43m(\u001b[49m\u001b[43m)\u001b[49m\u001b[38;5;241;43m.\u001b[39;49m\u001b[38;5;21;43m__init__\u001b[39;49m\u001b[43m(\u001b[49m\u001b[43mparent1_name\u001b[49m\u001b[43m,\u001b[49m\u001b[43m \u001b[49m\u001b[43mparent1_age\u001b[49m\u001b[43m,\u001b[49m\u001b[43mparent2_name\u001b[49m\u001b[43m,\u001b[49m\u001b[43mparent2_age\u001b[49m\u001b[43m)\u001b[49m\n\u001b[0;32m     20\u001b[0m     \u001b[38;5;28mself\u001b[39m\u001b[38;5;241m.\u001b[39mchild_name\u001b[38;5;241m=\u001b[39mchild_name\n\u001b[0;32m     21\u001b[0m     \u001b[38;5;28mself\u001b[39m\u001b[38;5;241m.\u001b[39mchild_age\u001b[38;5;241m=\u001b[39mchild_age\n",
      "\u001b[1;31mTypeError\u001b[0m: Parent1.__init__() takes 3 positional arguments but 5 were given"
     ]
    }
   ],
   "source": [
    "class Parent1:\n",
    "    def __init__(self,parent1_name,parent1_age):\n",
    "        self.parent1_name=parent1_name\n",
    "        self.parent1_age=parent1_age       \n",
    "        \n",
    "    def parent1_greet(self):\n",
    "        print(\"hello i am from parent 1 class \")\n",
    "        \n",
    "class Parent2:\n",
    "    def __init__(self,parent2_name,parent2_age):\n",
    "        self.parent2_name=parent2_name\n",
    "        self.parent2_age=parent2_age\n",
    "    \n",
    "    def parent2_greet(self):\n",
    "        print(\"hello i am from parent 2 class\")\n",
    "        \n",
    "class Child(Parent1,Parent2):\n",
    "    def __init__(self, child_name,child_age,parent1_name, parent1_age,parent2_name,parent2_age):\n",
    "        super().__init__(parent1_name, parent1_age,parent2_name,parent2_age)\n",
    "        self.child_name=child_name\n",
    "        self.child_age=child_age\n",
    "        self.parent1_name=parent1_name\n",
    "        self.parent1_age=parent1_age\n",
    "        self.parent2_name=parent2_name\n",
    "        self.parent2_age=parent2_age\n",
    "    def child_greet(self):\n",
    "        print(\"hello i am from child class\")\n",
    "        print(f'''parent 1 name{self.parent1_name},parent 1 age {self.parent1_age} parent 2 name{self.parent2_name},parent 2 age {self.parent2_age}\n",
    "              child name{self.child_name},child age {self.child_age}''')\n",
    "        \n",
    "c=Child(\"akhlad\",30,\"asjad\",34,\"Mushaffa\",22)\n",
    "c.parent1_greet()\n",
    "c.parent1_greet()\n",
    "\n",
    "\n"
   ]
  },
  {
   "cell_type": "markdown",
   "id": "453bb657",
   "metadata": {},
   "source": [
    "##### Concept: Why super() Doesn't Work for Multiple Parents?\n",
    "- In single inheritance, super() works perfectly to call the parent constructor.\n",
    "- In multiple inheritance, super() uses Method Resolution Order (MRO).\n",
    "- MRO goes left to right (Child(Parent1, Parent2) means it will only call Parent1 unless those parent classes use super() themselves in a - - compatible chain — which they don’t here).\n",
    "- So super().__init__() will call only Parent1.__init__(), and not Parent2.__init__() — which is why we must call them explicitly."
   ]
  },
  {
   "cell_type": "code",
   "execution_count": null,
   "id": "31449503",
   "metadata": {},
   "outputs": [
    {
     "name": "stdout",
     "output_type": "stream",
     "text": [
      "Hello, I am from Parent1 class\n",
      "Hello, I am from Parent2 class\n",
      "Hello, I am from Child class\n",
      "\n",
      "Parent 1 name: Asjad, Parent 1 age: 34\n",
      "Parent 2 name: Mushaffa, Parent 2 age: 22\n",
      "Child name: Akhlad, Child age: 30\n",
      "\n"
     ]
    }
   ],
   "source": [
    "## correct code of multi ple inheritance \n",
    "class Parent1:\n",
    "    def __init__(self, parent1_name, parent1_age):\n",
    "        self.parent1_name = parent1_name\n",
    "        self.parent1_age = parent1_age\n",
    "\n",
    "    def parent1_greet(self):\n",
    "        print(\"Hello, I am from Parent1 class\")\n",
    "\n",
    "class Parent2:\n",
    "    def __init__(self, parent2_name, parent2_age):\n",
    "        self.parent2_name = parent2_name\n",
    "        self.parent2_age = parent2_age\n",
    "\n",
    "    def parent2_greet(self):\n",
    "        print(\"Hello, I am from Parent2 class\")\n",
    "\n",
    "class Child(Parent1, Parent2):\n",
    "    def __init__(self, child_name, child_age, parent1_name, parent1_age, parent2_name, parent2_age):\n",
    "        Parent1.__init__(self, parent1_name, parent1_age)\n",
    "        Parent2.__init__(self, parent2_name, parent2_age)\n",
    "        self.child_name = child_name\n",
    "        self.child_age = child_age\n",
    "\n",
    "    def child_greet(self):\n",
    "        print(\"Hello, I am from Child class\")\n",
    "        print(f'''\n",
    "Parent 1 name: {self.parent1_name}, Parent 1 age: {self.parent1_age}\n",
    "Parent 2 name: {self.parent2_name}, Parent 2 age: {self.parent2_age}\n",
    "Child name: {self.child_name}, Child age: {self.child_age}\n",
    "''')\n",
    "\n",
    "# Create object\n",
    "c = Child(\"Akhlad\", 30, \"Asjad\", 34, \"Mushaffa\", 22)\n",
    "\n",
    "# Call methods\n",
    "c.parent1_greet()\n",
    "c.parent2_greet()\n",
    "c.child_greet()\n",
    "\n",
    "## if you are trying to create the object of sub class ,it will try to find the init of sub class and if it is not found\n",
    "# it will try to find the init of parent class\n",
    "\n",
    "\n",
    "\n",
    "# when you try to create an object of the sub class, it will first look for the constructor of the sub class, if you call super().__init__() in the sub class constructor\n",
    "# then it will look for the constructor of the parent class and if it is not found then it will raise an error"
   ]
  },
  {
   "cell_type": "code",
   "execution_count": null,
   "id": "9fed4ced",
   "metadata": {},
   "outputs": [],
   "source": [
    "# 3. Multilevel Inheritance : A child class inherits from a parent class, which in turn inherits from another parent class.\n",
    "\n",
    "class Grandparent:\n",
    "    def greet(self):\n",
    "        print(\"Hello from Grandparent\")\n",
    "class Parent(Grandparent):\n",
    "    def greet(self):\n",
    "            print(\"Hello from Parent\")\n",
    "class Child(Parent):\n",
    "    def greet_child(self):\n",
    "        print(\"Hello from Child\")\n",
    "c = Child()\n",
    "c.greet()        # Output: Hello from Parent (overridden method)\n",
    "c.greet_child()  # Output: Hello from Child\n"
   ]
  },
  {
   "cell_type": "code",
   "execution_count": null,
   "id": "11aef5ba",
   "metadata": {},
   "outputs": [
    {
     "name": "stdout",
     "output_type": "stream",
     "text": [
      "hello i am from grandparent \n",
      "hello i am from parent \n",
      " hello i am from child \n"
     ]
    }
   ],
   "source": [
    "class GrandParent:\n",
    "    def grandParentGreet(self):\n",
    "        print(\"hello i am from grandparent \")\n",
    "    def greet(self):\n",
    "        print(\"greeting from grandparent\")\n",
    "\n",
    "class Parent(GrandParent):\n",
    "    def parentGreet(self):\n",
    "        print(\"hello i am from parent \")\n",
    "        \n",
    "    def greet(self):\n",
    "        print(\"greeting , i am from parent \")\n",
    "\n",
    "class Child(Parent):\n",
    "    def greet(self):\n",
    "        print(\" hello i am from child \")\n",
    "c=Child()\n",
    "c.grandParentGreet()\n",
    "c.parentGreet()\n",
    "c.greet()\n",
    "\n",
    "# Why it calls only Child.greet():  Method Resolution Order (MRO),When you call c.greet(), Python follows the MRO like this:\n",
    "# Child -> Parent -> GrandParent"
   ]
  },
  {
   "cell_type": "code",
   "execution_count": null,
   "id": "bb78d1ea",
   "metadata": {},
   "outputs": [
    {
     "name": "stdout",
     "output_type": "stream",
     "text": [
      "hello i am from grandparent \n",
      "hello i am from parent \n",
      " hello i am from child \n",
      "greeting , i am from parent \n"
     ]
    }
   ],
   "source": [
    "#Multilevel Inheritance with method overriding\n",
    "class GrandParent:\n",
    "    def grandParentGreet(self):\n",
    "        print(\"hello i am from grandparent \")\n",
    "    def hello(self):\n",
    "        print(\"greeting from grandparent\")\n",
    "\n",
    "class Parent(GrandParent):\n",
    "    def parentGreet(self):\n",
    "        print(\"hello i am from parent \")\n",
    "        \n",
    "    def hello(self):\n",
    "        print(\"greeting , i am from parent \")\n",
    "\n",
    "class Child(Parent):\n",
    "    def greet(self):\n",
    "        print(\" hello i am from child \")\n",
    "c=Child()\n",
    "c.grandParentGreet()\n",
    "c.parentGreet()\n",
    "c.greet()\n",
    "c.hello()\n",
    "\n",
    "# Why it calls only Child.greet():  Method Resolution Order (MRO),When you call c.greet(), Python follows the MRO like this:\n",
    "# Child -> Parent -> GrandParent"
   ]
  },
  {
   "cell_type": "code",
   "execution_count": null,
   "id": "788641e5",
   "metadata": {},
   "outputs": [
    {
     "name": "stdout",
     "output_type": "stream",
     "text": [
      "Dog created: buddy, Species: mumal species , Fur Color: dog color of mumal species  mamal species of animal species animal species\n",
      "Woof! Woof!\n"
     ]
    }
   ],
   "source": [
    "# Another example of multilevel inheritance  \n",
    "class Animal:\n",
    "    def __init__(self, animal_species):\n",
    "        self.species = animal_species\n",
    "    def make_sound(self):\n",
    "        print(\"Animal sound\")\n",
    "class Mammal(Animal):\n",
    "    def __init__(self, mamal_species, mamal_fur_color):\n",
    "        self.species = mamal_species\n",
    "        self.fur_color = mamal_fur_color\n",
    "    def make_sound(self):\n",
    "        print(\"Mammal sound\")\n",
    "class Dog(Mammal):\n",
    "    def __init__(self, dog_species,animal_species,mamal_species,mamal_fur_color, fur_color, name):\n",
    "        Animal.__init__(self, dog_species)  # Initialize the parent class Animal\n",
    "        Mammal.__init__(self, mamal_species,mamal_fur_color)  # Initialize the parent class Mammal expilicitly \n",
    "        self.dog_species = dog_species\n",
    "        self.animal_species = animal_species\n",
    "        self.mamal_species = mamal_species\n",
    "        self.mamal_fur_color = mamal_fur_color\n",
    "        self.fur_color = fur_color\n",
    "        self.name = name\n",
    "        print(f\"Dog created: {self.name}, Species: {self.species}, Fur Color: {self.fur_color} of {self.mamal_species} mamal species of {self.animal_species} animal species\")\n",
    "    def make_sound(self):\n",
    "        print(\"Woof! Woof!\")\n",
    "Dog1 = Dog(\"Dog\", \"animal species\", \"mumal species \",\"mama color\",\"dog color\",\"buddy\")  # Creating an object of the Dog class\n",
    "Dog1.make_sound()  # Output: Woof! Woof!\n",
    "# if any method is overridden in the child class, it will be called instead of the parent class method because it follows the Method Resolution Order (MRO)\n",
    "# if any method is overriddend in sub parent  and same method is overridden in child class then it will call the child class method\n",
    "# it follows the MRO like this:\n",
    "# child--> sub parent -> parent -> grandparent\n"
   ]
  },
  {
   "cell_type": "code",
   "execution_count": null,
   "id": "4aa11978",
   "metadata": {},
   "outputs": [],
   "source": [
    "# 4. Hierarchical Inheritance : Multiple child classes inherit from a single parent class.\n",
    "class Parent:\n",
    "    def greet(self):\n",
    "        print(\"Hello from Parent\")\n",
    "class Child1(Parent):\n",
    "    def greet_child1(self):\n",
    "        print(\"Hello from Child1\")\n",
    "class Child2(Parent):\n",
    "    def greet_child2(self):\n",
    "        print(\"Hello from Child2\")\n",
    "c1 = Child1()\n",
    "c2 = Child2()\n",
    "c1.greet()        # Output: Hello from Parent\n",
    "c1.greet_child1() # Output: Hello from Child1\n",
    "c2.greet()        # Output: Hello from Parent\n",
    "c2.greet_child2() # Output: Hello from Child2"
   ]
  },
  {
   "cell_type": "code",
   "execution_count": 1,
   "id": "25be30cc",
   "metadata": {},
   "outputs": [
    {
     "name": "stdout",
     "output_type": "stream",
     "text": [
      "Hello from Child\n",
      "Hello from Parent\n"
     ]
    }
   ],
   "source": [
    "# example of sumper() method to call other methods\n",
    "class Parent:\n",
    "    def greet(self):\n",
    "        print(\"Hello from Parent\")\n",
    "class Child(Parent):\n",
    "    def greet(self):\n",
    "        print(\"Hello from Child\")\n",
    "        super().greet()  # Calling the parent class method using super()\n",
    "c = Child()\n",
    "c.greet()  # Output: Hello from Child followed by Hello from Parent\n",
    "\n"
   ]
  },
  {
   "cell_type": "code",
   "execution_count": 2,
   "id": "5db2c38f",
   "metadata": {},
   "outputs": [
    {
     "name": "stdout",
     "output_type": "stream",
     "text": [
      "Hello from Child\n",
      "Hello from Parent\n",
      "Goodbye from Child\n",
      "Goodbye from Parent\n"
     ]
    }
   ],
   "source": [
    "# example of super() method to call other methods\n",
    "class Parent:\n",
    "    def greet(self):\n",
    "        print(\"Hello from Parent\")\n",
    "    def farewell(self):\n",
    "        print(\"Goodbye from Parent\")\n",
    "class Child(Parent):\n",
    "    def greet(self):\n",
    "        print(\"Hello from Child\")\n",
    "        super().greet()  # Calling the parent class method using super()\n",
    "    def farewell(self):\n",
    "        print(\"Goodbye from Child\")\n",
    "        super().farewell()  # Calling the parent class method using super()\n",
    "c = Child()\n",
    "c.greet()  # Output: Hello from Child followed by Hello from Parent\n",
    "c.farewell()  # Output: Goodbye from Child followed by Goodbye from Parent"
   ]
  },
  {
   "cell_type": "markdown",
   "id": "574e1444",
   "metadata": {},
   "source": [
    "#### Polymorphism\n",
    "- Polymorphism in Python refers to the ability of different objects to be treated as instances of a common interface. It allows methods to be defined in a superclass and overridden by subclasses, while still invoking the superclass method through common interfaces. There are two main types of polymorphism:"
   ]
  },
  {
   "cell_type": "markdown",
   "id": "0f86d278",
   "metadata": {},
   "source": [
    "#### 1. Compile-Time Polymorphism (Static Polymorphism) – Not native to Python\n",
    "- Definition: This occurs when the method to be executed is determined at compile time.\n",
    "- Examples: Method overloading, operator overloading (in languages like Java or C++).\n",
    "- In Python: Python does not support true method overloading by default (i.e., multiple methods with the same name but different parameters). However, operator overloading is supported."
   ]
  },
  {
   "cell_type": "code",
   "execution_count": null,
   "id": "ea404d22",
   "metadata": {},
   "outputs": [
    {
     "name": "stdout",
     "output_type": "stream",
     "text": [
      "Point(7, 10)\n",
      "Point(-3, -4)\n",
      "Point(2, 3)\n",
      "Point(5, 7)\n"
     ]
    }
   ],
   "source": [
    "# Operator Overloading in Python: \n",
    "\n",
    "class Point:\n",
    "    def __init__(self, x, y):# constructor method to initialize the x and y coordinates\n",
    "        self.x = x\n",
    "        self.y = y\n",
    "\n",
    "    def __add__(self, other): # Overloading the + operator to add two Point objects, other is the object that we are adding to the current object\n",
    "        if isinstance(other, Point): # Check if the other object is an instance of Point , isinstance() is used to check the type of the object ,other is the object that we are adding to the current object\n",
    "            return Point(self.x + other.x, self.y + other.y) # return a new Point object with the sum of the x and y coordinates\n",
    "        return NotImplemented # If the other object is not a Point, return NotImplemented to indicate that the operation is not supported\n",
    "\n",
    "    def __sub__(self, other): # Overloading the - operator to subtract two Point objects\n",
    "        if isinstance(other, Point): # Check if the other object is an instance of Point, isinstance() is used to check the type of the object\n",
    "            return Point(self.x - other.x, self.y - other.y) # return a new Point object with the difference of the x and y coordinates\n",
    "        return NotImplemented # If the other object is not a Point, return NotImplemented to indicate that the operation is not supported\n",
    "\n",
    "    def __str__(self): # Overloading the str() function to return a string representation of the Point object\n",
    "        return f\"Point are ({self.x}, {self.y})\" # This will be used when we print the Point object, it will return a string in the format \"Point(x, y)\"\n",
    "        # return f\"kiya dhondra he re\"\n",
    "\n",
    "p1 = Point(2, 3) # Creating a Point object p1 with x=2 and y=3\n",
    "p2 = Point(5, 7) # Creating a Point object p2 with x=5 and y=7\n",
    "print(p1 + p2)  # Output: Point(7, 10)\n",
    "print(p1 - p2)  # Output: Point(-3, -4)\n",
    "print(p1)\n",
    "print(p2)\n"
   ]
  },
  {
   "cell_type": "code",
   "execution_count": null,
   "id": "95fbda85",
   "metadata": {},
   "outputs": [
    {
     "name": "stdout",
     "output_type": "stream",
     "text": [
      "addtion of 1 and 4 is 5,addition of 3 and 7 is 10 \n",
      "subtraction  of 1 and 4 is -3,subtraction  of 3 and 7 is -4 \n",
      "kiya dhondra he re\n",
      "kiya dhondra he re\n"
     ]
    }
   ],
   "source": [
    "# Operator Overloading in Python\n",
    "class Point :\n",
    "    def __init__(self, x, y):\n",
    "        self.x=x\n",
    "        self.y=y\n",
    "        \n",
    "    def __add__(self,other):\n",
    "        if isinstance(other,Point):\n",
    "            return f\"addtion of {self.x} and {other.x} is {self.x+other.x},addition of {self.y} and {other.y} is {self.y+other.y} \"\n",
    "        \n",
    "        return NotImplemented\n",
    "    \n",
    "    def __sub__(self,other):\n",
    "        if isinstance(other,Point):\n",
    "            return f\"subtraction  of {self.x} and {other.x} is {self.x-other.x},subtraction  of {self.y} and {other.y} is {self.y-other.y} \"\n",
    "        \n",
    "    def __str__(self):\n",
    "        return f\"points are {self.x} and {self.y}\"\n",
    "        # return f\"kiya dhondra he re\"\n",
    "    \n",
    "p1=Point(1,3)\n",
    "p2=Point(4,7)\n",
    "\n",
    "print(p1+p2)\n",
    "print(p1-p2) \n",
    "print(p1)\n",
    "print(p2)   \n",
    "        "
   ]
  },
  {
   "cell_type": "code",
   "execution_count": null,
   "id": "86079dd6",
   "metadata": {},
   "outputs": [],
   "source": [
    "# Example of polymorphism with method overloading with inheritance\n",
    "class Shape:\n",
    "    def area(self):\n",
    "        pass\n",
    "\n",
    "class Rectangle(Shape):\n",
    "    def __init__(self, width, height):\n",
    "        self.width = width\n",
    "        self.height = height\n",
    "\n",
    "    def area(self):\n",
    "        return self.width * self.height\n",
    "\n",
    "class Circle(Shape):\n",
    "    def __init__(self, radius):\n",
    "        self.radius = radius\n",
    "\n",
    "    def area(self):\n",
    "        return 3.14 * self.radius * self.radius\n",
    "\n",
    "shapes = [Rectangle(5, 10), Circle(7)]\n",
    "for shape in shapes:\n",
    "    print(\"Area:\", shape.area())\n"
   ]
  },
  {
   "cell_type": "code",
   "execution_count": null,
   "id": "14ca19e7",
   "metadata": {},
   "outputs": [
    {
     "name": "stdout",
     "output_type": "stream",
     "text": [
      "Area of Rectangle is 144\n",
      "Area of Circle is 314.1592653589793\n"
     ]
    }
   ],
   "source": [
    "import math \n",
    "class Shape :\n",
    "    def area(self):\n",
    "        pass\n",
    "    \n",
    "\n",
    "class Rectangle(Shape):\n",
    "    def __init__(self, width ,height):\n",
    "        self.width=width\n",
    "        self.height=height\n",
    "        \n",
    "    def area(self):\n",
    "        return self.width*self.height\n",
    "    \n",
    "class Circle(Shape):\n",
    "    def __init__(self, radius):\n",
    "        self.radius=radius\n",
    "    \n",
    "    def area(self):\n",
    "        return math.pi * self.radius *self.radius\n",
    "    \n",
    " # function that demonstrates polymorphism\n",
    "def print_area(shape):\n",
    "        print(f\"Area of {shape.__class__.__name__} is {shape.area()}\")  # Using __class__.__name__ to get the class name dynamically this concept is called dynamic polymorphism\n",
    "                                                                        # this approach is duck typing, where we don't care about the type of the object, we just call the method\n",
    "\n",
    "print_area(Rectangle(12, 12))\n",
    "print_area(Circle(10))\n",
    "\n",
    "# shapes=[Rectangle(12,12),Circle(10)]\n",
    "\n",
    "# for  shape in shapes:\n",
    "#     print(f\"of {shape} is {shape.area()}\")"
   ]
  },
  {
   "cell_type": "code",
   "execution_count": null,
   "id": "8746ceab",
   "metadata": {},
   "outputs": [
    {
     "name": "stdout",
     "output_type": "stream",
     "text": [
      "X: 5, Y: 10\n",
      "X: 0, Y: 0\n"
     ]
    }
   ],
   "source": [
    "# Example of polymorphism with duck typing\n",
    "class Shpae:\n",
    "    def area(self):\n",
    "        pass\n",
    "class Rectangle(Shpae):\n",
    "    def __init__(self, width, height):\n",
    "        self.width = width\n",
    "        self.height = height\n",
    "\n",
    "    def area(self):\n",
    "        return self.width * self.height\n",
    "class Circle(Shpae):\n",
    "    def __init__(self, radius):\n",
    "        self.radius = radius\n",
    "\n",
    "    def area(self):\n",
    "        return 3.14 * self.radius * self.radius\n",
    "def print_area(shape): # duck typing, we are not checking the type of the object, we are just calling the area method\n",
    "    print(f\"Area of {shape.__class__.__name__} is {shape.area()}\")\n",
    "    \n",
    "print_area(Rectangle(5, 10))  # Output: Area of Rectangle is 50\n",
    "print_area(Circle(7))         # Output: Area of Circle is 153.86\n"
   ]
  },
  {
   "cell_type": "code",
   "execution_count": 18,
   "id": "34b760c6",
   "metadata": {},
   "outputs": [
    {
     "name": "stdout",
     "output_type": "stream",
     "text": [
      "Shape Type: Rectangle\n",
      "Area: 50\n",
      "Shape Type: Circle\n",
      "Area: 153.86\n"
     ]
    }
   ],
   "source": [
    "# Example of polymorphism with abstract classes\n",
    "from abc import ABC, abstractmethod # ABC is the base class for all abstract classes and abstractmethod is used to define abstract methods that must be implemented by subclasses\n",
    "class Shape(ABC):\n",
    "    @abstractmethod # This is an abstract method that must be implemented by subclasses\n",
    "    def area(self):\n",
    "        pass\n",
    "class Rectangle(Shape):\n",
    "    def __init__(self, width, height):\n",
    "        self.width = width\n",
    "        self.height = height\n",
    "    def area(self):\n",
    "        return self.width * self.height\n",
    "class Circle(Shape):\n",
    "    def __init__(self, radius):\n",
    "        self.radius = radius\n",
    "    def area(self):\n",
    "        return 3.14 * self.radius * self.radius\n",
    "def print_area(shape):\n",
    "    print(f\"Shape Type: {type(shape).__name__}\")\n",
    "    print(f\"Area: {shape.area()}\")\n",
    "    \n",
    "rectangle = Rectangle(5, 10)\n",
    "circle = Circle(7)\n",
    "print_area(rectangle)\n",
    "print_area(circle)\n",
    "\n",
    "\n"
   ]
  },
  {
   "cell_type": "code",
   "execution_count": null,
   "id": "92761c30",
   "metadata": {},
   "outputs": [],
   "source": [
    "# Example of polymorphism with method overriding and super()\n",
    "class Animal:\n",
    "    def speak(self):\n",
    "        print(\"Animal speaks\")\n",
    "\n",
    "class Dog(Animal):\n",
    "    def speak(self):\n",
    "        super().speak()\n",
    "        print(\"Dog barks\")\n",
    "\n",
    "class Cat(Animal):\n",
    "    def speak(self):\n",
    "        super().speak()\n",
    "        print(\"Cat meows\")\n",
    "\n",
    "def animal_sound(animal):\n",
    "    animal.speak()\n",
    "\n",
    "dog = Dog()\n",
    "cat = Cat()\n",
    "animal_sound(dog)\n",
    "animal_sound(cat)\n",
    "\n",
    "if __name__ == \"__main__\":\n",
    "    dog = Dog()\n",
    "    cat = Cat()\n",
    "    animal_sound(dog)\n",
    "    animal_sound(cat)\n"
   ]
  },
  {
   "cell_type": "markdown",
   "id": "a26fbe47",
   "metadata": {},
   "source": [
    "### Generator in Python\n",
    "- we will use iterator to print the value 1 by 1\n",
    "- but there are small issue with iterator first issue is we need to create our own iterator using iter() & next()\n",
    "- we dont want to do that . we want python to do for us & thats called GENERATOR\n",
    "- very simple what i want to say GENARATOR GIVES ITERATOR\n",
    "- lets understand how to create GENERATORS"
   ]
  },
  {
   "cell_type": "code",
   "execution_count": null,
   "id": "8d7f760e",
   "metadata": {},
   "outputs": [
    {
     "name": "stdout",
     "output_type": "stream",
     "text": [
      "Token value is: 5\n"
     ]
    }
   ],
   "source": [
    "def token():\n",
    "    return 5\n",
    "\n",
    "value= token()  # Calling the token function to get the value\n",
    "print(f\"Token value is: {value}\")  # Output: Token value is: 5\n",
    "\n",
    "# function nevere give iterator that means function need to specialize in generator function\n",
    "# we need to convert the function to a generator function by using the yield keyword\n",
    "# yield keyword is used to convert a function to a generator function\n"
   ]
  },
  {
   "cell_type": "code",
   "execution_count": null,
   "id": "dc49a08a",
   "metadata": {},
   "outputs": [
    {
     "name": "stdout",
     "output_type": "stream",
     "text": [
      "Token value is: 5\n"
     ]
    }
   ],
   "source": [
    "def token ():\n",
    "    yield 5\n",
    "value = token()  # Calling the token function to get the generator object\n",
    "print(f\"Token value is: {next(value)}\")  # Output: Token value is: 5\n",
    "# if you see  above both function # both function are giving the same output so what is the difference? \n",
    "# yield function is not a normal function, it is a generator function\n",
    "# remember generator function give iterator object and normal function give normal value\n",
    "# generator function is a special type of function that can be paused and resumed\n",
    "# when we call the generator function it will return a generator object\n"
   ]
  },
  {
   "cell_type": "code",
   "execution_count": null,
   "id": "848daab7",
   "metadata": {},
   "outputs": [
    {
     "name": "stdout",
     "output_type": "stream",
     "text": [
      "<generator object token at 0x00000229D6E5CA90>\n"
     ]
    }
   ],
   "source": [
    "def token():\n",
    "    yield 4\n",
    "\n",
    "value=token()\n",
    "print(value)\n",
    "\n",
    "# - The moment when we use yield topten function will become generator .\n",
    "# - Normal function will not  become generator "
   ]
  },
  {
   "cell_type": "code",
   "execution_count": 23,
   "id": "27e5a8c6",
   "metadata": {},
   "outputs": [
    {
     "name": "stdout",
     "output_type": "stream",
     "text": [
      "Token value is: 4\n",
      "Token value is: 5\n",
      "Token value is: 6\n"
     ]
    }
   ],
   "source": [
    "def toek():\n",
    "    yield 4\n",
    "    yield 5\n",
    "    yield 6\n",
    "value = toek()  # Calling the toek function to get the generator object\n",
    "print(f\"Token value is: {next(value)}\")  # Output: Token value is: 4\n",
    "print(f\"Token value is: {next(value)}\")  # Output: Token value is: 5\n",
    "print(f\"Token value is: {next(value)}\")  # Output: Token value is: 6"
   ]
  },
  {
   "cell_type": "code",
   "execution_count": null,
   "id": "8afdd768",
   "metadata": {},
   "outputs": [
    {
     "name": "stdout",
     "output_type": "stream",
     "text": [
      "Token value is: 4\n"
     ]
    }
   ],
   "source": [
    "def toek():\n",
    "    yield 4\n",
    "    yield 5\n",
    "    yield 6\n",
    "value = toek()  # Calling the toek function to get the generator object\n",
    "print(f\"Token value is: {value.__next__()}\")  # Output: Token value is: 4\n"
   ]
  },
  {
   "cell_type": "code",
   "execution_count": 25,
   "id": "c3022bfb",
   "metadata": {},
   "outputs": [
    {
     "name": "stdout",
     "output_type": "stream",
     "text": [
      "Token value is: 4\n",
      "Token value is: 5\n"
     ]
    }
   ],
   "source": [
    "def toek():\n",
    "    yield 4\n",
    "    yield 5\n",
    "    yield 6\n",
    "value = toek()  # Calling the toek function to get the generator object\n",
    "print(f\"Token value is: {value.__next__()}\")  # Output: Token value is: 4\n",
    "print(f\"Token value is: {value.__next__()}\")  # Output: Token value is: 5\n"
   ]
  },
  {
   "cell_type": "code",
   "execution_count": 28,
   "id": "27967a4e",
   "metadata": {},
   "outputs": [
    {
     "name": "stdout",
     "output_type": "stream",
     "text": [
      "1\n",
      "4\n",
      "9\n",
      "16\n",
      "25\n",
      "36\n",
      "49\n",
      "64\n",
      "81\n",
      "100\n"
     ]
    }
   ],
   "source": [
    "# lets print to 10 perfect square \n",
    "\n",
    "def token():\n",
    "    n=1\n",
    "    while n<=10:\n",
    "        sq=n*n\n",
    "        yield sq\n",
    "        n+=1\n",
    "   \n",
    "\n",
    "values=token()\n",
    "for i in values:\n",
    "    print(i)"
   ]
  },
  {
   "cell_type": "markdown",
   "id": "823546cc",
   "metadata": {},
   "source": [
    "- When the loop runs it fetch the 1st value & next iterator value with squre \n",
    "- Hear in this code we create iterator using generator \n",
    "- example you might be fetch 1000 records from the database & you wanted to print them all\n",
    "- you wanted to process them those records & all 1k records will loaded in the memory\n",
    "- we dont want that & we want to one value at a time on that senario we will use generator\n",
    "- instead of fetching entire list you need to fetch value 1 by 1 \n",
    "- this is how we generator using YIELD keyword\n"
   ]
  },
  {
   "cell_type": "markdown",
   "id": "1f2e2e28",
   "metadata": {},
   "source": [
    "### so far we are completed the oops concept in python, now we will learn exception handling in python\n",
    "- Exception Handling in Python\n",
    "### Errors 3 types of errors in python \n",
    "1. compile time error\n",
    "2. runtime error\n",
    "3. logical error\n",
    "\n",
    "### 1. Compile Time Error \n",
    "- Compile time errors are errors that occur during the compilation of the code. this is called syntax error if you write wrong syntax in the code then it will throw compile time error\n",
    "\n",
    "### 2. Runtime Error\n",
    "- Runtime errors are errors that occur during the execution of the program. these errors are not detected during the compilation of the code. for example, division by zero is a runtime error.\n",
    "\n",
    "### 3. Logical Error\n",
    "- Logical errors are errors that occur when the program runs without crashing, but produces incorrect results. these errors are often difficult to detect and fix.\n"
   ]
  },
  {
   "cell_type": "code",
   "execution_count": null,
   "id": "23825e3f",
   "metadata": {},
   "outputs": [],
   "source": [
    "## exmaple of compile time error\n",
    "\n",
    "def add:\n",
    "    return 5 + 10 # \n",
    "# This will raise a SyntaxError because the function definition is missing parentheses\n",
    "\n",
    "\n"
   ]
  },
  {
   "cell_type": "code",
   "execution_count": null,
   "id": "a3cb15dd",
   "metadata": {},
   "outputs": [
    {
     "ename": "ZeroDivisionError",
     "evalue": "division by zero",
     "output_type": "error",
     "traceback": [
      "\u001b[1;31m---------------------------------------------------------------------------\u001b[0m",
      "\u001b[1;31mZeroDivisionError\u001b[0m                         Traceback (most recent call last)",
      "Cell \u001b[1;32mIn[31], line 3\u001b[0m\n\u001b[0;32m      1\u001b[0m a\u001b[38;5;241m=\u001b[39m\u001b[38;5;241m10\u001b[39m\n\u001b[0;32m      2\u001b[0m b\u001b[38;5;241m=\u001b[39m\u001b[38;5;241m0\u001b[39m\n\u001b[1;32m----> 3\u001b[0m c\u001b[38;5;241m=\u001b[39m\u001b[43ma\u001b[49m\u001b[38;5;241;43m/\u001b[39;49m\u001b[43mb\u001b[49m \u001b[38;5;66;03m# This will raise a ZeroDivisionError because we are trying to divide by zero\u001b[39;00m\n\u001b[0;32m      4\u001b[0m \u001b[38;5;28mprint\u001b[39m(c)  \u001b[38;5;66;03m# This line will not be executed because the previous line raises an error\u001b[39;00m\n",
      "\u001b[1;31mZeroDivisionError\u001b[0m: division by zero"
     ]
    }
   ],
   "source": [
    "a=10\n",
    "b=0\n",
    "print(\"hi\")  # This line will be executed\n",
    "c=a/b # This will raise a ZeroDivisionError because we are trying to divide by zero\n",
    "print(c)  # This line will not be executed because the previous line raises an error\n",
    "print(\"bye\")  # This line will not be executed because the previous line raises an error its a abnormal termination of the program,this is very dangerous\n",
    "\n",
    "\n"
   ]
  },
  {
   "cell_type": "markdown",
   "id": "8381ebf2",
   "metadata": {},
   "source": [
    "#### Different scenario when error ocuured  \n",
    "- 1st senario is when you try to divide by zero it will throw runtime error\n",
    "- 2nd senario is when you try to access an index that is out of range it will throw an IndexError\n",
    "- 3rd senario is when you try to access a key that is not present in the dictionary it will throw a KeyError\n",
    "- 4th senario is when you try to access a variable that is not defined it will throw a NameError\n",
    "- 5th senario is when you try to convert a string to an integer that is not a valid integer it will throw a ValueError\n",
    "- 6th senario is when you try to open a file that does not exist it will throw a FileNotFoundError\n",
    "- 7th senario is when you try to call a function that does not exist it will throw a TypeError\n",
    "- 8th senario is when you try to access an attribute that does not exist in the object it will throw an AttributeError\n",
    "- 9th senario is when you try to import a module that does not exist it will throw an ImportError\n",
    "- 10th file not found error is when you try to open a file that does not exist it will throw a FileNotFoundError\n",
    "- to handle these errors we will use try and except block, we will enclose that dangerous code inside try block and if any error occurs it will go to except block and we can handle the error there\n"
   ]
  },
  {
   "cell_type": "code",
   "execution_count": 32,
   "id": "8643b976",
   "metadata": {},
   "outputs": [
    {
     "name": "stdout",
     "output_type": "stream",
     "text": [
      "0.5\n"
     ]
    }
   ],
   "source": [
    "a=10\n",
    "b=20\n",
    "try:\n",
    "    c = a / b  # This will not raise an error because b is not zero\n",
    "    print(c)  # This line will be executed\n",
    "except ZeroDivisionError as e: \n",
    "    # Catching the ZeroDivisionError\n",
    "     print(f\"Error: {e}\")  # This line will not be executed because there is no error"
   ]
  },
  {
   "cell_type": "code",
   "execution_count": null,
   "id": "9c3f4796",
   "metadata": {},
   "outputs": [
    {
     "name": "stdout",
     "output_type": "stream",
     "text": [
      "Error: division by zero ,hey you are trying to divide by zero\n"
     ]
    }
   ],
   "source": [
    "a=10\n",
    "b=0\n",
    "try:\n",
    "    result = a / b  # This will raise a ZeroDivisionError\n",
    "except Exception as e: # Catching all exceptions, but it's better to catch specific exceptions\n",
    "    # Catching the ZeroDivisionError\n",
    "    print(f\"Error: {e} ,hey you are trying to divide by zero\")  "
   ]
  },
  {
   "cell_type": "code",
   "execution_count": null,
   "id": "27cbbf30",
   "metadata": {},
   "outputs": [
    {
     "name": "stdout",
     "output_type": "stream",
     "text": [
      "Error division by zero, you can not divide by zero\n"
     ]
    }
   ],
   "source": [
    "a=10\n",
    "b=0\n",
    "\n",
    "try:\n",
    "    print(a/b) ## there is chance thine od code may be raise the error so enclose this code inside try block\n",
    "\n",
    "except ZeroDivisionError as e: # ZeroDivisionError is the specific exception that is raised when we try to divide by zero\n",
    "    print(f\"Error {e}, you can not divide by zero\")\n",
    "    "
   ]
  },
  {
   "cell_type": "code",
   "execution_count": 37,
   "id": "d0673b96",
   "metadata": {},
   "outputs": [
    {
     "name": "stdout",
     "output_type": "stream",
     "text": [
      "Error division by zero, you can not divide by zero\n",
      "This line will be executed after the exception is handled\n"
     ]
    }
   ],
   "source": [
    "a=10\n",
    "b=0\n",
    "\n",
    "try:\n",
    "    print(a/b) ## there is chance thine od code may be raise the error so enclose this code inside try block\n",
    "\n",
    "except ZeroDivisionError as e: # ZeroDivisionError is the specific exception that is raised when we try to divide by zero\n",
    "    print(f\"Error {e}, you can not divide by zero\")\n",
    "\n",
    "print(\"This line will be executed after the exception is handled\")  # This line will be executed even if there is an error in the try block\n"
   ]
  },
  {
   "cell_type": "code",
   "execution_count": 39,
   "id": "f8c0e5ef",
   "metadata": {},
   "outputs": [
    {
     "name": "stdout",
     "output_type": "stream",
     "text": [
      "Error: division by zero\n",
      "Resource is closed\n"
     ]
    }
   ],
   "source": [
    "# in real when we work database we use try and except block to handle the error, t close the connection or resource we use finally block \n",
    "# Example of try, except, and finally blocks\n",
    "\n",
    "try:\n",
    "    # Code that may raise an exception\n",
    "    result = 10 / 0\n",
    "except ZeroDivisionError as e:\n",
    "    print(f\"Error: {e}\")\n",
    "finally:\n",
    "    print(\"Resource is closed\") ## this block will always be executed whether there is an error or not, generally we use this block to close the connection or resource\n"
   ]
  },
  {
   "cell_type": "code",
   "execution_count": 40,
   "id": "9ff5bbb8",
   "metadata": {},
   "outputs": [
    {
     "name": "stdout",
     "output_type": "stream",
     "text": [
      "resource open\n",
      "hey you cannot divide Number by zero division by zero\n",
      "resource closed\n"
     ]
    }
   ],
   "source": [
    "c = 3\n",
    "d = 0\n",
    "try:\n",
    "    print('resource open') # resource can be anything this can be file this can be database\n",
    "    print(c/d)\n",
    "   \n",
    "except Exception as e :\n",
    "    print('hey you cannot divide Number by zero',  e)   \n",
    "    #print('resource closed')\n",
    "finally:\n",
    "    print('resource closed')\n",
    "# it does not matter about any block finally it will execute  "
   ]
  },
  {
   "cell_type": "code",
   "execution_count": 42,
   "id": "538c3c9a",
   "metadata": {},
   "outputs": [
    {
     "name": "stdout",
     "output_type": "stream",
     "text": [
      "resources are opend  \n",
      "0.5\n",
      "hi\n",
      "connection is closed \n"
     ]
    }
   ],
   "source": [
    "a=10\n",
    "b=20\n",
    "\n",
    "try:\n",
    "    print(\"resources are opend  \")\n",
    "    print(a/b)\n",
    "    c=input(\"entere a number \")\n",
    "    print(\"hi\")\n",
    "\n",
    "except Exception as e :\n",
    "    print(f\"Error {e} ,you can not divied by zero\")\n",
    "\n",
    "finally:\n",
    "    print(\"connection is closed \")\n"
   ]
  },
  {
   "cell_type": "code",
   "execution_count": null,
   "id": "770512f4",
   "metadata": {},
   "outputs": [
    {
     "name": "stdout",
     "output_type": "stream",
     "text": [
      "resources are opend  \n",
      "Error division by zero ,you can not divied by zero\n",
      "connection is closed \n"
     ]
    }
   ],
   "source": [
    "a=10\n",
    "b=0\n",
    "\n",
    "try:\n",
    "    print(\"resources are opend  \")\n",
    "    print(a/b)\n",
    "    c=input(\"entere a number \") # the control will not reach here if there is an error in the try block\n",
    "    print(\"hi\") # this line will not be executed if there is an error in the try block, it will be better dangourous line write at the end of the try block\n",
    "except Exception as e :\n",
    "    print(f\"Error {e} ,you can not divied by zero\")\n",
    "\n",
    "finally:\n",
    "    print(\"connection is closed \")\n"
   ]
  },
  {
   "cell_type": "code",
   "execution_count": null,
   "id": "dae7edb0",
   "metadata": {},
   "outputs": [
    {
     "name": "stdout",
     "output_type": "stream",
     "text": [
      "resources are opend  \n",
      "hi\n",
      "Error division by zero ,you can not divied by zero\n",
      "connection is closed \n"
     ]
    }
   ],
   "source": [
    "a=10\n",
    "b=0\n",
    "\n",
    "try:\n",
    "    print(\"resources are opend  \")\n",
    "    c=input(\"entere a number \") # the control will not reach here if there is an error in the try block\n",
    "    print(\"hi\") # this line will not be executed if there is an error in the try block, it will be better dangourous line write at the end of the try block, out of the try block\n",
    "    print(a/b)\n",
    "except Exception as e :\n",
    "    print(f\"Error {e} ,you can not divied by zero\")\n",
    "\n",
    "finally:\n",
    "    print(\"connection is closed \")\n"
   ]
  },
  {
   "cell_type": "code",
   "execution_count": 47,
   "id": "8ff71fdc",
   "metadata": {},
   "outputs": [
    {
     "name": "stdout",
     "output_type": "stream",
     "text": [
      "Resources are opened\n",
      "10.0\n",
      "Error: invalid literal for int() with base 10: 'x', please enter a valid integer\n",
      "Resources are still open\n",
      "Resources are closed\n"
     ]
    }
   ],
   "source": [
    "\n",
    "# Example of catching multiple exceptions\n",
    "a = 10\n",
    "b = 1\n",
    "try:\n",
    "    print(\"Resources are opened\")\n",
    "    print(a / b)  # This will raise a ZeroDivisionError\n",
    "    c = int(input(\"Enter a number: \"))  # This may raise a ValueError if input is not an integer\n",
    "    print(\"Resources are still open\")\n",
    "except ZeroDivisionError as e:\n",
    "    print(f\"Error: {e}, you cannot divide by zero\")\n",
    "except ValueError as e:\n",
    "    print(f\"Error: {e}, please enter a valid integer\")\n",
    "    print(\"Resources are still open\")\n",
    "except Exception as e:\n",
    "    print(f\"Error: {e}\")\n",
    "finally:\n",
    "    print(\"Resources are closed\")"
   ]
  },
  {
   "cell_type": "markdown",
   "id": "17dcb44a",
   "metadata": {},
   "source": [
    "### MultiThreading in Python why this concept is used? \n",
    "#### what is task ?\n",
    "- A task is a unit of work that can be executed independently. In the context of multithreading, tasks can be functions or methods that perform specific operations.\n",
    "\n",
    "#### what is process ?\n",
    "- A process is an instance of a program that is being executed. It contains its own memory space and resources. Each process can have multiple threads running concurrently.\n",
    "#### what is thread ?\n",
    "- A thread is a separate flow of execution in a program. It allows multiple tasks to run concurrently within a single process.\n",
    "- MultiThreading is used to run multiple threads (smaller units of a process) concurrently, allowing for parallel execution of tasks.\n",
    "\n",
    "#### Why Use MultiThreading?\n",
    "- **Concurrency**: Allows multiple tasks to run simultaneously, improving performance.\n",
    "- **Responsiveness**: Keeps the application responsive by allowing background tasks to run without blocking the main thread\n",
    "- **Resource Sharing**: Threads share the same memory space, making it easier to share data between them.\n"
   ]
  },
  {
   "cell_type": "code",
   "execution_count": 48,
   "id": "2034e851",
   "metadata": {},
   "outputs": [
    {
     "name": "stdout",
     "output_type": "stream",
     "text": [
      "1\n",
      "a\n",
      "b2\n",
      "\n",
      "3c\n",
      "\n",
      "d\n",
      "4\n",
      "5e\n",
      "\n",
      "Finished\n"
     ]
    }
   ],
   "source": [
    "#### Example of MultiThreading in Python\n",
    "\n",
    "import threading\n",
    "import time\n",
    "\n",
    "def print_numbers():\n",
    "    for i in range(1, 6):\n",
    "        print(i)\n",
    "        time.sleep(1)\n",
    "\n",
    "def print_letters():\n",
    "    for letter in 'abcde':\n",
    "        print(letter)\n",
    "        time.sleep(1)\n",
    "\n",
    "# Creating threads\n",
    "thread1 = threading.Thread(target=print_numbers)\n",
    "thread2 = threading.Thread(target=print_letters)\n",
    "\n",
    "# Starting threads\n",
    "thread1.start()\n",
    "thread2.start()\n",
    "\n",
    "# Waiting for threads to complete\n",
    "thread1.join()\n",
    "thread2.join()\n",
    "\n",
    "print(\"Finished\")"
   ]
  },
  {
   "cell_type": "code",
   "execution_count": 49,
   "id": "74467a48",
   "metadata": {},
   "outputs": [
    {
     "name": "stdout",
     "output_type": "stream",
     "text": [
      "number :0\n",
      "letter :a\n",
      "number :1\n",
      "letter :b\n",
      "number :2\n",
      "letter :c\n",
      "number :3letter :d\n",
      "\n",
      "letter :enumber :4\n",
      "\n",
      "10.036412477493286\n"
     ]
    }
   ],
   "source": [
    "## when to use multi threading \n",
    "# 1. I/O bound task :task that is spend more time waiting for i/o operations \n",
    "# concurrent execution: when you want to imporve your throughput your applications by performing multi-operation concurrently\n",
    "import threading \n",
    "import time\n",
    "\n",
    "# def print_number():\n",
    "#     for i in range(5):\n",
    "#         time.sleep(2)\n",
    "#         print(f'number :{i}')\n",
    "\n",
    "# def print_letter():\n",
    "#     for letter in 'abcde':\n",
    "#         time.sleep(2)\n",
    "#         print(f'letter :{letter}')\n",
    "\n",
    "\n",
    "\n",
    "# t=time.time()\n",
    "# print_number()\n",
    "# print_letter()\n",
    "# finished_time=time.time()-t\n",
    "# print(finished_time)\n",
    "\n",
    "def print_number():\n",
    "    for i in range(5):\n",
    "        time.sleep(2)\n",
    "        print(f'number :{i}')\n",
    "\n",
    "def print_letter():\n",
    "    for letter in 'abcde':\n",
    "        time.sleep(2)\n",
    "        print(f'letter :{letter}')\n",
    "\n",
    "\n",
    "# creating 2 thread \n",
    "t1 =threading.Thread(target=print_number)\n",
    "t2=threading.Thread(target=print_letter)\n",
    "\n",
    "\n",
    "t=time.time()\n",
    "## start the thread\n",
    "t1.start()\n",
    "t2.start()\n",
    "\n",
    "# wait for the thread to complete \n",
    "t1.join()\n",
    "t2.join()\n",
    "finished_time=time.time()-t\n",
    "print(finished_time)"
   ]
  },
  {
   "cell_type": "code",
   "execution_count": 50,
   "id": "0ea5a209",
   "metadata": {},
   "outputs": [
    {
     "name": "stdout",
     "output_type": "stream",
     "text": [
      "0.3608989715576172\n"
     ]
    }
   ],
   "source": [
    "## multiprocessing in python\n",
    "## proccess that run parallel\n",
    "## cPU bound task :task that is hevely on cpu usage(e.g mathematical computation)\n",
    "# parallel execution: multiple core CPU\n",
    "\n",
    "import multiprocessing\n",
    "import multiprocessing.process\n",
    "import time \n",
    "\n",
    "def print_square():\n",
    "    for i in range(5):\n",
    "        time.sleep(2)\n",
    "        print(i*i)\n",
    "\n",
    "def print_cube():\n",
    "    for i in range(5):\n",
    "        time.sleep(2)\n",
    "        print(i*i*i)\n",
    "        \n",
    "\n",
    "\n",
    "if __name__=='__main__':\n",
    "    \n",
    "    t=time.time()\n",
    "    # creating 2 processes\n",
    "    p1=multiprocessing.Process(target=print_square)\n",
    "    p2=multiprocessing.Process(target=print_cube)\n",
    "    \n",
    "    # start the Process \n",
    "    p1.start()\n",
    "    p2.start()\n",
    "    ## wait for the process to complete \n",
    "    p1.join()\n",
    "    p2.join()\n",
    "   \n",
    "    finished_time=time.time()-t\n",
    "    print(finished_time)\n",
    "    \n",
    "     \n",
    "\n",
    "    \n"
   ]
  },
  {
   "cell_type": "code",
   "execution_count": null,
   "id": "934d42b7",
   "metadata": {},
   "outputs": [],
   "source": [
    "# multi thread with thread pooling\n",
    "from concurrent.futures import ThreadPoolExecutor # ThreadPoolExecutor is used to create a pool of threads that can be used to execute tasks concurrently\n",
    "import time \n",
    "\n",
    "def print_number(numbers):\n",
    "    \n",
    "    time.sleep(1)\n",
    "    return f'number :{numbers}'\n",
    "    \n",
    "        \n",
    "numbers=[1,2,3,4,5,6,7,8]\n",
    "\n",
    "with ThreadPoolExecutor(max_workers=3) as executer: # Create a thread pool with a maximum of 3 workers\n",
    "    results=executer.map(print_number,numbers) # map function is used to apply the print_number function to each element in the numbers list concurrently\n",
    " \n",
    " \n",
    "t=time.time()    \n",
    "for result in results:\n",
    "    print(result)\n",
    "\n",
    "finished_time=time.time()-t\n",
    "print(finished_time)"
   ]
  },
  {
   "cell_type": "code",
   "execution_count": null,
   "id": "715a4e76",
   "metadata": {},
   "outputs": [
    {
     "name": "stdout",
     "output_type": "stream",
     "text": [
      "number: 1\n",
      "number: 2\n",
      "number: 3\n",
      "number: 4\n",
      "number: 5\n",
      "number: 6\n",
      "number: 7\n",
      "number: 8\n",
      "Finished in 3.01 seconds\n"
     ]
    }
   ],
   "source": [
    "# multi thread with thread pooling\n",
    "from concurrent.futures import ProcessPoolExecutor\n",
    "import time \n",
    "\n",
    "def print_number(numbers):\n",
    "    \n",
    "    time.sleep(1)\n",
    "    return f'number :{numbers}'\n",
    "    \n",
    "        \n",
    "numbers=[1,2,3,4,5,6,7,8]\n",
    "\n",
    "if __name__=='__main__': \n",
    "    \n",
    "    with ProcessPoolExecutor(max_workers=3) as executer:\n",
    "      results=executer.map(print_number,numbers)\n",
    "\n",
    "\n",
    "      t=time.time()    \n",
    "      for result in results:\n",
    "        print(result)\n",
    "\n",
    "      finished_time=time.time()-t\n",
    "      print(finished_time)"
   ]
  },
  {
   "cell_type": "code",
   "execution_count": 6,
   "id": "ed057866",
   "metadata": {},
   "outputs": [
    {
     "name": "stdout",
     "output_type": "stream",
     "text": [
      "fetched 14858 character from https://www.geeksforgeeks.org/how-to-run-a-python-script/\n",
      "fetched 107 character from https://www.ness.com/\n",
      "fetched 9941 character from https://www.tpointtech.com/\n",
      "all web page fetched\n"
     ]
    }
   ],
   "source": [
    "## real time example scenario:web scraping   \n",
    "urls=[\n",
    "    'https://www.tpointtech.com/',\n",
    "    'https://www.geeksforgeeks.org/how-to-run-a-python-script/',\n",
    "    'https://www.ness.com/'\n",
    "] \n",
    "# This script fetches the content of multiple web pages concurrently using threading\n",
    "\n",
    "\n",
    "import threading # threading is a library used to create and manage threads in Python\n",
    "import requests # requests is a library used to make HTTP requests in Python\n",
    "from bs4 import BeautifulSoup # BeautifulSoup is a library used to parse HTML and XML documents in Python\n",
    "\n",
    "def fetched_content(url):\n",
    "    response=requests.get(url)\n",
    "    soup=BeautifulSoup(response.content,'html.parser')\n",
    "    print(f'fetched {len(soup.text)} character from {url}')\n",
    "\n",
    "threads=[]\n",
    "\n",
    "for url in urls:\n",
    "    thread=threading.Thread(target=fetched_content,args=(url,))# Create a new thread for each URL\n",
    "    threads.append(thread) # Add the thread to the list\n",
    "    thread.start() # # Start the thread, which will execute the fetched_content function with the URL as an argument\n",
    "    \n",
    "for thread in threads:\n",
    "    thread.join()\n",
    "    \n",
    "print('all web page fetched')"
   ]
  },
  {
   "cell_type": "code",
   "execution_count": 7,
   "id": "52508877",
   "metadata": {},
   "outputs": [
    {
     "name": "stdout",
     "output_type": "stream",
     "text": [
      "Factorial of 5 is 120\n",
      "Factorial of 7 is 5040\n",
      "Factorial of 10 is 3628800\n",
      "Factorial of 12 is 479001600\n",
      "Factorial of 12 is 479001600\n",
      "Factorial of 12 is 479001600\n",
      "Factorial of 12 is 479001600\n",
      "Factorial of 12 is 479001600\n"
     ]
    }
   ],
   "source": [
    " ## factorial multi threading example\n",
    "import threading\n",
    "import time\n",
    "def factorial(n):\n",
    "    if n == 0 or n == 1:\n",
    "        return 1\n",
    "    else:\n",
    "        return n * factorial(n - 1)\n",
    "    \n",
    "def calculate_factorial(num):\n",
    "    thread = threading.Thread(target=factorial, args=(num,))\n",
    "    thread.start()\n",
    "    thread.join()\n",
    "    print(f'Factorial of {num} is {factorial(num)}')\n",
    "\n",
    "numbers = [5, 7, 10, 12]\n",
    "threads = [] \n",
    "for number in numbers:\n",
    "    thread = threading.Thread(target=calculate_factorial, args=(number,))\n",
    "    threads.append(thread)\n",
    "    thread.start()\n",
    "    thread.join()\n",
    "# Wait for all threads to complete\n",
    "for thread in threads:\n",
    "    thread.join()\n",
    "    print(f'Factorial of {number} is {factorial(number)}')\n",
    "# This script calculates the factorial of multiple numbers concurrently using threading\n"
   ]
  },
  {
   "cell_type": "markdown",
   "id": "8183adbb",
   "metadata": {},
   "source": [
    " ### File handling in Python\n",
    "- File handling in Python refers to the process of reading from and writing to files on the disk.\n",
    "- Python provides built-in functions and methods to work with files, allowing you to perform operations like opening, reading, writing, and closing files\n",
    "### Basic File Operations\n",
    "- **Opening a File**: Use the `open()` function to open a file.\n",
    "```python\n",
    "file = open(\"example.txt\", \"r\")  # Open file in read mode\n",
    "```\n",
    "- **Reading from a File**: Use methods like `read()`, `readline()`, or `readlines()` to read data from the file.\n",
    "```python\n",
    "content = file.read()  # Read entire file\n",
    "line = file.readline()  # Read single line\n",
    "lines = file.readlines()  # Read all lines into a list\n",
    "\n",
    "```\n",
    "- **Writing to a File**: Use the `write()` or `writelines()` methods to write data to a file.\n",
    "```python\n",
    "file = open(\"example.txt\", \"w\")  # Open file in write mode\n",
    "file.write(\"Hello, World!\")  # Write a string to the file\n",
    "file.writelines([\"Line 1\\n\", \"Line 2\\n\"])  # Write multiple lines\n",
    "```\n",
    "- **Closing a File**: Always close the file after performing operations to free up system resources.\n",
    "```python\n",
    "file.close()  # Close the file\n",
    "```\n",
    "- **Using `with` Statement**: It is recommended to use the `with` statement for file handling, as it automatically closes the file after the block of code is executed.\n",
    "```python\n",
    "with open(\"example.txt\", \"r\") as file:\n",
    "    content = file.read()  # Read entire file\n",
    "    print(content)  # Print the content of the file\n",
    "```\n",
    "### File Modes\n",
    "| Mode | Description |\n",
    "|------|-------------|\n",
    "| `r` | Read mode (default) - Opens a file for reading. If the file does not exist, it raises an error. |\n",
    "| `w` | Write mode - Opens a file for writing. If the file exists, it truncates the file to zero length. If it does not exist, it creates a new file. |\n",
    "| `a` | Append mode - Opens a file for appending. If the file does not exist, it creates a new file. |\n",
    "| `b` | Binary mode - Opens a file in binary mode (e.g., `rb`, `wb`, `ab`). Used for non-text files like images. |\n",
    "| `x` | Exclusive creation mode - Opens a file for exclusive creation. If the file already exists, it raises an error. |\n",
    "\n"
   ]
  },
  {
   "cell_type": "code",
   "execution_count": 13,
   "id": "ae0bf235",
   "metadata": {},
   "outputs": [
    {
     "name": "stdout",
     "output_type": "stream",
     "text": [
      "this is file handling ,here we learn how tp read file \n",
      "welcome to python course \n",
      "welcome to file handling \n"
     ]
    }
   ],
   "source": [
    "### read file \n",
    "with open(\"example.txt\", 'r') as file :\n",
    "    content=file.read()\n",
    "    print(content)"
   ]
  },
  {
   "cell_type": "code",
   "execution_count": 15,
   "id": "843dd57b",
   "metadata": {},
   "outputs": [
    {
     "name": "stdout",
     "output_type": "stream",
     "text": [
      "this is file handling ,here we learn how tp read file \n",
      "\n",
      "welcome to python course \n",
      "\n",
      "welcome to file handling \n"
     ]
    }
   ],
   "source": [
    "# read the file line by line \n",
    "with open(\"example.txt\",'r') as file :\n",
    "    \n",
    "    for line in file.readlines():\n",
    "        print(line)\n",
    "        \n",
    "   \n",
    "    \n",
    "    \n"
   ]
  },
  {
   "cell_type": "code",
   "execution_count": 17,
   "id": "98ea16ce",
   "metadata": {},
   "outputs": [
    {
     "name": "stdout",
     "output_type": "stream",
     "text": [
      "this is file handling ,here we learn how tp read file\n",
      "welcome to python course\n",
      "welcome to file handling\n"
     ]
    }
   ],
   "source": [
    "# read the file line by line \n",
    "with open(\"example.txt\",'r') as file :\n",
    "    \n",
    "    for line in file.readlines():\n",
    "        print(line.strip()) #line .strip() will remove new line character"
   ]
  },
  {
   "cell_type": "code",
   "execution_count": null,
   "id": "2597150c",
   "metadata": {},
   "outputs": [],
   "source": [
    "## write somthing to file \n",
    "with open(\"example.txt\" , \"w\") as file :\n",
    "    file.write(\"hello this write mode\\n\")\n",
    "    file.write(\"learn the write mode \")\n",
    "    \n",
    "# in this mode all the content overriden\n"
   ]
  },
  {
   "cell_type": "code",
   "execution_count": null,
   "id": "726cd4e9",
   "metadata": {},
   "outputs": [],
   "source": [
    "### with out overriding \n",
    "with open (\"example.txt\",\"a\") as file :\n",
    "    file.write('hello this is mohd akhlad  \\n')\n",
    "    file.write(\"hello this is new india \\n\")\n",
    "    file.write(\"hello is shining india \\n\")"
   ]
  },
  {
   "cell_type": "code",
   "execution_count": 22,
   "id": "5daaad17",
   "metadata": {},
   "outputs": [],
   "source": [
    "### write multples line \n",
    "lines=[\"hello is delhi \\n\" , \"i am from delhi\\n\", \"this is rampue\\n\"]\n",
    "with open (\"example.txt\",\"a\") as file :\n",
    "    file.writelines(lines)"
   ]
  },
  {
   "cell_type": "code",
   "execution_count": null,
   "id": "1d8ca3ad",
   "metadata": {},
   "outputs": [],
   "source": [
    "# write binary data \n",
    "binary_data = b'\\x48\\x65\\x6C\\x6C\\x6F'  # This is 'Hello' in ASCII\n",
    "\n",
    "with open (\"binaryfile.bin\",'wb') as file :\n",
    "    file.write(binary_data)  # This is 'Hello' in ASCII\n"
   ]
  },
  {
   "cell_type": "code",
   "execution_count": 28,
   "id": "762c32e3",
   "metadata": {},
   "outputs": [
    {
     "name": "stdout",
     "output_type": "stream",
     "text": [
      "b'Hello'\n"
     ]
    }
   ],
   "source": [
    "# read binary data \n",
    "\n",
    "with open(\"binaryfile.bin\" ,'rb') as file :\n",
    "    content=file.read()\n",
    "    print(content)\n",
    "\n"
   ]
  },
  {
   "cell_type": "code",
   "execution_count": 33,
   "id": "4b2fe449",
   "metadata": {},
   "outputs": [],
   "source": [
    "### read the content from sorce file and write the content to a desination file \n",
    "with open (\"example.txt\",\"r\") as source_file:\n",
    "    content=source_file.read()\n",
    "\n",
    "with open(\"destination.txt\",  \"a\") as desination_file :\n",
    "    desination_file.writelines(content)\n",
    "    "
   ]
  },
  {
   "cell_type": "code",
   "execution_count": 36,
   "id": "45496e13",
   "metadata": {},
   "outputs": [
    {
     "name": "stdout",
     "output_type": "stream",
     "text": [
      "hello this writing \n",
      "hello this is writing \n",
      "\n"
     ]
    }
   ],
   "source": [
    "### writing then reading the file \n",
    "\n",
    "with open(\"example.txt\" ,\"w+\") as file :\n",
    "    file.write(\"hello this writing \\n\")\n",
    "    file.write(\"hello this is writing \\n\")\n",
    "\n",
    "## move the file cousur to beggining \n",
    "    file.seek(0)\n",
    "    # read the content from file \n",
    "    content=file.read()\n",
    "    print(content)"
   ]
  },
  {
   "cell_type": "code",
   "execution_count": 39,
   "id": "93cd6875",
   "metadata": {},
   "outputs": [
    {
     "name": "stdout",
     "output_type": "stream",
     "text": [
      "Current Directory: e:\\python\\python programs\n",
      "Absolute Path of example.txt: e:\\python\\python programs\\example.txt\n",
      "Does example.txt exist? True\n",
      "Files in e:\\python\\python programs: ['.git', '1-BASIC PYTHON CODE TILL INPUT() FUNCTON .ipynb', 'arguesment.py', 'basic python.py', 'binaryfile.bin', 'decorators.ipynb', 'destination.txt', 'example.txt', 'factorialUsingRecursive.py', 'FibonaciSeriese.py', 'FindFactorialOfNumber.py', 'FindLengthOfList.py', 'ipynb_to_python_script.py', 'MaximumAndMinimum.py', 'module1.py', 'PrimeNumberCheck.py', 'Python from beginners to expert.py', 'Python Learning from beginners to expert-2nd part.ipynb', 'Python Learning from beginners to expert-3rd part.ipynb', 'python_decorators.py', 'SumOfElementnArray.py', 'SwapAnyTwoElementInList.py', 'SwapFirstLastElementInList.py', 'swapping.py', '__pycache__']\n",
      "Changed Directory to: e:\\python\\python programs\\new_folder\n",
      "Current Directory: e:\\python\\python programs\\new_folder\n",
      "Absolute Path of example.txt: e:\\python\\python programs\\new_folder\\example.txt\n"
     ]
    }
   ],
   "source": [
    "# working file path  e:/python/python programs/Python Learning from beginners to expert-3rd part.ipynb\n",
    "import os\n",
    "# Get the current working directory\n",
    "current_directory = os.getcwd()\n",
    "print(f\"Current Directory: {current_directory}\")\n",
    "# Get the absolute path of a file\n",
    "file_name = \"example.txt\"\n",
    "absolute_path = os.path.abspath(file_name)\n",
    "print(f\"Absolute Path of {file_name}: {absolute_path}\")\n",
    "# Check if a file exists\n",
    "file_exists = os.path.exists(file_name)\n",
    "print(f\"Does {file_name} exist? {file_exists}\")\n",
    "# List all files in the current directory\n",
    "files_in_directory = os.listdir(current_directory)\n",
    "print(f\"Files in {current_directory}: {files_in_directory}\")\n",
    "# Create a new directory\n",
    "new_directory = os.path.join(current_directory, \"new_folder\")\n",
    "os.makedirs(new_directory, exist_ok=True)  # exist_ok=True prevents an error if the directory already exists\n",
    "# Change the current working directory\n",
    "os.chdir(new_directory)\n",
    "print(f\"Changed Directory to: {os.getcwd()}\")\n",
    "# Remove the created directory\n",
    "# os.chdir(current_directory)  # Change back to the original directory\n",
    "# os.rmdir(new_directory)  # Remove the directory (it must be empty)\n",
    "# Example of using os.path to manipulate file paths\n",
    "import os\n",
    "# Get the current working directory\n",
    "current_directory = os.getcwd()\n",
    "print(f\"Current Directory: {current_directory}\")\n",
    "# Get the absolute path of a file\n",
    "file_name = \"example.txt\"\n",
    "absolute_path = os.path.abspath(file_name)\n",
    "print(f\"Absolute Path of {file_name}: {absolute_path}\")\n"
   ]
  },
  {
   "cell_type": "code",
   "execution_count": 40,
   "id": "1685d4a0",
   "metadata": {},
   "outputs": [
    {
     "name": "stdout",
     "output_type": "stream",
     "text": [
      "new directory pacakge is created \n"
     ]
    }
   ],
   "source": [
    "# create new directory\n",
    "import os\n",
    "new_directory=\"pacakge\"\n",
    "os.mkdir(new_directory)\n",
    "print(f\"new directory {new_directory} is created \")\n",
    "\n"
   ]
  },
  {
   "cell_type": "code",
   "execution_count": 43,
   "id": "c423d54f",
   "metadata": {},
   "outputs": [
    {
     "name": "stdout",
     "output_type": "stream",
     "text": [
      "['pacakge']\n",
      "e:\\python\\python programs\\new_folder\n"
     ]
    }
   ],
   "source": [
    "# Listing all file and directory \n",
    "items=os.listdir(\".\")\n",
    "print(items)\n",
    "print(os.getcwd())"
   ]
  },
  {
   "cell_type": "code",
   "execution_count": 45,
   "id": "15e0b5bf",
   "metadata": {},
   "outputs": [
    {
     "name": "stdout",
     "output_type": "stream",
     "text": [
      "e:\\python\\python programs\\new_folder\\folder\\file.txt\n"
     ]
    }
   ],
   "source": [
    "# joing the path\n",
    "dir_name=\"folder\"\n",
    "file_name=\"file.txt\"\n",
    "full_path=os.path.join(os.getcwd(),dir_name,file_name)\n",
    "print(full_path)\n"
   ]
  },
  {
   "cell_type": "code",
   "execution_count": 48,
   "id": "5e1a37fa",
   "metadata": {},
   "outputs": [
    {
     "name": "stdout",
     "output_type": "stream",
     "text": [
      "this particular path E:\\python\\python programs\\example.txt is exist\n"
     ]
    }
   ],
   "source": [
    "path=r\"E:\\python\\python programs\\example.txt\"\n",
    "\n",
    "if os.path.exists(path):\n",
    "    print(f\"this particular path {path} is exist\")\n",
    "\n",
    "else :\n",
    "    print(f\"this particular path {path} does not exist \")     "
   ]
  },
  {
   "cell_type": "code",
   "execution_count": null,
   "id": "9e454088",
   "metadata": {},
   "outputs": [
    {
     "name": "stdout",
     "output_type": "stream",
     "text": [
      "this path niegther path nor directory\n"
     ]
    }
   ],
   "source": [
    "# check a apth is file or directory \n",
    "import os \n",
    "\n",
    "path=r\"E:\\python\\python programs\\example.txt\"\n",
    "\n",
    "if os.path.isfile(path):\n",
    "    print(f\"this path {path} is a file\")\n",
    "    \n",
    "elif os.path.isdir(path):\n",
    "    print(f\"this path {path} is directory\")\n",
    "\n",
    "else:\n",
    "    print(f\"this path niegther path nor directory\")"
   ]
  },
  {
   "cell_type": "code",
   "execution_count": 53,
   "id": "82d76ced",
   "metadata": {},
   "outputs": [
    {
     "data": {
      "text/plain": [
       "'e:\\\\python\\\\python programs\\\\new_folder'"
      ]
     },
     "execution_count": 53,
     "metadata": {},
     "output_type": "execute_result"
    }
   ],
   "source": [
    "os.getcwd()"
   ]
  },
  {
   "cell_type": "code",
   "execution_count": 57,
   "id": "050c9179",
   "metadata": {},
   "outputs": [
    {
     "name": "stdout",
     "output_type": "stream",
     "text": [
      "e:\\python\\python programs\\new_folder\\example.txt\n"
     ]
    }
   ],
   "source": [
    "# getting absolute_path\n",
    "relative_path=\"example.txt\"\n",
    "absolute_path=os.path.abspath(relative_path)\n",
    "print(absolute_path)"
   ]
  },
  {
   "cell_type": "code",
   "execution_count": null,
   "id": "b6198af2",
   "metadata": {},
   "outputs": [],
   "source": []
  },
  {
   "cell_type": "code",
   "execution_count": null,
   "id": "d5a03289",
   "metadata": {},
   "outputs": [],
   "source": []
  },
  {
   "cell_type": "code",
   "execution_count": null,
   "id": "1a816413",
   "metadata": {},
   "outputs": [],
   "source": []
  },
  {
   "cell_type": "code",
   "execution_count": null,
   "id": "59bf1d89",
   "metadata": {},
   "outputs": [],
   "source": []
  },
  {
   "cell_type": "code",
   "execution_count": null,
   "id": "c2e7319f",
   "metadata": {},
   "outputs": [],
   "source": []
  },
  {
   "cell_type": "code",
   "execution_count": null,
   "id": "98806b92",
   "metadata": {},
   "outputs": [],
   "source": []
  },
  {
   "cell_type": "code",
   "execution_count": null,
   "id": "113bb1f5",
   "metadata": {},
   "outputs": [],
   "source": []
  },
  {
   "cell_type": "code",
   "execution_count": null,
   "id": "e04cf572",
   "metadata": {},
   "outputs": [],
   "source": []
  },
  {
   "cell_type": "code",
   "execution_count": null,
   "id": "e6e0a96c",
   "metadata": {},
   "outputs": [],
   "source": []
  },
  {
   "cell_type": "code",
   "execution_count": null,
   "id": "473e59a6",
   "metadata": {},
   "outputs": [],
   "source": []
  },
  {
   "cell_type": "code",
   "execution_count": null,
   "id": "89c2072b",
   "metadata": {},
   "outputs": [],
   "source": []
  },
  {
   "cell_type": "code",
   "execution_count": null,
   "id": "a9ac2d70",
   "metadata": {},
   "outputs": [],
   "source": []
  },
  {
   "cell_type": "code",
   "execution_count": null,
   "id": "68b2a886",
   "metadata": {},
   "outputs": [],
   "source": []
  },
  {
   "cell_type": "code",
   "execution_count": null,
   "id": "be57c468",
   "metadata": {},
   "outputs": [],
   "source": []
  },
  {
   "cell_type": "code",
   "execution_count": null,
   "id": "39187fc0",
   "metadata": {},
   "outputs": [],
   "source": []
  },
  {
   "cell_type": "code",
   "execution_count": null,
   "id": "d312771e",
   "metadata": {},
   "outputs": [],
   "source": []
  },
  {
   "cell_type": "code",
   "execution_count": null,
   "id": "203d70c7",
   "metadata": {},
   "outputs": [],
   "source": []
  },
  {
   "cell_type": "code",
   "execution_count": null,
   "id": "69ad3f03",
   "metadata": {},
   "outputs": [],
   "source": []
  },
  {
   "cell_type": "code",
   "execution_count": null,
   "id": "6c2cf897",
   "metadata": {},
   "outputs": [],
   "source": []
  },
  {
   "cell_type": "code",
   "execution_count": null,
   "id": "dd0f245a",
   "metadata": {},
   "outputs": [],
   "source": []
  },
  {
   "cell_type": "code",
   "execution_count": null,
   "id": "63720de6",
   "metadata": {},
   "outputs": [],
   "source": []
  },
  {
   "cell_type": "code",
   "execution_count": null,
   "id": "27fbaee0",
   "metadata": {},
   "outputs": [],
   "source": []
  },
  {
   "cell_type": "code",
   "execution_count": null,
   "id": "7f306cb7",
   "metadata": {},
   "outputs": [],
   "source": []
  },
  {
   "cell_type": "code",
   "execution_count": null,
   "id": "e37fc23a",
   "metadata": {},
   "outputs": [],
   "source": []
  },
  {
   "cell_type": "code",
   "execution_count": null,
   "id": "d617421c",
   "metadata": {},
   "outputs": [],
   "source": []
  },
  {
   "cell_type": "code",
   "execution_count": null,
   "id": "02618682",
   "metadata": {},
   "outputs": [],
   "source": []
  },
  {
   "cell_type": "code",
   "execution_count": null,
   "id": "c150d028",
   "metadata": {},
   "outputs": [],
   "source": []
  },
  {
   "cell_type": "code",
   "execution_count": null,
   "id": "ef60bfad",
   "metadata": {},
   "outputs": [],
   "source": []
  },
  {
   "cell_type": "code",
   "execution_count": null,
   "id": "dc130d2d",
   "metadata": {},
   "outputs": [],
   "source": []
  },
  {
   "cell_type": "code",
   "execution_count": null,
   "id": "b2656505",
   "metadata": {},
   "outputs": [],
   "source": []
  },
  {
   "cell_type": "code",
   "execution_count": null,
   "id": "062a2748",
   "metadata": {},
   "outputs": [],
   "source": []
  },
  {
   "cell_type": "code",
   "execution_count": null,
   "id": "b6c22f85",
   "metadata": {},
   "outputs": [],
   "source": []
  },
  {
   "cell_type": "code",
   "execution_count": null,
   "id": "dfbc7ab7",
   "metadata": {},
   "outputs": [],
   "source": []
  },
  {
   "cell_type": "code",
   "execution_count": null,
   "id": "38d10ab8",
   "metadata": {},
   "outputs": [],
   "source": []
  },
  {
   "cell_type": "code",
   "execution_count": null,
   "id": "abd1d1ed",
   "metadata": {},
   "outputs": [],
   "source": []
  },
  {
   "cell_type": "code",
   "execution_count": null,
   "id": "3d17bbc0",
   "metadata": {},
   "outputs": [],
   "source": []
  },
  {
   "cell_type": "code",
   "execution_count": null,
   "id": "af4056ad",
   "metadata": {},
   "outputs": [],
   "source": []
  },
  {
   "cell_type": "code",
   "execution_count": null,
   "id": "38718bc8",
   "metadata": {},
   "outputs": [],
   "source": []
  },
  {
   "cell_type": "code",
   "execution_count": null,
   "id": "d939a07b",
   "metadata": {},
   "outputs": [],
   "source": []
  },
  {
   "cell_type": "code",
   "execution_count": null,
   "id": "884e84ea",
   "metadata": {},
   "outputs": [],
   "source": []
  },
  {
   "cell_type": "code",
   "execution_count": null,
   "id": "8b119aa0",
   "metadata": {},
   "outputs": [],
   "source": []
  },
  {
   "cell_type": "code",
   "execution_count": null,
   "id": "f401e67e",
   "metadata": {},
   "outputs": [],
   "source": []
  },
  {
   "cell_type": "code",
   "execution_count": null,
   "id": "54be03a4",
   "metadata": {},
   "outputs": [],
   "source": []
  },
  {
   "cell_type": "code",
   "execution_count": null,
   "id": "c38f51d5",
   "metadata": {},
   "outputs": [],
   "source": []
  },
  {
   "cell_type": "code",
   "execution_count": null,
   "id": "d198a51a",
   "metadata": {},
   "outputs": [],
   "source": []
  },
  {
   "cell_type": "code",
   "execution_count": null,
   "id": "778ee989",
   "metadata": {},
   "outputs": [],
   "source": []
  },
  {
   "cell_type": "code",
   "execution_count": null,
   "id": "532f87e9",
   "metadata": {},
   "outputs": [],
   "source": []
  },
  {
   "cell_type": "code",
   "execution_count": null,
   "id": "69782888",
   "metadata": {},
   "outputs": [],
   "source": []
  },
  {
   "cell_type": "code",
   "execution_count": null,
   "id": "e54e9f47",
   "metadata": {},
   "outputs": [],
   "source": []
  },
  {
   "cell_type": "code",
   "execution_count": null,
   "id": "67d4fe6b",
   "metadata": {},
   "outputs": [],
   "source": []
  },
  {
   "cell_type": "code",
   "execution_count": null,
   "id": "df779b45",
   "metadata": {},
   "outputs": [],
   "source": []
  },
  {
   "cell_type": "code",
   "execution_count": null,
   "id": "19895fee",
   "metadata": {},
   "outputs": [],
   "source": []
  },
  {
   "cell_type": "code",
   "execution_count": null,
   "id": "1f21ff92",
   "metadata": {},
   "outputs": [],
   "source": []
  },
  {
   "cell_type": "code",
   "execution_count": null,
   "id": "326d6c08",
   "metadata": {},
   "outputs": [],
   "source": []
  },
  {
   "cell_type": "code",
   "execution_count": null,
   "id": "c7801c46",
   "metadata": {},
   "outputs": [],
   "source": []
  },
  {
   "cell_type": "code",
   "execution_count": null,
   "id": "5eea95ca",
   "metadata": {},
   "outputs": [],
   "source": []
  },
  {
   "cell_type": "code",
   "execution_count": null,
   "id": "df580420",
   "metadata": {},
   "outputs": [],
   "source": []
  },
  {
   "cell_type": "code",
   "execution_count": null,
   "id": "38c18809",
   "metadata": {},
   "outputs": [],
   "source": []
  },
  {
   "cell_type": "code",
   "execution_count": null,
   "id": "d7c8161b",
   "metadata": {},
   "outputs": [],
   "source": []
  },
  {
   "cell_type": "code",
   "execution_count": null,
   "id": "ab758e00",
   "metadata": {},
   "outputs": [],
   "source": []
  },
  {
   "cell_type": "code",
   "execution_count": null,
   "id": "ae03d040",
   "metadata": {},
   "outputs": [],
   "source": []
  },
  {
   "cell_type": "code",
   "execution_count": null,
   "id": "61ccc58a",
   "metadata": {},
   "outputs": [],
   "source": []
  },
  {
   "cell_type": "code",
   "execution_count": null,
   "id": "b5160eaf",
   "metadata": {},
   "outputs": [],
   "source": []
  },
  {
   "cell_type": "code",
   "execution_count": null,
   "id": "a3fd2823",
   "metadata": {},
   "outputs": [],
   "source": []
  },
  {
   "cell_type": "code",
   "execution_count": null,
   "id": "32cd0cad",
   "metadata": {},
   "outputs": [],
   "source": []
  },
  {
   "cell_type": "code",
   "execution_count": null,
   "id": "90aa14d0",
   "metadata": {},
   "outputs": [],
   "source": []
  },
  {
   "cell_type": "code",
   "execution_count": null,
   "id": "33124e48",
   "metadata": {},
   "outputs": [],
   "source": []
  },
  {
   "cell_type": "code",
   "execution_count": null,
   "id": "3180750c",
   "metadata": {},
   "outputs": [],
   "source": []
  },
  {
   "cell_type": "code",
   "execution_count": null,
   "id": "ae8ae666",
   "metadata": {},
   "outputs": [],
   "source": []
  },
  {
   "cell_type": "code",
   "execution_count": null,
   "id": "c82517ca",
   "metadata": {},
   "outputs": [],
   "source": []
  },
  {
   "cell_type": "code",
   "execution_count": null,
   "id": "e667a54a",
   "metadata": {},
   "outputs": [],
   "source": []
  },
  {
   "cell_type": "code",
   "execution_count": null,
   "id": "f7ae96a3",
   "metadata": {},
   "outputs": [],
   "source": []
  },
  {
   "cell_type": "code",
   "execution_count": null,
   "id": "2ccb8cdf",
   "metadata": {},
   "outputs": [],
   "source": []
  },
  {
   "cell_type": "code",
   "execution_count": null,
   "id": "8ed07208",
   "metadata": {},
   "outputs": [],
   "source": []
  },
  {
   "cell_type": "code",
   "execution_count": null,
   "id": "87ebc63f",
   "metadata": {},
   "outputs": [],
   "source": []
  },
  {
   "cell_type": "code",
   "execution_count": null,
   "id": "6e3fcca9",
   "metadata": {},
   "outputs": [],
   "source": []
  },
  {
   "cell_type": "code",
   "execution_count": null,
   "id": "a5863329",
   "metadata": {},
   "outputs": [],
   "source": []
  },
  {
   "cell_type": "code",
   "execution_count": null,
   "id": "9aec9414",
   "metadata": {},
   "outputs": [],
   "source": []
  },
  {
   "cell_type": "code",
   "execution_count": null,
   "id": "a8d7c06e",
   "metadata": {},
   "outputs": [],
   "source": []
  },
  {
   "cell_type": "code",
   "execution_count": null,
   "id": "e1fa50c2",
   "metadata": {},
   "outputs": [],
   "source": []
  },
  {
   "cell_type": "code",
   "execution_count": null,
   "id": "7ce2a0f4",
   "metadata": {},
   "outputs": [],
   "source": []
  },
  {
   "cell_type": "code",
   "execution_count": null,
   "id": "cb145bde",
   "metadata": {},
   "outputs": [],
   "source": []
  },
  {
   "cell_type": "code",
   "execution_count": null,
   "id": "846eddad",
   "metadata": {},
   "outputs": [],
   "source": []
  },
  {
   "cell_type": "code",
   "execution_count": null,
   "id": "0c7735d2",
   "metadata": {},
   "outputs": [],
   "source": []
  },
  {
   "cell_type": "code",
   "execution_count": null,
   "id": "50ffe2cb",
   "metadata": {},
   "outputs": [],
   "source": []
  },
  {
   "cell_type": "code",
   "execution_count": null,
   "id": "0895bf6e",
   "metadata": {},
   "outputs": [],
   "source": []
  },
  {
   "cell_type": "code",
   "execution_count": null,
   "id": "b5149cee",
   "metadata": {},
   "outputs": [],
   "source": []
  },
  {
   "cell_type": "code",
   "execution_count": null,
   "id": "3029f229",
   "metadata": {},
   "outputs": [],
   "source": []
  },
  {
   "cell_type": "code",
   "execution_count": null,
   "id": "2b9fe70e",
   "metadata": {},
   "outputs": [],
   "source": []
  },
  {
   "cell_type": "code",
   "execution_count": null,
   "id": "2ba2f975",
   "metadata": {},
   "outputs": [],
   "source": []
  },
  {
   "cell_type": "code",
   "execution_count": null,
   "id": "f429a666",
   "metadata": {},
   "outputs": [],
   "source": []
  },
  {
   "cell_type": "code",
   "execution_count": null,
   "id": "8f8547b7",
   "metadata": {},
   "outputs": [],
   "source": []
  },
  {
   "cell_type": "code",
   "execution_count": null,
   "id": "fef26388",
   "metadata": {},
   "outputs": [],
   "source": []
  },
  {
   "cell_type": "code",
   "execution_count": null,
   "id": "4adbbcc9",
   "metadata": {},
   "outputs": [],
   "source": []
  },
  {
   "cell_type": "code",
   "execution_count": null,
   "id": "07df82c7",
   "metadata": {},
   "outputs": [],
   "source": []
  },
  {
   "cell_type": "code",
   "execution_count": null,
   "id": "0c60ac76",
   "metadata": {},
   "outputs": [],
   "source": []
  },
  {
   "cell_type": "code",
   "execution_count": null,
   "id": "92687b16",
   "metadata": {},
   "outputs": [],
   "source": []
  },
  {
   "cell_type": "code",
   "execution_count": null,
   "id": "d8b112a8",
   "metadata": {},
   "outputs": [],
   "source": []
  },
  {
   "cell_type": "code",
   "execution_count": null,
   "id": "5a7d5664",
   "metadata": {},
   "outputs": [],
   "source": []
  },
  {
   "cell_type": "code",
   "execution_count": null,
   "id": "452e49f4",
   "metadata": {},
   "outputs": [],
   "source": []
  },
  {
   "cell_type": "code",
   "execution_count": null,
   "id": "76366105",
   "metadata": {},
   "outputs": [],
   "source": []
  },
  {
   "cell_type": "code",
   "execution_count": null,
   "id": "a30782af",
   "metadata": {},
   "outputs": [],
   "source": []
  },
  {
   "cell_type": "code",
   "execution_count": null,
   "id": "1f77e8cb",
   "metadata": {},
   "outputs": [],
   "source": []
  },
  {
   "cell_type": "code",
   "execution_count": null,
   "id": "a2514d71",
   "metadata": {},
   "outputs": [],
   "source": []
  },
  {
   "cell_type": "code",
   "execution_count": null,
   "id": "d7fa4c04",
   "metadata": {},
   "outputs": [],
   "source": []
  },
  {
   "cell_type": "code",
   "execution_count": null,
   "id": "0cca423d",
   "metadata": {},
   "outputs": [],
   "source": []
  },
  {
   "cell_type": "code",
   "execution_count": null,
   "id": "be177ddb",
   "metadata": {},
   "outputs": [],
   "source": []
  },
  {
   "cell_type": "code",
   "execution_count": null,
   "id": "443b24df",
   "metadata": {},
   "outputs": [],
   "source": []
  },
  {
   "cell_type": "code",
   "execution_count": null,
   "id": "b4530623",
   "metadata": {},
   "outputs": [],
   "source": []
  },
  {
   "cell_type": "code",
   "execution_count": null,
   "id": "cc1f2177",
   "metadata": {},
   "outputs": [],
   "source": []
  },
  {
   "cell_type": "code",
   "execution_count": null,
   "id": "5182b7ef",
   "metadata": {},
   "outputs": [],
   "source": []
  },
  {
   "cell_type": "code",
   "execution_count": null,
   "id": "e1af8b1b",
   "metadata": {},
   "outputs": [],
   "source": []
  },
  {
   "cell_type": "code",
   "execution_count": null,
   "id": "a03d995f",
   "metadata": {},
   "outputs": [],
   "source": []
  },
  {
   "cell_type": "code",
   "execution_count": null,
   "id": "ca8638a4",
   "metadata": {},
   "outputs": [],
   "source": []
  },
  {
   "cell_type": "code",
   "execution_count": null,
   "id": "8955ea13",
   "metadata": {},
   "outputs": [],
   "source": []
  },
  {
   "cell_type": "code",
   "execution_count": null,
   "id": "42d102fc",
   "metadata": {},
   "outputs": [],
   "source": []
  },
  {
   "cell_type": "code",
   "execution_count": null,
   "id": "732f84d2",
   "metadata": {},
   "outputs": [],
   "source": []
  },
  {
   "cell_type": "code",
   "execution_count": null,
   "id": "e9a9fc4e",
   "metadata": {},
   "outputs": [],
   "source": []
  },
  {
   "cell_type": "code",
   "execution_count": null,
   "id": "bc8b9e24",
   "metadata": {},
   "outputs": [],
   "source": []
  },
  {
   "cell_type": "code",
   "execution_count": null,
   "id": "f21e4092",
   "metadata": {},
   "outputs": [],
   "source": []
  }
 ],
 "metadata": {
  "kernelspec": {
   "display_name": "Python 3",
   "language": "python",
   "name": "python3"
  },
  "language_info": {
   "codemirror_mode": {
    "name": "ipython",
    "version": 3
   },
   "file_extension": ".py",
   "mimetype": "text/x-python",
   "name": "python",
   "nbconvert_exporter": "python",
   "pygments_lexer": "ipython3",
   "version": "3.12.7"
  }
 },
 "nbformat": 4,
 "nbformat_minor": 5
}
