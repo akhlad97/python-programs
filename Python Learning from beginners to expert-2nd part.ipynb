{
 "cells": [
  {
   "cell_type": "markdown",
   "id": "b7654ab5",
   "metadata": {},
   "source": [
    "## Function in python\n",
    "- why do we need function lets understan one scenario you might be workion on simple or complex project\n",
    "- when you work on complex project break down complex project to smaller task . \n",
    "- when you talk about smaller task of course you need to write multiple statement.\n",
    "- e.g if you want to operate payment operation in that you need to multiple statement all that statement keep it together & re useable later. \n",
    "- all the statment of the tasks are stay together thats why we are creation function "
   ]
  },
  {
   "cell_type": "markdown",
   "id": "59d31602",
   "metadata": {},
   "source": []
  },
  {
   "cell_type": "markdown",
   "id": "9ae802a4",
   "metadata": {},
   "source": [
    "# FUNCTION -->\n",
    "- Inbuild function  -- print(), type(), id(), sqrt() etc\n",
    "- User defined function \n",
    "- function is collection of statement\n",
    "- 2 main property of the function is -- define the function & calling the function \n",
    "- function always define with def & function always declares as ()\n",
    "difference between variable & function || a - variable || b() - function "
   ]
  },
  {
   "cell_type": "code",
   "execution_count": 3,
   "id": "81989b27",
   "metadata": {},
   "outputs": [
    {
     "name": "stdout",
     "output_type": "stream",
     "text": [
      "hello\n",
      "good morning\n"
     ]
    }
   ],
   "source": [
    "def greet():\n",
    "    print(\"hello\")\n",
    "    print(\"good morning\")\n",
    "\n",
    "# it will not give any out put until unless we call the function\n",
    "greet()\n"
   ]
  },
  {
   "cell_type": "code",
   "execution_count": 4,
   "id": "0e2f4aac",
   "metadata": {},
   "outputs": [
    {
     "name": "stdout",
     "output_type": "stream",
     "text": [
      "hello\n",
      "good morning\n",
      "hello\n",
      "good morning\n"
     ]
    }
   ],
   "source": [
    "def greet():\n",
    "    print(\"hello\")\n",
    "    print(\"good morning\") \n",
    "greet()\n",
    "\n",
    "def greet():\n",
    "    print(\"hello\")\n",
    "    print(\"good morning\") \n",
    "greet()"
   ]
  },
  {
   "cell_type": "code",
   "execution_count": 6,
   "id": "7b82f518",
   "metadata": {},
   "outputs": [
    {
     "name": "stdout",
     "output_type": "stream",
     "text": [
      "hello\n",
      "good morning\n",
      "hello\n",
      "good morning\n",
      "hello\n",
      "good morning\n"
     ]
    }
   ],
   "source": [
    "def greet():\n",
    "    print(\"hello\")\n",
    "    print(\"good morning\") \n",
    "# if you need call the function multiple time\n",
    "greet()\n",
    "greet()\n",
    "greet()"
   ]
  },
  {
   "cell_type": "code",
   "execution_count": 7,
   "metadata": {},
   "outputs": [
    {
     "name": "stdout",
     "output_type": "stream",
     "text": [
      "6\n"
     ]
    }
   ],
   "source": [
    "# create a function and give the definition somthing add two numbers \n",
    "def add(x,y):\n",
    "    c=x+y\n",
    "    print(c)\n",
    "# call the add function\n",
    "add(2,4)"
   ]
  },
  {
   "cell_type": "code",
   "execution_count": 8,
   "metadata": {},
   "outputs": [
    {
     "name": "stdout",
     "output_type": "stream",
     "text": [
      "11\n"
     ]
    }
   ],
   "source": [
    "def add(x,y,z):\n",
    "    c=x+y+z\n",
    "    print(c)\n",
    "# call the add function\n",
    "add(3,2,6)"
   ]
  },
  {
   "cell_type": "code",
   "execution_count": 9,
   "metadata": {},
   "outputs": [
    {
     "name": "stdout",
     "output_type": "stream",
     "text": [
      "hello\n",
      "good morning\n",
      "11\n",
      "hello\n",
      "good morning\n",
      "13\n"
     ]
    }
   ],
   "source": [
    "def greet():\n",
    "    print(\"hello\")\n",
    "    print(\"good morning\")\n",
    "\n",
    "def add(x,y):\n",
    "    c=x+y\n",
    "    print(c)\n",
    "\n",
    "greet()\n",
    "add(2,9)\n",
    "\n",
    "greet()\n",
    "add(2,11)\n",
    "\n",
    "# you can create multple functions and call them as many time as you want \n"
   ]
  },
  {
   "cell_type": "code",
   "execution_count": null,
   "metadata": {},
   "outputs": [
    {
     "name": "stdout",
     "output_type": "stream",
     "text": [
      "50 -4\n",
      "(50, -4)\n"
     ]
    },
    {
     "data": {
      "text/plain": [
       "tuple"
      ]
     },
     "execution_count": 12,
     "metadata": {},
     "output_type": "execute_result"
    }
   ],
   "source": [
    "def add_sub(x,y):\n",
    "    c=x+y\n",
    "    d=x-y\n",
    "\n",
    "    return c,d\n",
    "\n",
    "sum,sub=add_sub(23,27)\n",
    "result=add_sub(23,27) ## result will store in the form of tuple\n",
    "print(sum,sub)\n",
    "print(result)\n",
    "    \n",
    "type(result)\n",
    "\n",
    "    "
   ]
  },
  {
   "cell_type": "markdown",
   "id": "e183eb87",
   "metadata": {},
   "source": [
    "- function are always reuseable \n",
    "- in one code you can write multiple function as well\n",
    "- FUNCTION ARGUMENT\n",
    "- How to pass parameter to a function & what happend to the variable when you pass to a function & if you modify the value then what happen\n",
    "- every code check with debug"
   ]
  },
  {
   "cell_type": "code",
   "execution_count": 13,
   "metadata": {},
   "outputs": [
    {
     "name": "stdout",
     "output_type": "stream",
     "text": [
      "8\n"
     ]
    }
   ],
   "source": [
    "def update(x): #update function take the value from the user\n",
    "    x = 8\n",
    "    print(x)\n",
    "    \n",
    "update(100)"
   ]
  },
  {
   "cell_type": "code",
   "execution_count": 14,
   "metadata": {},
   "outputs": [
    {
     "name": "stdout",
     "output_type": "stream",
     "text": [
      "8\n",
      "None\n"
     ]
    }
   ],
   "source": [
    "def update(x): # user want to update the value from 8 to 10 \n",
    "    x = 8\n",
    "    print(x)\n",
    "    \n",
    "print(update(10))"
   ]
  },
  {
   "cell_type": "code",
   "execution_count": 15,
   "metadata": {},
   "outputs": [
    {
     "name": "stdout",
     "output_type": "stream",
     "text": [
      "8\n",
      "None\n"
     ]
    }
   ],
   "source": [
    "def update(x):\n",
    "    x=8\n",
    "    print(x)\n",
    "\n",
    "print(update(10))"
   ]
  },
  {
   "cell_type": "code",
   "execution_count": 18,
   "metadata": {},
   "outputs": [
    {
     "name": "stdout",
     "output_type": "stream",
     "text": [
      "8\n",
      "10\n"
     ]
    }
   ],
   "source": [
    "def update(x):\n",
    "    x=8\n",
    "    print(x)\n",
    "a=10\n",
    "update(a)\n",
    "print(a)"
   ]
  },
  {
   "cell_type": "code",
   "execution_count": 19,
   "metadata": {},
   "outputs": [
    {
     "name": "stdout",
     "output_type": "stream",
     "text": [
      "x before calling: 10\n",
      "inside the fun a = 20\n",
      "x after calling: 10\n"
     ]
    }
   ],
   "source": [
    "def change(a):\n",
    "    a = a+ 10\n",
    "    print('inside the fun a =',a)\n",
    "    \n",
    "x = 10\n",
    "print('x before calling:', x)\n",
    "change(x)\n",
    "print('x after calling:', x)\n"
   ]
  },
  {
   "cell_type": "code",
   "execution_count": 20,
   "id": "d3f1677d",
   "metadata": {},
   "outputs": [
    {
     "name": "stdout",
     "output_type": "stream",
     "text": [
      "print list before calling function [10]\n",
      "inside the function [20]\n",
      "print list after calling function  [20]\n"
     ]
    }
   ],
   "source": [
    "def change(list):\n",
    "    list[0]=list[0]+10\n",
    "    print(\"inside the function\",list)\n",
    "\n",
    "list=[10]\n",
    "print(\"print list before calling function\",list)\n",
    "change(list)\n",
    "print(\"print list after calling function \", list)"
   ]
  },
  {
   "cell_type": "markdown",
   "id": "d534120b",
   "metadata": {},
   "source": []
  },
  {
   "cell_type": "code",
   "execution_count": 21,
   "metadata": {},
   "outputs": [
    {
     "name": "stdout",
     "output_type": "stream",
     "text": [
      "140723178187480\n",
      "140723178187480\n",
      "140723178187416\n",
      "x 8\n",
      "a 10\n"
     ]
    }
   ],
   "source": [
    "# by default there is not pass by value and pass by refference\n",
    "def update(x):   \n",
    "    print(id(x))\n",
    "    x = 8\n",
    "    print(id(x))\n",
    "    print('x', x)    \n",
    "\n",
    "a = 10\n",
    "print(id(a))\n",
    "update(a)\n",
    "print('a',a)"
   ]
  },
  {
   "cell_type": "markdown",
   "id": "a38cc801",
   "metadata": {},
   "source": [
    "\n",
    "- when you call a function by pass the value they will share the same memory location \n",
    "- the variabel which you pass & the variable which you accessing heear a & x refer to same obejct \n",
    "-  the above concept is neither pass by value or pass by reference\n",
    "- Interview( Normally in python we dont use pass by value or pass by reference but other programing       language it does & the reason is python is object oriented programing language "
   ]
  },
  {
   "cell_type": "markdown",
   "id": "8469c1a6",
   "metadata": {},
   "source": [
    "## TYPE OF ARGUMENTS --> formal argument & actual argument\n"
   ]
  },
  {
   "cell_type": "code",
   "execution_count": null,
   "metadata": {},
   "outputs": [
    {
     "name": "stdout",
     "output_type": "stream",
     "text": [
      "5\n",
      "18\n",
      "None\n"
     ]
    }
   ],
   "source": [
    "def add(x,y):# formal arguments\n",
    "     c = x + y\n",
    "     return c\n",
    "\n",
    "sum=add(2,3) ## actual  arguments\n",
    "print(sum)\n",
    "\n",
    "def add(a,b,d): # a & b &d called formal argument\n",
    "    c = a+b+d\n",
    "    print(c)\n",
    "    \n",
    "sum=add(5,6,7) #5 and 6 &7 we called as actual argument\n",
    "print(sum)\n",
    "  "
   ]
  },
  {
   "cell_type": "markdown",
   "id": "2d7048d7",
   "metadata": {},
   "source": [
    "## Actual arguments"
   ]
  },
  {
   "cell_type": "markdown",
   "id": "0d145d51",
   "metadata": {},
   "source": [
    "### Positional arguments"
   ]
  },
  {
   "cell_type": "code",
   "execution_count": 9,
   "metadata": {},
   "outputs": [
    {
     "name": "stdout",
     "output_type": "stream",
     "text": [
      "Name: Alice\n",
      "Age: 30\n"
     ]
    }
   ],
   "source": [
    "def person(name,age):\n",
    "    print(\"Name:\", name)\n",
    "    print(\"Age:\", age)\n",
    "\n",
    "person(\"Alice\", 30)  # positional arguments\n",
    "# this is called postion argument becuase name we assigned to position name to Alice & age to 30\n",
    "# how it know that name - Alice & age - 30 we need to take care of the position, we need to maintain the sequence but what if we dont know the sequence\n",
    "# lets check we have 10 variable and we need to assign them with position but what if we forget the sequence"
   ]
  },
  {
   "cell_type": "code",
   "execution_count": 10,
   "metadata": {},
   "outputs": [
    {
     "name": "stdout",
     "output_type": "stream",
     "text": [
      "22\n",
      "nit\n"
     ]
    }
   ],
   "source": [
    "def person(name,age):\n",
    "    print(name)\n",
    "    print(age)\n",
    "    \n",
    "person(22,'nit')\n",
    "# this is called positional argument, we need to take care of the sequence\n"
   ]
  },
  {
   "cell_type": "code",
   "execution_count": null,
   "metadata": {},
   "outputs": [
    {
     "name": "stdout",
     "output_type": "stream",
     "text": [
      "20\n"
     ]
    },
    {
     "ename": "TypeError",
     "evalue": "unsupported operand type(s) for -: 'str' and 'int'",
     "output_type": "error",
     "traceback": [
      "\u001b[1;31m---------------------------------------------------------------------------\u001b[0m",
      "\u001b[1;31mTypeError\u001b[0m                                 Traceback (most recent call last)",
      "Cell \u001b[1;32mIn[11], line 5\u001b[0m\n\u001b[0;32m      2\u001b[0m     \u001b[38;5;28mprint\u001b[39m(name)\n\u001b[0;32m      3\u001b[0m     \u001b[38;5;28mprint\u001b[39m(age\u001b[38;5;241m-\u001b[39m\u001b[38;5;241m5\u001b[39m)\n\u001b[1;32m----> 5\u001b[0m \u001b[43mperson\u001b[49m\u001b[43m(\u001b[49m\u001b[38;5;241;43m20\u001b[39;49m\u001b[43m,\u001b[49m\u001b[38;5;124;43m'\u001b[39;49m\u001b[38;5;124;43mnit\u001b[39;49m\u001b[38;5;124;43m'\u001b[39;49m\u001b[43m)\u001b[49m\n",
      "Cell \u001b[1;32mIn[11], line 3\u001b[0m, in \u001b[0;36mperson\u001b[1;34m(name, age)\u001b[0m\n\u001b[0;32m      1\u001b[0m \u001b[38;5;28;01mdef\u001b[39;00m \u001b[38;5;21mperson\u001b[39m(name,age):\n\u001b[0;32m      2\u001b[0m     \u001b[38;5;28mprint\u001b[39m(name)\n\u001b[1;32m----> 3\u001b[0m     \u001b[38;5;28mprint\u001b[39m(\u001b[43mage\u001b[49m\u001b[38;5;241;43m-\u001b[39;49m\u001b[38;5;241;43m5\u001b[39;49m)\n",
      "\u001b[1;31mTypeError\u001b[0m: unsupported operand type(s) for -: 'str' and 'int'"
     ]
    }
   ],
   "source": [
    "def person(name,age):\n",
    "    print(name)\n",
    "    print(age-5)\n",
    "    \n",
    "person(20,'nit')\n",
    "# in this case we cant assign name - 20 & age to 'nit' then we can assign them as keyword \n",
    "# this code not give you error but output is in different format\n"
   ]
  },
  {
   "cell_type": "code",
   "execution_count": 12,
   "metadata": {},
   "outputs": [
    {
     "name": "stdout",
     "output_type": "stream",
     "text": [
      "nit\n",
      "15\n"
     ]
    }
   ],
   "source": [
    "def person(name,age):\n",
    "    print(name)\n",
    "    print(age-5)\n",
    "    \n",
    "person('nit',20) \n",
    "\n",
    "# in this case we cant assign name - 20 & age to 'nit' then we can assign them as keyword \n",
    "# this code not give you error but output is in different format"
   ]
  },
  {
   "cell_type": "markdown",
   "id": "4d1a1c66",
   "metadata": {},
   "source": [
    "### keyword argument"
   ]
  },
  {
   "cell_type": "code",
   "execution_count": 14,
   "metadata": {},
   "outputs": [
    {
     "name": "stdout",
     "output_type": "stream",
     "text": [
      "nit\n",
      "15\n"
     ]
    }
   ],
   "source": [
    "def person(name,age):\n",
    "    print(name)\n",
    "    print(age-5)\n",
    "    \n",
    "person(age = 20, name = 'nit') \n",
    "\n",
    "\n",
    "# this is called keyword argument, we can assign them in any order"
   ]
  },
  {
   "cell_type": "code",
   "execution_count": 15,
   "metadata": {},
   "outputs": [
    {
     "name": "stdout",
     "output_type": "stream",
     "text": [
      "nit\n",
      "20\n",
      "30\n"
     ]
    }
   ],
   "source": [
    "def person(name, age,age2):\n",
    "    print(name)\n",
    "    print(age)\n",
    "    print(age2)\n",
    "\n",
    "person(name='nit', age=20, age2=30)  # keyword arguments"
   ]
  },
  {
   "cell_type": "markdown",
   "id": "3b7b1fc4",
   "metadata": {},
   "source": [
    "## default argument\n",
    "- while you open meta account minumu age criterial is so. by default age is 18 "
   ]
  },
  {
   "cell_type": "code",
   "execution_count": 17,
   "metadata": {},
   "outputs": [
    {
     "name": "stdout",
     "output_type": "stream",
     "text": [
      "Alice\n",
      "25\n",
      "Bob\n",
      "18\n"
     ]
    }
   ],
   "source": [
    "def person(name, age=18):\n",
    "    print(name)\n",
    "    print(age)\n",
    "\n",
    "person('Alice', 25) # positional argument with default value\n",
    "person('Bob')  # positional argument with default value"
   ]
  },
  {
   "cell_type": "markdown",
   "id": "ceb5b51e",
   "metadata": {},
   "source": [
    "### variable length argument"
   ]
  },
  {
   "cell_type": "code",
   "execution_count": 18,
   "id": "05405c0c",
   "metadata": {},
   "outputs": [
    {
     "name": "stdout",
     "output_type": "stream",
     "text": [
      "6\n"
     ]
    }
   ],
   "source": [
    "def sum(a, b, c):\n",
    "    print(a + b + c)\n",
    "    \n",
    "sum(1, 2, 3)  # \n",
    "    "
   ]
  },
  {
   "cell_type": "code",
   "execution_count": 20,
   "metadata": {},
   "outputs": [
    {
     "ename": "TypeError",
     "evalue": "add() takes 2 positional arguments but 6 were given",
     "output_type": "error",
     "traceback": [
      "\u001b[1;31m---------------------------------------------------------------------------\u001b[0m",
      "\u001b[1;31mTypeError\u001b[0m                                 Traceback (most recent call last)",
      "Cell \u001b[1;32mIn[20], line 4\u001b[0m\n\u001b[0;32m      1\u001b[0m \u001b[38;5;28;01mdef\u001b[39;00m \u001b[38;5;21madd\u001b[39m(a,b):\n\u001b[0;32m      2\u001b[0m     \u001b[38;5;28mprint\u001b[39m(a \u001b[38;5;241m+\u001b[39m b)\n\u001b[1;32m----> 4\u001b[0m \u001b[43madd\u001b[49m\u001b[43m(\u001b[49m\u001b[38;5;241;43m2\u001b[39;49m\u001b[43m,\u001b[49m\u001b[43m \u001b[49m\u001b[38;5;241;43m3\u001b[39;49m\u001b[43m,\u001b[49m\u001b[43m \u001b[49m\u001b[38;5;241;43m4\u001b[39;49m\u001b[43m,\u001b[49m\u001b[43m \u001b[49m\u001b[38;5;241;43m5\u001b[39;49m\u001b[43m,\u001b[49m\u001b[43m \u001b[49m\u001b[38;5;241;43m6\u001b[39;49m\u001b[43m,\u001b[49m\u001b[43m \u001b[49m\u001b[38;5;241;43m7\u001b[39;49m\u001b[43m)\u001b[49m  \u001b[38;5;66;03m# this will give error because we are passing more than 2 arguments but function is defined with only 2 arguments\u001b[39;00m\n",
      "\u001b[1;31mTypeError\u001b[0m: add() takes 2 positional arguments but 6 were given"
     ]
    }
   ],
   "source": [
    "def add(a,b):\n",
    "    print(a + b)\n",
    "    \n",
    "add(2, 3, 4, 5, 6, 7)  # this will give error because we are passing more than 2 arguments but function is defined with only 2 arguments"
   ]
  },
  {
   "cell_type": "code",
   "execution_count": 22,
   "metadata": {},
   "outputs": [
    {
     "name": "stdout",
     "output_type": "stream",
     "text": [
      "2\n",
      "(3, 4, 5, 6, 7)\n",
      "<class 'int'>\n",
      "<class 'tuple'>\n"
     ]
    }
   ],
   "source": [
    "def add(a,*b):\n",
    "    print(a)\n",
    "    print(b)\n",
    "    print(type(a))\n",
    "    print(type(b))\n",
    "add(2, 3, 4, 5, 6, 7)  # this will not give error because we are using *args which allows us to pass variable number of arguments"
   ]
  },
  {
   "cell_type": "markdown",
   "id": "83f5d81d",
   "metadata": {},
   "source": [
    "### KWARGs key worded variable length arguments"
   ]
  },
  {
   "cell_type": "code",
   "execution_count": 23,
   "metadata": {},
   "outputs": [
    {
     "name": "stdout",
     "output_type": "stream",
     "text": [
      "Name: Alice\n",
      "Data: (30, 'Engineer', 'New York')\n"
     ]
    }
   ],
   "source": [
    "def person(name, *data):\n",
    "    print(\"Name:\", name)\n",
    "    print(\"Data:\", data)\n",
    "\n",
    "person(\"Alice\", 30, \"Engineer\", \"New York\")  # variable-length arguments"
   ]
  },
  {
   "cell_type": "code",
   "execution_count": null,
   "metadata": {},
   "outputs": [
    {
     "ename": "TypeError",
     "evalue": "person() got an unexpected keyword argument 'age'",
     "output_type": "error",
     "traceback": [
      "\u001b[1;31m---------------------------------------------------------------------------\u001b[0m",
      "\u001b[1;31mTypeError\u001b[0m                                 Traceback (most recent call last)",
      "Cell \u001b[1;32mIn[25], line 5\u001b[0m\n\u001b[0;32m      2\u001b[0m    \u001b[38;5;28mprint\u001b[39m(\u001b[38;5;124m\"\u001b[39m\u001b[38;5;124mName:\u001b[39m\u001b[38;5;124m\"\u001b[39m, name)\n\u001b[0;32m      3\u001b[0m    \u001b[38;5;28mprint\u001b[39m(\u001b[38;5;124m\"\u001b[39m\u001b[38;5;124mData:\u001b[39m\u001b[38;5;124m\"\u001b[39m, data)\n\u001b[1;32m----> 5\u001b[0m \u001b[43mperson\u001b[49m\u001b[43m(\u001b[49m\u001b[38;5;124;43m\"\u001b[39;49m\u001b[38;5;124;43mAlice\u001b[39;49m\u001b[38;5;124;43m\"\u001b[39;49m\u001b[43m,\u001b[49m\u001b[43m \u001b[49m\u001b[43mage\u001b[49m\u001b[38;5;241;43m=\u001b[39;49m\u001b[38;5;241;43m30\u001b[39;49m\u001b[43m,\u001b[49m\u001b[43m \u001b[49m\u001b[43mcity\u001b[49m\u001b[38;5;241;43m=\u001b[39;49m\u001b[38;5;124;43m\"\u001b[39;49m\u001b[38;5;124;43mNew York\u001b[39;49m\u001b[38;5;124;43m\"\u001b[39;49m\u001b[43m)\u001b[49m  \u001b[38;5;66;03m# variable-length arguments with keyword arguments  \u001b[39;00m\n",
      "\u001b[1;31mTypeError\u001b[0m: person() got an unexpected keyword argument 'age'"
     ]
    }
   ],
   "source": [
    "def person(name, *data):\n",
    "   print(\"Name:\", name)\n",
    "   print(\"Data:\", data)\n",
    "   \n",
    "person(\"Alice\", age=30, city=\"New York\")  # variable-length arguments with keyword arguments  it will give error because we are passing keyword arguments with *args which is not allowed\n"
   ]
  },
  {
   "cell_type": "code",
   "execution_count": null,
   "metadata": {},
   "outputs": [
    {
     "name": "stdout",
     "output_type": "stream",
     "text": [
      "Name: Alice\n",
      "Data: {'age': 30, 'city': 'New York', 'country': 'USA'}\n"
     ]
    }
   ],
   "source": [
    "def person(name, **data):\n",
    "    print(\"Name:\", name)\n",
    "    print(\"Data:\", data)\n",
    "\n",
    "person(\"Alice\", age=30, city=\"New York\", country=\"USA\")  # keyword arguments this will not give error because we are using **kwargs which allows us to pass variable number of keyword arguments"
   ]
  },
  {
   "cell_type": "code",
   "execution_count": 27,
   "metadata": {},
   "outputs": [],
   "source": [
    "## gloabal variable vs local variable\n",
    "## discuss about global variable and local variable\n",
    "## sometime we need to use global variable and local variable \n",
    "## sometime we create a variable inside the function and some times we create a variable outside the function\n",
    "## when we create a variable outside the function it is called global variable and when we create a variable inside the function it is called local variable\n",
    "x = 10  # global variable\n",
    "def my_function():\n",
    "    a = 5  # local variable\n",
    "    print(\"Inside function:\", a)\n",
    "    print(\"Global variable:\", x)"
   ]
  },
  {
   "cell_type": "code",
   "execution_count": 30,
   "metadata": {},
   "outputs": [
    {
     "name": "stdout",
     "output_type": "stream",
     "text": [
      "Inside function: 20\n",
      "140731662412824\n",
      "Global variable outside function: 20\n",
      "140731662412824\n"
     ]
    }
   ],
   "source": [
    "## if i want to define a global variable inside the function then we need to use global keyword\n",
    "def my_function():\n",
    "    global x  # declare x as global\n",
    "    x = 20  # modify the global variable\n",
    "    print(\"Inside function:\", x)\n",
    "    print(id(x))  # \n",
    "my_function()\n",
    "print(\"Global variable outside function:\", x)\n",
    "print(id(x))  # check the id of global variable"
   ]
  },
  {
   "cell_type": "code",
   "execution_count": 39,
   "metadata": {},
   "outputs": [
    {
     "name": "stdout",
     "output_type": "stream",
     "text": [
      "Global variable outside function: 20\n"
     ]
    }
   ],
   "source": [
    "## globals built-in function that give you the dictionary of all global variables\n",
    "x= 10  # global variable\n",
    "def update_global():\n",
    "    globals()['x'] = 20  # modify the global variable using globals() \n",
    "\n",
    "\n",
    "update_global()\n",
    "print(\"Global variable outside function:\", x)\n",
    "    "
   ]
  },
  {
   "cell_type": "markdown",
   "id": "1ab0b309",
   "metadata": {},
   "source": [
    "# pass list to function \n",
    "- Can we pass list of element in the function that function will return the count of even or odd number from the list "
   ]
  },
  {
   "cell_type": "code",
   "execution_count": 41,
   "metadata": {},
   "outputs": [
    {
     "name": "stdout",
     "output_type": "stream",
     "text": [
      "Even count: 5\n",
      "Odd count: 5\n"
     ]
    }
   ],
   "source": [
    "def count(lst):\n",
    "    even=0\n",
    "    odd=0\n",
    "    \n",
    "    for i in lst:\n",
    "        if i%2==0:\n",
    "            even+=1\n",
    "        else:\n",
    "            odd+=1\n",
    "    return even, odd\n",
    "\n",
    "lst=[1, 2, 3, 4, 5, 6, 7, 8, 9, 10]\n",
    "even_count,odd_count=count(lst)\n",
    "print(\"Even count:\", even_count)\n",
    "print(\"Odd count:\", odd_count)\n",
    "    "
   ]
  },
  {
   "cell_type": "markdown",
   "id": "6dc29de8",
   "metadata": {},
   "source": [
    "### RECURSSION - CALLING FUNCTION FROM ITSELF IS CALLED RECURSSION"
   ]
  },
  {
   "cell_type": "code",
   "execution_count": 1,
   "metadata": {},
   "outputs": [
    {
     "name": "stdout",
     "output_type": "stream",
     "text": [
      "hello\n",
      "hello\n"
     ]
    }
   ],
   "source": [
    "# i want to cal the hello multiple time\n",
    "# it will execute maximum 1000 time & in below code wish is calling by itself\n",
    "# bydefault we have 1000 limitation can we extend the recurssion limitation yes we can \n",
    "\n",
    "def wish(): #---------> 2-greeting function will executed\n",
    "    print('hello') \n",
    "    \n",
    "wish() # What if i call the function again #3---------> function calls itself is called recurssion\n",
    "\n",
    "wish() #------------> 1-at this point we are calling wish() function \n",
    "\n",
    "# it will print infinity time cuz recursion its own function "
   ]
  },
  {
   "cell_type": "code",
   "execution_count": null,
   "metadata": {},
   "outputs": [],
   "source": [
    "def wish():\n",
    "    print(\"hello\")\n",
    "    wish()\n",
    "wish()"
   ]
  },
  {
   "cell_type": "code",
   "execution_count": 4,
   "metadata": {},
   "outputs": [
    {
     "data": {
      "text/plain": [
       "3000"
      ]
     },
     "execution_count": 4,
     "metadata": {},
     "output_type": "execute_result"
    }
   ],
   "source": [
    "import sys\n",
    "sys.getrecursionlimit()"
   ]
  },
  {
   "cell_type": "code",
   "execution_count": 5,
   "metadata": {},
   "outputs": [
    {
     "name": "stdout",
     "output_type": "stream",
     "text": [
      "100\n"
     ]
    }
   ],
   "source": [
    "import sys\n",
    "sys.setrecursionlimit(100)\n",
    "print(sys.getrecursionlimit())"
   ]
  },
  {
   "cell_type": "code",
   "execution_count": null,
   "metadata": {},
   "outputs": [],
   "source": [
    "def wish():\n",
    "    print(\"hello\")\n",
    "    wish()\n",
    "wish()\n",
    "## it will print 100 times"
   ]
  },
  {
   "cell_type": "code",
   "execution_count": 8,
   "metadata": {},
   "outputs": [
    {
     "name": "stdout",
     "output_type": "stream",
     "text": [
      "24\n"
     ]
    }
   ],
   "source": [
    "def fact(n):\n",
    "    if n==0:\n",
    "        return 1\n",
    "    return n*fact(n-1)\n",
    "result=fact(4)\n",
    "print(result)"
   ]
  },
  {
   "cell_type": "markdown",
   "id": "c4cd61a8",
   "metadata": {},
   "source": [
    "### Function without name is called - ANONYMOUS FUNCTION OR LAMBDA"
   ]
  },
  {
   "cell_type": "code",
   "execution_count": 9,
   "metadata": {},
   "outputs": [
    {
     "name": "stdout",
     "output_type": "stream",
     "text": [
      "25\n"
     ]
    }
   ],
   "source": [
    "def square(a):\n",
    "    return a * a\n",
    "    \n",
    "result = square(5)\n",
    "print(result)\n",
    "# what if i dont want to call square() multiple times "
   ]
  },
  {
   "cell_type": "code",
   "execution_count": 10,
   "id": "a7715629",
   "metadata": {},
   "outputs": [
    {
     "name": "stdout",
     "output_type": "stream",
     "text": [
      "25\n"
     ]
    }
   ],
   "source": [
    "# lambda function is a small anonymous function that can take any number of arguments, but can only have one expression.\n",
    "f= lambda a: a * a  # lambda function to calculate square\n",
    "result = f(5)  # calling lambda function\n",
    "print(result)"
   ]
  },
  {
   "cell_type": "code",
   "execution_count": 11,
   "metadata": {},
   "outputs": [
    {
     "name": "stdout",
     "output_type": "stream",
     "text": [
      "11\n"
     ]
    }
   ],
   "source": [
    "# lambda with more than one argument\n",
    "f= lambda a, b: a + b  # lambda function to calculate sum\n",
    "result = f(5, 6)  # calling lambda function\n",
    "print(result)"
   ]
  },
  {
   "cell_type": "code",
   "execution_count": 12,
   "metadata": {},
   "outputs": [
    {
     "name": "stdout",
     "output_type": "stream",
     "text": [
      "125\n"
     ]
    }
   ],
   "source": [
    "# find the qube using lambda function \n",
    "f= lambda a: a * a * a  # lambda function to calculate cube\n",
    "result = f(5)  # calling lambda function\n",
    "print(result)"
   ]
  },
  {
   "cell_type": "code",
   "execution_count": 13,
   "metadata": {},
   "outputs": [
    {
     "name": "stdout",
     "output_type": "stream",
     "text": [
      "10\n"
     ]
    }
   ],
   "source": [
    "# find the addtion of 4 numbers using lambda function\n",
    "f=lambda a, b, c, d: a + b + c + d  # lambda function to calculate sum of 4 numbers\n",
    "result = f(1, 2, 3, 4)  # calling lambda function\n",
    "print(result)"
   ]
  },
  {
   "cell_type": "markdown",
   "id": "e6ed57c0",
   "metadata": {},
   "source": []
  },
  {
   "cell_type": "markdown",
   "id": "338788ed",
   "metadata": {},
   "source": [
    "### how can use lambda function with map, filter and reduce"
   ]
  },
  {
   "cell_type": "code",
   "execution_count": 15,
   "metadata": {},
   "outputs": [
    {
     "name": "stdout",
     "output_type": "stream",
     "text": [
      "[2, 4, 6, 8, 10]\n"
     ]
    }
   ],
   "source": [
    "def envens(n):\n",
    "    if n % 2 == 0:\n",
    "        return True\n",
    "    \n",
    "nums= [1, 2, 3, 4, 5, 6, 7, 8, 9, 10]\n",
    "evens = list(filter(envens, nums))  # filter even numbers using lambda function\n",
    "print(evens)  # print even numbers\n",
    "\n"
   ]
  },
  {
   "cell_type": "code",
   "execution_count": 16,
   "metadata": {},
   "outputs": [
    {
     "name": "stdout",
     "output_type": "stream",
     "text": [
      "[2, 4, 6, 8, 10]\n"
     ]
    }
   ],
   "source": [
    "# usin lambda function to filter even numbers\n",
    "nums = [1, 2, 3, 4, 5, 6, 7, 8, 9, 10]\n",
    "evens = list(filter(lambda n: n % 2 == 0, nums))  # filter even numbers using lambda function\n",
    "print(evens)  # print even numbers"
   ]
  },
  {
   "cell_type": "code",
   "execution_count": 18,
   "metadata": {},
   "outputs": [
    {
     "name": "stdout",
     "output_type": "stream",
     "text": [
      "[1, 3, 5, 7, 9.1]\n"
     ]
    }
   ],
   "source": [
    "# usinf lambda function to filter the odd number \n",
    "nums=[1,2,3,4,5,6,7,8,9.10]\n",
    "odds=list(filter(lambda n : n%2!=0,nums))\n",
    "print(odds)"
   ]
  },
  {
   "cell_type": "markdown",
   "id": "e62d6049",
   "metadata": {},
   "source": [
    "- What ever even number I have from the assigned list\n",
    "- I want to increase  that even number by 2 for example  2 become 4  || 4 become 6 || 6 become 8\n",
    "- that we will do using map function \n",
    "- this largly we are using in google map reduce programme\n",
    "- we can build using user define & lambda"
   ]
  },
  {
   "cell_type": "code",
   "execution_count": 21,
   "metadata": {},
   "outputs": [
    {
     "name": "stdout",
     "output_type": "stream",
     "text": [
      "[2, 4, 6, 8, 10]\n",
      "[4, 6, 8, 10, 12]\n"
     ]
    }
   ],
   "source": [
    "def is_even(n):\n",
    "    if n%2==0:\n",
    "        return True\n",
    "def update(n):\n",
    "    return n+2\n",
    "\n",
    "nums=[1,2,3,4,5,6,7,8,9,10]\n",
    "evens=list(filter(is_even,nums))\n",
    "print(evens)\n",
    "evensincreasedByTwo=list(map(update,evens))\n",
    "print(evensincreasedByTwo)"
   ]
  },
  {
   "cell_type": "code",
   "execution_count": 23,
   "metadata": {},
   "outputs": [
    {
     "name": "stdout",
     "output_type": "stream",
     "text": [
      "[2, 4, 6, 8, 10]\n",
      "[4, 6, 8, 10, 12]\n"
     ]
    }
   ],
   "source": [
    "# to do above task using lamda function \n",
    "nums=[1,2,3,4,5,6,7,8,9,10]\n",
    "evens=list(filter(lambda n:n%2==0,nums))\n",
    "print(evens)\n",
    "evensincreasedByTwo=list(map(lambda n:n+2,evens))\n",
    "print(evensincreasedByTwo)\n"
   ]
  },
  {
   "cell_type": "markdown",
   "id": "2f416941",
   "metadata": {},
   "source": [
    "- i want to perform reduce now \n",
    "- i want reduce all the values \n",
    "- reduce you can add only 2 values\n",
    "- [4, 12, 16, 8, 12, 4] if you sum everything then you will get 56"
   ]
  },
  {
   "cell_type": "code",
   "execution_count": 24,
   "metadata": {},
   "outputs": [
    {
     "name": "stdout",
     "output_type": "stream",
     "text": [
      "[2, 4, 6, 8, 10]\n",
      "[3, 4, 5, 6, 7, 8, 9, 10, 11, 12]\n",
      "55\n"
     ]
    }
   ],
   "source": [
    "from functools import reduce\n",
    "nums=[1,2,3,4,5,6,7,8,9,10]\n",
    "\n",
    "evens=list(filter(lambda n:n%2==0,nums))\n",
    "evensincreasedByTwo=list(map(lambda n:n+2,nums))\n",
    "sum=reduce(lambda a,b:a+b,nums)\n",
    "\n",
    "print(evens)\n",
    "print(evensincreasedByTwo)\n",
    "print(sum)"
   ]
  },
  {
   "cell_type": "markdown",
   "id": "02af361c",
   "metadata": {},
   "source": [
    "### modules\n",
    "- In Python, modules are files containing Python code that define functions, classes, and variables that can be imported and used in other Python scripts. They help organize code into logical units and facilitate code reusability. Here are some key points about modules in Python:\n",
    "- Modules are fundamental to Python's modular design philosophy, promoting code reuse, maintainability, and scalability in Python projects"
   ]
  },
  {
   "cell_type": "markdown",
   "id": "5eb83d65",
   "metadata": {},
   "source": [
    "### Standard Library Modules:\n",
    "- Python comes with a standard library of modules that provide functionalities ranging from mathematical operations (math), file I/O (os, sys), to internet protocols (urllib, http)."
   ]
  },
  {
   "cell_type": "code",
   "execution_count": 25,
   "metadata": {},
   "outputs": [],
   "source": [
    "import math"
   ]
  },
  {
   "cell_type": "markdown",
   "id": "70af9145",
   "metadata": {},
   "source": [
    "### Custom Modules: \n",
    "- You can create your own modules by writing Python code in a .py file and then import them in other scripts."
   ]
  },
  {
   "cell_type": "markdown",
   "id": "6838bcfb",
   "metadata": {},
   "source": [
    "### Module Aliasing:\n",
    "- Modules can be imported with an alias to simplify usage, especially for modules with long names or to avoid name conflicts:"
   ]
  },
  {
   "cell_type": "markdown",
   "id": "399cff09",
   "metadata": {},
   "source": [
    "### Module Search Path:\n",
    "- Python searches for modules in directories listed in sys.path. You can modify sys.path to include additional directories where your modules are located."
   ]
  },
  {
   "cell_type": "markdown",
   "id": "dee445bf",
   "metadata": {},
   "source": [
    "### Packages:\n",
    "- Packages are a way of organizing modules hierarchically. A package is a directory containing Python modules and a special __init__.py file."
   ]
  },
  {
   "cell_type": "markdown",
   "id": "cead604a",
   "metadata": {},
   "source": [
    "## Special Variable __name__ "
   ]
  },
  {
   "cell_type": "code",
   "execution_count": 26,
   "metadata": {},
   "outputs": [
    {
     "data": {
      "text/plain": [
       "'__main__'"
      ]
     },
     "execution_count": 26,
     "metadata": {},
     "output_type": "execute_result"
    }
   ],
   "source": [
    "__name__"
   ]
  },
  {
   "cell_type": "code",
   "execution_count": 28,
   "id": "af885c72",
   "metadata": {},
   "outputs": [
    {
     "data": {
      "text/plain": [
       "'math_module'"
      ]
     },
     "execution_count": 28,
     "metadata": {},
     "output_type": "execute_result"
    }
   ],
   "source": [
    "__name__ = \"math_module\"\n",
    "__name__"
   ]
  },
  {
   "cell_type": "markdown",
   "id": "8cf8ee5b",
   "metadata": {},
   "source": []
  },
  {
   "cell_type": "markdown",
   "id": "aa3248ec",
   "metadata": {},
   "source": [
    "- The moment when we print __name__ then i will get output as main\n",
    "- in your project if you have 5 modules or 10 modules there will some modules which will be run first \n",
    "- so the first module name is always __main__. thats why the code start \n",
    "- to understand indetaild review we will work with PYCHARM\n",
    "- from the main function we can call all other function \n",
    "- please work 4 file in pycharm (hi.py, bye.py, hi1-specialvariable, bye1-specialvariable)\n",
    "- refer more about chatgpt"
   ]
  },
  {
   "cell_type": "code",
   "execution_count": 33,
   "id": "7df87825",
   "metadata": {},
   "outputs": [
    {
     "name": "stdout",
     "output_type": "stream",
     "text": [
      "Hello, akhlad!\n",
      "5\n",
      "40320\n"
     ]
    }
   ],
   "source": [
    "import module1\n",
    "# using the function from module1 \n",
    "print(module1.greet('akhlad'))  # calling the greet function from module1\n",
    "print(module1.add(2, 3))  # calling the add function from module1\n",
    "print(module1.factorial(8))  # calling the add_sub function from module1\n"
   ]
  },
  {
   "cell_type": "code",
   "execution_count": null,
   "id": "1c4c46ae",
   "metadata": {},
   "outputs": [],
   "source": []
  },
  {
   "cell_type": "code",
   "execution_count": null,
   "metadata": {},
   "outputs": [],
   "source": []
  },
  {
   "cell_type": "code",
   "execution_count": null,
   "metadata": {},
   "outputs": [],
   "source": []
  },
  {
   "cell_type": "code",
   "execution_count": null,
   "id": "04c68f95",
   "metadata": {},
   "outputs": [],
   "source": []
  },
  {
   "cell_type": "code",
   "execution_count": null,
   "metadata": {},
   "outputs": [],
   "source": []
  },
  {
   "cell_type": "code",
   "execution_count": null,
   "metadata": {},
   "outputs": [],
   "source": []
  },
  {
   "cell_type": "code",
   "execution_count": null,
   "metadata": {},
   "outputs": [],
   "source": []
  },
  {
   "cell_type": "code",
   "execution_count": null,
   "metadata": {},
   "outputs": [],
   "source": []
  },
  {
   "cell_type": "code",
   "execution_count": null,
   "metadata": {},
   "outputs": [],
   "source": []
  },
  {
   "cell_type": "code",
   "execution_count": null,
   "metadata": {},
   "outputs": [],
   "source": []
  },
  {
   "cell_type": "code",
   "execution_count": null,
   "metadata": {},
   "outputs": [],
   "source": []
  },
  {
   "cell_type": "code",
   "execution_count": null,
   "metadata": {},
   "outputs": [],
   "source": []
  },
  {
   "cell_type": "code",
   "execution_count": null,
   "metadata": {},
   "outputs": [],
   "source": []
  },
  {
   "cell_type": "code",
   "execution_count": null,
   "metadata": {},
   "outputs": [],
   "source": []
  },
  {
   "cell_type": "code",
   "execution_count": null,
   "metadata": {},
   "outputs": [],
   "source": []
  },
  {
   "cell_type": "code",
   "execution_count": null,
   "metadata": {},
   "outputs": [],
   "source": []
  },
  {
   "cell_type": "code",
   "execution_count": null,
   "metadata": {},
   "outputs": [],
   "source": []
  },
  {
   "cell_type": "code",
   "execution_count": null,
   "metadata": {},
   "outputs": [],
   "source": []
  },
  {
   "cell_type": "code",
   "execution_count": null,
   "metadata": {},
   "outputs": [],
   "source": []
  },
  {
   "cell_type": "code",
   "execution_count": null,
   "metadata": {},
   "outputs": [],
   "source": []
  },
  {
   "cell_type": "code",
   "execution_count": null,
   "metadata": {},
   "outputs": [],
   "source": []
  },
  {
   "cell_type": "code",
   "execution_count": null,
   "metadata": {},
   "outputs": [],
   "source": []
  },
  {
   "cell_type": "code",
   "execution_count": null,
   "metadata": {},
   "outputs": [],
   "source": []
  },
  {
   "cell_type": "code",
   "execution_count": null,
   "metadata": {},
   "outputs": [],
   "source": []
  },
  {
   "cell_type": "code",
   "execution_count": null,
   "metadata": {},
   "outputs": [],
   "source": []
  },
  {
   "cell_type": "code",
   "execution_count": null,
   "metadata": {},
   "outputs": [],
   "source": []
  },
  {
   "cell_type": "code",
   "execution_count": null,
   "metadata": {},
   "outputs": [],
   "source": []
  },
  {
   "cell_type": "code",
   "execution_count": null,
   "metadata": {},
   "outputs": [],
   "source": []
  },
  {
   "cell_type": "code",
   "execution_count": null,
   "metadata": {},
   "outputs": [],
   "source": []
  },
  {
   "cell_type": "code",
   "execution_count": null,
   "metadata": {},
   "outputs": [],
   "source": []
  },
  {
   "cell_type": "code",
   "execution_count": null,
   "metadata": {},
   "outputs": [],
   "source": []
  },
  {
   "cell_type": "code",
   "execution_count": null,
   "metadata": {},
   "outputs": [],
   "source": []
  },
  {
   "cell_type": "code",
   "execution_count": null,
   "metadata": {},
   "outputs": [],
   "source": []
  },
  {
   "cell_type": "code",
   "execution_count": null,
   "metadata": {},
   "outputs": [],
   "source": []
  },
  {
   "cell_type": "code",
   "execution_count": null,
   "metadata": {},
   "outputs": [],
   "source": []
  },
  {
   "cell_type": "code",
   "execution_count": null,
   "id": "f963c15f",
   "metadata": {},
   "outputs": [],
   "source": []
  },
  {
   "cell_type": "code",
   "execution_count": null,
   "id": "125be2bb",
   "metadata": {},
   "outputs": [],
   "source": []
  },
  {
   "cell_type": "code",
   "execution_count": null,
   "id": "b1fd4d30",
   "metadata": {},
   "outputs": [],
   "source": []
  },
  {
   "cell_type": "code",
   "execution_count": null,
   "id": "588ea4e4",
   "metadata": {},
   "outputs": [],
   "source": []
  },
  {
   "cell_type": "code",
   "execution_count": null,
   "id": "839ad2eb",
   "metadata": {},
   "outputs": [],
   "source": []
  },
  {
   "cell_type": "code",
   "execution_count": null,
   "id": "f553439d",
   "metadata": {},
   "outputs": [],
   "source": []
  },
  {
   "cell_type": "code",
   "execution_count": null,
   "id": "070bb964",
   "metadata": {},
   "outputs": [],
   "source": []
  }
 ],
 "metadata": {
  "kernelspec": {
   "display_name": "Python 3",
   "language": "python",
   "name": "python3"
  },
  "language_info": {
   "codemirror_mode": {
    "name": "ipython",
    "version": 3
   },
   "file_extension": ".py",
   "mimetype": "text/x-python",
   "name": "python",
   "nbconvert_exporter": "python",
   "pygments_lexer": "ipython3",
   "version": "3.12.7"
  }
 },
 "nbformat": 4,
 "nbformat_minor": 5
}
